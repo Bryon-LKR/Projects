{
 "cells": [
  {
   "cell_type": "markdown",
   "metadata": {},
   "source": [
    "# DBA3701/DSC3214 Introduction to Optimization\n",
    "## Individual Project"
   ]
  },
  {
   "cell_type": "markdown",
   "metadata": {},
   "source": [
    "# TABLE OF CONTENTS\n",
    "\n",
    "* [1. INTRODUCTION](#section-one)\n",
    "    - [1.1 Objective and Motivation](#subsection-one-one)\n",
    "    - [1.2 Problem Description](#subsection-one-two)\n",
    "    \n",
    "\n",
    "* [2. MODEL FORMULATION](#section-two)\n",
    "    - [2.1 Sets](#subsection-two-one)\n",
    "    - [2.2 Parameters](#subsection-two-two)\n",
    "    - [2.3 Decision Variables](#subsection-two-three)\n",
    "    - [2.4 Primary Objective Function & Constraints](#subsection-two-four)\n",
    "    - [2.5 Secondary Objective Function & Constraints](#subsection-two-five)\n",
    "\n",
    "\n",
    "* [3. SETUP](#section-three)\n",
    "    - [3.1 Importing Packages](#subsection-four-one)\n",
    "    - [3.2 Inputting Data](#subsection-four-two)\n",
    "\n",
    "\n",
    "* [4. OPTIMIZATION MODEL](#section-four)\n",
    "    - [4.1 Creating Initial Model](#subsection-four-one)\n",
    "    - [4.2 Including Decision Variables](#subsection-four-two)\n",
    "    - [4.3 Adding Constraints](#subsection-four-three)\n",
    "    - [4.4 Defining Objective Functions](#subsection-four-four)\n",
    "    - [4.5 Running Optimization Engine](#subsection-four-five)\n",
    "    - [4.6 Running Checks on Optimization Engine](#subsection-four-six)\n",
    "\n",
    "\n",
    "* [5. PROBLEM SOLUTION VISUALIZATION](#section-five)\n",
    "    - [5.1 Slack Required in Optimal Solution](#subsection-five-one)\n",
    "    - [5.2 Number of Shifts Worked for Each Worker](#subsection-five-two)\n",
    "    - [5.3 Gantt Chart of Optimal Work Plan Schedule](#subsection-five-three)\n",
    "\n",
    "\n",
    "* [6. ANALYSIS OF OPTIMZATION PROBLEM](#section-six)\n",
    "\n",
    "\n",
    "* [7. CONCLUSION](#section-seven)"
   ]
  },
  {
   "cell_type": "markdown",
   "metadata": {},
   "source": [
    "<a id=\"section-one\"></a>\n",
    "# 1. INTRODUCTION"
   ]
  },
  {
   "cell_type": "markdown",
   "metadata": {},
   "source": [
    "This project notebook describes a workforce scheduling optimization problem that can be used for a variety of businesses that require employee scheduling. It is most commonly used in the services industry as their workers work in shifts and companies in this industry often employ part-time staff that are paid hourly.\n",
    "\n",
    "The problem is formulated as a multi-objective mixed-integer-programming (MIP) model. The model is implemented using the Gurobi Python API and solved using the Gurobi Optimizer."
   ]
  },
  {
   "cell_type": "markdown",
   "metadata": {},
   "source": [
    "<a id=\"subsection-one-one\"></a>\n",
    "## 1.1 Objective and Motivation"
   ]
  },
  {
   "cell_type": "markdown",
   "metadata": {},
   "source": [
    "Within the services industry, it's people are the most important asset as well as the largest source of costs. Therefore, it is important for these companies to properly allocate their workforce resources optimally. The allocation of workforce and scheduling of personnel deals with the arrangement of work schedules and assignment of personnel shifts. Doing this optimally will allow these companies to meet demand for the products and services that varies over time.\n",
    "\n",
    "This scheduling problem is important for companies in the services industry who provide services by relying on workforce resources such as:\n",
    "\n",
    "- Hospital Nurses\n",
    "- Restaurant Staff\n",
    "- Supermarket Workers\n",
    "- Hospitality and Tourism Personnel\n",
    "- Transport Service Staff (E.g. Airline crew, Uber Drivers, Bus Drivers)"
   ]
  },
  {
   "cell_type": "markdown",
   "metadata": {},
   "source": [
    "<a id=\"subsection-one-two\"></a>\n",
    "## 1.2 Problem Description"
   ]
  },
  {
   "cell_type": "markdown",
   "metadata": {},
   "source": [
    "IKEA is a megastore that designs and sells ready-to-assemble furniture, kitchen appliances and home accessories, among other useful goods. To keep their displays and shelves clean and presentable to customers, they employ a team of staff that work in shifts to maintain their stores and cater to customer enquiries. This service requires only one set of skills and there are a total of 8 registered workers that are contracted with IKEA. They all possess same set of skills and are assumed to have identical productivity. However, these workers have limited availibility and are only able to work on some of the days. \n",
    "\n",
    "A human resource manager of IKEA Tampines wishes to develop a workforce plan that can allocate manpower into a daily schedule for the next two weeks (with a 7-day work week). The store has currently contracted 8 workers that are fully employed. However, as the flow of customers into these stores fluctuate significantly with cyclical changes days, weeks and months, she has opted to employ part-time workers to fill in for periods of higher demand. If there is a lack of manpower for any particular day, IKEA may hire extra workers from an external agency to satisfy shift requirements. There is only one shift per workday and each workday may have different resource (worker) requirements.\n",
    "\n",
    "In this problem, the head human resource manager in IKEA wishes to minimize the number of extra workers that she needs to hire in order to meet daily demand. And as a secondary objective, she wants to balance the workload of employed workers to ensure fairness."
   ]
  },
  {
   "cell_type": "markdown",
   "metadata": {},
   "source": [
    "<a id=\"section-two\"></a>\n",
    "# 2. MODEL FORMULATION"
   ]
  },
  {
   "cell_type": "markdown",
   "metadata": {},
   "source": [
    "In this section, the components of the workforce scheduling optimization model will be defined and the key components of this complex decision problem will be formulated into an mathematical optimization problem. In later sections, these formulas will be utilized in mathematical programming which allows the Gurobi model to solve the mathematical optimization problem.\n",
    "\n",
    "A mathematical optimization model has five components:\n",
    "- Sets.\n",
    "- Parameters.\n",
    "- Decision variables.\n",
    "- Constraints.\n",
    "- Objective function(s)."
   ]
  },
  {
   "cell_type": "markdown",
   "metadata": {},
   "source": [
    "<a id=\"subsection-two-one\"></a>\n",
    "## 2.1 Sets"
   ]
  },
  {
   "cell_type": "markdown",
   "metadata": {},
   "source": [
    "$s \\in \\text{shifts}$: Index of shift $s$ within set of $\\text{shifts}$.\n",
    "\n",
    "$w \\in workers$: Index of employed worker $w$ within set of all employed $workers$.\n",
    "\n",
    "$availability= \\{(w,s): w \\in workers \\; \\text{is available for} \\; s \\in \\text{shifts} \\}$: This set determines if an employed worker  $w$ is available to work in shift $s$."
   ]
  },
  {
   "cell_type": "markdown",
   "metadata": {},
   "source": [
    "<a id=\"subsection-two-two\"></a>\n",
    "## 2.2 Parameters"
   ]
  },
  {
   "cell_type": "markdown",
   "metadata": {},
   "source": [
    "### Inputted Parameters\n",
    "$\\text{shiftRequirements}(s) \\in \\mathbb{N}$: This parameter represents the number of workers required for each shift \n",
    "$s \\in \\text{shifts}$.\n",
    "\n",
    "$pay(w) \\in \\mathbb{R^{+}}$: This parameter represents the salary per shift of each worker $w \\in workers$. \n",
    "\n",
    "$relTol$: This parameter represents the relative tolerance. It allows the model to deviate from the values derived from the optimal objective function of the primary objective, when solving the optimization model for the secondary objective.\n",
    "\n",
    "### Computed Parameters\n",
    "These parameters are computed from the input parameters and/or from the optimization process.\n",
    "\n",
    "$Opt(totSlack)$: This parameter is the minimum value of extra workers required to fill demand. "
   ]
  },
  {
   "cell_type": "markdown",
   "metadata": {},
   "source": [
    "<a id=\"subsection-two-three\"></a>\n",
    "## 2.3 Decision Variables"
   ]
  },
  {
   "cell_type": "markdown",
   "metadata": {},
   "source": [
    "$x(w,s) \\in \\{0,1\\}$: This variable equals 1 if worker $w \\in workers$ is assigned to shift $s \\in \\text{shifts}$, \n",
    "and 0 otherwise.\n",
    "This decision variable is defined over the $availability$ set.\n",
    "\n",
    "$Slack(s) \\geq 0$: This variable is the number of extra workers required to satisfy the requirements of shift $s$.\n",
    "\n",
    "### Auxiliary Variables\n",
    "Auxiliary variables are derived from the values of the decision variables.\n",
    "\n",
    "$totSlack$: This variable counts the total number of extra workers required to satisfy the demand for employed workers.\n",
    "\n",
    "$\\text{totShifts}(w)$: This variable counts the total number of shifts worked by each worker $w \\in workers$.\n",
    "\n",
    "$\\text{minShift}$: This variable determines the minimum number of shifts allocated to all workers. \n",
    "\n",
    "$\\text{maxShift}$: This variable  determines the maximum number of shifts allocated to all workers."
   ]
  },
  {
   "cell_type": "markdown",
   "metadata": {},
   "source": [
    "<a id=\"subsection-two-four\"></a>\n",
    "## 2.4 Primary Objective Function and Constraints"
   ]
  },
  {
   "cell_type": "markdown",
   "metadata": {},
   "source": [
    "### Objective Function\n",
    "- **Primary objective:** The objective function is to minimize the number of extra workers required to meet demand. \n",
    "\n",
    "\\begin{equation}\n",
    "\\text{Min} \\quad totSlack\n",
    "\\tag{0}\n",
    "\\end{equation}\n",
    "\n",
    "### Constraints\n",
    "\n",
    "- **Shift requirements:**  All shift requirements must be satisfied. \n",
    "\n",
    "\\begin{equation}\n",
    "\\sum_{w \\: \\in \\: workers} x(w,s)  +  Slack(s) = \\text{shiftRequirements}(s) \\quad \\forall \\; s \\in \\text{shifts}\n",
    "\\tag{1}\n",
    "\\end{equation}\n",
    "\n",
    "- **Temps:** Computes the total number of extra workers required for the two-week schedule.\n",
    "\n",
    "\\begin{equation}\n",
    "\\sum_{s \\: \\in \\: \\text{shifts}} Slack(s) =  totSlack \n",
    "\\tag{2}\n",
    "\\end{equation}\n",
    "\n",
    "- **Shifts:**  Computes the total number of shifts each worker works.\n",
    "\n",
    "\\begin{equation}\n",
    "\\sum_{s \\: \\in \\: \\text{shifts}} x(w,s)  = \\text{totShifts}(w) \\quad \\forall \\; w \\in workers\n",
    "\\tag{3}\n",
    "\\end{equation}\n",
    "\n",
    "- **Binary and non-negativity constraints:**\n",
    "\n",
    "$$\n",
    "x(w,s) \\in \\{0, 1 \\}  \\quad \\forall \\; (w,s) \\in availability\n",
    "$$\n",
    "\n",
    "$$\n",
    "Slack(s) \\geq 0 \\quad  \\forall \\; s \\in \\text{shifts}\n",
    "$$\n",
    "\n",
    "$$\n",
    "\\text{totShifts}(w) \\geq 0 \\quad \\forall \\; w \\in workers\n",
    "$$\n",
    "\n",
    "$$\n",
    "totSlack  \\geq 0\n",
    "$$\n",
    "\n",
    "The parameter $Opt(totSlack)$ is set to be equal to the minimum number of extra workers required to satisfy demand. That is, $Opt(totSlack) = totSlack^{*} $, where $totSlack^{*} $ is the optimal value of the variable $totSlack$.\n",
    "\n",
    "For a given relative tolerance of primary objective $relTol$, we now solve the following model where we minimize the secondary objective."
   ]
  },
  {
   "cell_type": "markdown",
   "metadata": {},
   "source": [
    "<a id=\"subsection-two-five\"></a>\n",
    "## 2.5 Secondary Objective Function and Constraints"
   ]
  },
  {
   "cell_type": "markdown",
   "metadata": {},
   "source": [
    "- **Secondary objective:** This objective function minimizes the difference between the maximum number of shifts allocated to a worker, and the minimum number of shifts allocated to a worker. \n",
    "\n",
    "\\begin{equation}\n",
    "\\text{Min} \\quad ( \\text{maxShift} -  \\text{minShift} )\n",
    "\\tag{4}\n",
    "\\end{equation}\n",
    "\n",
    "### Constraints\n",
    "\n",
    "- **Shift requirements:**  All shifts requirements most be satisfied.\n",
    "\n",
    "\\begin{equation}\n",
    "\\sum_{w \\: \\in \\: workers} x(w,s)  +  Slack(s) = \\text{shiftRequirements}(s) \\quad \\forall \\; s \\in \\text{shifts}\n",
    "\\tag{1}\n",
    "\\end{equation}\n",
    "\n",
    "\n",
    "- **Relative tolerance:**  Ensures that the total number of extra workers (totSlack) minimized by the primary objective is satisfied up to a tolerance percentage.\n",
    "\n",
    "\\begin{equation}\n",
    "\\sum_{s \\: \\in \\: shifts} Slack(s) \\leq (1+relTol)*Opt(totSlack)\n",
    "\\tag{5}\n",
    "\\end{equation}\n",
    "\n",
    "- **Shifts:**  Computes the total number of shifts worked by each employed worker.\n",
    "\n",
    "\\begin{equation}\n",
    "\\sum_{s \\: \\in \\: \\text{shifts}} x(w,s)  = \\text{totShifts}(w) \\quad \\forall \\; w \\in workers\n",
    "\\tag{3}\n",
    "\\end{equation}\n",
    "\n",
    "- **Minimum shifts:**  Computes the minimum number of shifts allocated to an employed worker.\n",
    "\n",
    "\\begin{equation}\n",
    "\\text{minShift} = \\text{Min} \\{\\text{totShifts}(w): \\ w \\; in \\; workers \\}  \n",
    "\\tag{6}\n",
    "\\end{equation}\n",
    "\n",
    "\n",
    "- **Maximum shifts:**  Computes the maximum number of shifts allocated to an employed worker.\n",
    "\n",
    "\\begin{equation}\n",
    "\\text{maxShift} = \\text{Max} \\{\\text{totShifts}(w): \\ w \\; in \\; workers \\}\n",
    "\\tag{7}\n",
    "\\end{equation}\n",
    "\n",
    "- **Binary and non-negativity constraints:**\n",
    "\n",
    "$$\n",
    "x(w,s) \\in \\{0, 1 \\}  \\quad \\forall \\; (w,s) \\in availability\n",
    "$$\n",
    "\n",
    "$$\n",
    "Slack(s) \\geq 0 \\quad  \\forall \\; s \\in \\text{shifts}\n",
    "$$\n",
    "\n",
    "$$\n",
    "\\text{totShifts}(w) \\geq 0 \\quad   \\forall \\; w \\in workers\n",
    "$$\n",
    "\n",
    "$$\n",
    "\\text{maxShift},  \\text{minShift}   \\geq 0\n",
    "$$\n"
   ]
  },
  {
   "cell_type": "markdown",
   "metadata": {},
   "source": [
    "<a id=\"section-three\"></a>\n",
    "# 3. SETUP"
   ]
  },
  {
   "cell_type": "markdown",
   "metadata": {},
   "source": [
    "<a id=\"subsection-three-one\"></a>\n",
    "## 3.1 Importing Packages"
   ]
  },
  {
   "cell_type": "code",
   "execution_count": 1,
   "metadata": {},
   "outputs": [],
   "source": [
    "import pandas as pd\n",
    "from pylab import *\n",
    "import matplotlib\n",
    "import matplotlib.pyplot as plt\n",
    "\n",
    "import gurobipy as gp\n",
    "from gurobipy import GRB"
   ]
  },
  {
   "cell_type": "markdown",
   "metadata": {},
   "source": [
    "<a id=\"subsection-three-two\"></a>\n",
    "## 3.2 Inputting Data"
   ]
  },
  {
   "cell_type": "markdown",
   "metadata": {},
   "source": [
    "### Parameter\n",
    "\n",
    "$\\text{shiftRequirements}(s) \\in \\mathbb{N}$: This parameter represents the number of workers required at each shift \n",
    "$s \\in \\text{shifts}$.\n",
    "\n",
    "This parameter acts as the demand constraint for workers on any particular shift. As you can see, the IKEA Tampines store requires more workers on Fridays and the weekend (Saturdays and Sundays) as the store experiences a higher inflow of customers on those days."
   ]
  },
  {
   "cell_type": "code",
   "execution_count": 2,
   "metadata": {},
   "outputs": [],
   "source": [
    "# Number of workers required for each shift.\n",
    "shifts, shiftRequirements = gp.multidict({\n",
    "    \"Mon1\":  5,\n",
    "    \"Tue2\":  4,\n",
    "    \"Wed3\":  5,\n",
    "    \"Thu4\":  3,\n",
    "    \"Fri5\":  6,\n",
    "    \"Sat6\":  7,\n",
    "    \"Sun7\":  8,\n",
    "    \"Mon8\":  4,\n",
    "    \"Tue9\":  3,\n",
    "    \"Wed10\": 4,\n",
    "    \"Thu11\": 5,\n",
    "    \"Fri12\": 7,\n",
    "    \"Sat13\": 8,\n",
    "    \"Sun14\": 8 \n",
    "})"
   ]
  },
  {
   "cell_type": "markdown",
   "metadata": {},
   "source": [
    "### Parameter\n",
    "\n",
    "$pay(w) \\in \\mathbb{R^{+}}$: This parameter is the salary per shift of each worker $w \\in workers$. \n",
    "\n",
    "The company currently has 8 workers employed. Each worker is paid a different amount to work one shift. This differs based on seniority and the initial salary which they have negotiated from the company."
   ]
  },
  {
   "cell_type": "code",
   "execution_count": 3,
   "metadata": {},
   "outputs": [],
   "source": [
    "# Amount each worker is paid to work one shift.\n",
    "workers, pay = gp.multidict({\n",
    "    \"Jonathan\": 95,\n",
    "    \"Jason\":    100,\n",
    "    \"Jashan\":   90,\n",
    "    \"Benedict\": 100,\n",
    "    \"Bryon\":    85,\n",
    "    \"Emily\":    110,\n",
    "    \"Sarah\":    90,\n",
    "    \"Megan\":    80\n",
    "})"
   ]
  },
  {
   "attachments": {
    "image.png": {
     "image/png": "[encoded data removed]"
    }
   },
   "cell_type": "markdown",
   "metadata": {},
   "source": [
    "### Set\n",
    "\n",
    "$availability= \\{(w,s): w \\in workers \\; \\text{is available for} \\; s \\in \\text{shifts} \\}$: This set determines that the employed worker  $w$ is available to work on shift $s$.\n",
    "\n",
    "This set acts as the supply constraint for the availablity of employed workforce supply for each particular shift. Each worker has a different set of availability over the course of the two-week schedule. \n",
    "\n",
    "Workers in IKEA are required to update their manager of their availability every two weeks through an excel spreadsheet as seen below. 'TRUE' values are highlighted in green and indicates that the worker is available to work on that particular shift. 'FALSE' values are highlighted in red and indicates that the worker is not available to work on that particular shift.\n",
    "\n",
    "![image.png](attachment:image.png)\n",
    "\n",
    "This excel spreadsheet can then be converted into the following tuplelist which defines their availability."
   ]
  },
  {
   "cell_type": "code",
   "execution_count": 4,
   "metadata": {},
   "outputs": [],
   "source": [
    "# Worker availability: defines on which day each employed worker is available.\n",
    "\n",
    "availability = gp.tuplelist([\n",
    "    ('Jonathan', 'Mon1'), ('Jonathan', 'Tue2'), ('Jonathan', 'Wed3'), ('Jonathan', 'Sat6'), ('Jonathan', 'Sun7'), \n",
    "    ('Jonathan', 'Mon8'), ('Jonathan', 'Wed10'), ('Jonathan', 'Fri12'), ('Jonathan', 'Sat13'), \n",
    "    \n",
    "    ('Jason', 'Tue2'), ('Jason', 'Wed3'), ('Jason', 'Fri5'), ('Jason', 'Sat6'), \n",
    "    ('Jason', 'Mon8'), ('Jason', 'Tue9'), ('Jason', 'Thu11'), ('Jason', 'Fri12'), ('Jason', 'Sun14'), \n",
    "    \n",
    "    ('Jashan', 'Mon1'), ('Jashan', 'Tue2'), ('Jashan', 'Fri5'), ('Jashan', 'Sun7'), \n",
    "    ('Jashan', 'Mon8'), ('Jashan', 'Thu11'), ('Jashan', 'Fri12'), ('Jashan', 'Sat13'), ('Jashan', 'Sun14'), \n",
    "    \n",
    "    ('Benedict', 'Wed3'), ('Benedict', 'Fri5'), ('Benedict', 'Sat6'), ('Benedict', 'Sun7'),\n",
    "    ('Benedict', 'Mon8'), ('Benedict', 'Wed10'), ('Benedict', 'Thu11'), ('Benedict', 'Fri12'), ('Benedict', 'Sat13'), \n",
    "    \n",
    "    ('Bryon', 'Mon1'), ('Bryon', 'Wed3'), ('Bryon', 'Fri5'), ('Bryon', 'Sun7'), \n",
    "    ('Bryon', 'Mon8'), ('Bryon', 'Tue9'), ('Bryon', 'Thu11'), ('Bryon', 'Sat13'), ('Bryon', 'Sun14'), \n",
    "    \n",
    "    ('Emily', 'Wed3'), ('Emily', 'Thu4'), ('Emily', 'Fri5'), ('Emily', 'Sat6'), ('Emily', 'Sun7'),\n",
    "    ('Emily', 'Wed10'), ('Emily', 'Thu11'), ('Emily', 'Fri12'), ('Emily', 'Sun14'),\n",
    "    \n",
    "    ('Sarah', 'Mon1'), ('Sarah', 'Wed3'), ('Sarah', 'Thu4'), ('Sarah', 'Sun7'), \n",
    "    ('Sarah', 'Tue9'), ('Sarah', 'Wed10'), ('Sarah', 'Fri12'), ('Sarah', 'Sat13'), ('Sarah', 'Sun14'),\n",
    "    \n",
    "    ('Megan', 'Mon1'), ('Megan', 'Tue2'), ('Megan', 'Thu4'), ('Megan', 'Fri5'), ('Megan', 'Sat6'),\n",
    "    ('Megan', 'Mon8'), ('Megan', 'Tue9'), ('Megan', 'Wed10'), ('Megan', 'Fri12'), ('Megan', 'Sat13'),\n",
    "])"
   ]
  },
  {
   "cell_type": "markdown",
   "metadata": {},
   "source": [
    "<a id=\"section-four\"></a>\n",
    "# 4. OPTIMIZATION MODEL"
   ]
  },
  {
   "cell_type": "markdown",
   "metadata": {},
   "source": [
    "<a id=\"subsection-four-one\"></a>\n",
    "## 4.1 Creating Initial Model"
   ]
  },
  {
   "cell_type": "code",
   "execution_count": 5,
   "metadata": {},
   "outputs": [
    {
     "name": "stdout",
     "output_type": "stream",
     "text": [
      "Using license file C:\\Users\\Bryon Liew\\gurobi.lic\n",
      "Academic license - for non-commercial use only - expires 2021-01-09\n"
     ]
    }
   ],
   "source": [
    "# Create initial model.\n",
    "m = gp.Model(\"workforce_scheduling\")"
   ]
  },
  {
   "cell_type": "markdown",
   "metadata": {},
   "source": [
    "<a id=\"subsection-four-two\"></a>\n",
    "## 4.2 Including Decision Variables"
   ]
  },
  {
   "cell_type": "markdown",
   "metadata": {},
   "source": [
    "### Decision Variables"
   ]
  },
  {
   "cell_type": "markdown",
   "metadata": {},
   "source": [
    "$x(w,s) \\in \\{0,1\\}$: This variable equals 1 if worker $w \\in workers$ is assigned to shift $s \\in \\text{shifts}$, \n",
    "and 0 otherwise.\n",
    "This decision variable is defined over the $availability$ set."
   ]
  },
  {
   "cell_type": "code",
   "execution_count": 6,
   "metadata": {},
   "outputs": [],
   "source": [
    "# Initialize assignment decision variables.\n",
    "\n",
    "x = m.addVars(availability, vtype=GRB.BINARY, name=\"x\")"
   ]
  },
  {
   "cell_type": "markdown",
   "metadata": {},
   "source": [
    "$Slack(s) \\geq 0$: This variable is the number of extra workers required to satisfy the requirements of shift $s$."
   ]
  },
  {
   "cell_type": "code",
   "execution_count": 7,
   "metadata": {},
   "outputs": [],
   "source": [
    "# Slack decision variables determines the number of extra workers required to satisfy the demand requirements of each shift\n",
    "slacks = m.addVars(shifts, name=\"Slack\")"
   ]
  },
  {
   "cell_type": "markdown",
   "metadata": {},
   "source": [
    "### Auxiliary Variables\n",
    "Auxiliary variables are derived from the values of the decision variables."
   ]
  },
  {
   "cell_type": "markdown",
   "metadata": {},
   "source": [
    "$totSlack$: This variable counts the total number of extra workers required to satisfy the demand for shift workers."
   ]
  },
  {
   "cell_type": "code",
   "execution_count": 8,
   "metadata": {},
   "outputs": [],
   "source": [
    "# Auxiliary variable totSlack represents the total number of extra workers required to satisfy all shifts demand requirements.\n",
    "totSlack = m.addVar(name='totSlack')"
   ]
  },
  {
   "cell_type": "markdown",
   "metadata": {},
   "source": [
    "$\\text{totShifts}(w)$: This variable counts the total number of shifts worked by each employed worker $w \\in workers$.\n",
    "\n",
    "$\\text{minShift}$: This variable determines the minimum number of shifts allocated to allocated to employed workers. \n",
    "\n",
    "$\\text{maxShift}$: This variable  determines the maximum number of shifts allocated to allocated to employed workers."
   ]
  },
  {
   "cell_type": "code",
   "execution_count": 9,
   "metadata": {},
   "outputs": [],
   "source": [
    "# Auxiliary variable totShifts counts the total shifts worked by each employed worker\n",
    "totShifts = m.addVars(workers, name=\"TotShifts\")"
   ]
  },
  {
   "cell_type": "markdown",
   "metadata": {},
   "source": [
    "<a id=\"subsection-four-three\"></a>\n",
    "## 4.3 Adding Constraints"
   ]
  },
  {
   "cell_type": "markdown",
   "metadata": {},
   "source": [
    "$$\\sum_{w \\: \\in \\: workers} x(w,s) \\; + \\; Slack(s) \\; = \\; \\text{shiftRequirements}(s) \\; \\; \\; \\forall \\; s \\in shifts $$"
   ]
  },
  {
   "cell_type": "code",
   "execution_count": 10,
   "metadata": {},
   "outputs": [],
   "source": [
    "# Constraint: All shifts requirements must be satisfied.\n",
    "\n",
    "shift_reqmts = m.addConstrs((x.sum('*',s) + slacks[s] == shiftRequirements[s] for s in shifts), name='shiftRequirement')"
   ]
  },
  {
   "cell_type": "markdown",
   "metadata": {},
   "source": [
    "$$ \\sum_{s \\: \\in \\: shifts} Slack(s) \\; = \\; totSlack  $$"
   ]
  },
  {
   "cell_type": "code",
   "execution_count": 11,
   "metadata": {},
   "outputs": [],
   "source": [
    "# Constraint: set the auxiliary variable totSlack equal to the total number of extra workers required to satisfy shift requirements\n",
    " \n",
    "num_temps = m.addConstr(totSlack == slacks.sum(), name='totSlack')"
   ]
  },
  {
   "cell_type": "markdown",
   "metadata": {},
   "source": [
    "$$\\sum_{s \\: \\in \\: shifts} x(w,s) \\; = \\; \\text{totShifts}(w) \\; \\; \\forall \\ w \\; in \\; workers$$"
   ]
  },
  {
   "cell_type": "code",
   "execution_count": 12,
   "metadata": {},
   "outputs": [],
   "source": [
    "# Constraint: compute the total number of shifts for each worker\n",
    "\n",
    "num_shifts = m.addConstrs((totShifts[w] == x.sum(w,'*') for w in workers), name='totShifts')"
   ]
  },
  {
   "cell_type": "markdown",
   "metadata": {},
   "source": [
    "The variable $\\text{minShift}$ determines the minimum numbers of shifts allocated to workers. This variable is calculated as:\n",
    "$\\text{minShift} = Min \\{\\text{totShifts}(w): \\ w \\; in \\; workers \\} $\n",
    "\n",
    "The variable $\\text{maxShift}$ determines the maximum numbers of shifts allocated to workers. This variable is calculated as:\n",
    "$\\text{maxShift} = Max \\{\\text{totShifts}(w): \\ w \\; in \\; workers \\} $\n",
    "\n",
    "The addGenConstrMin() method of model object m adds a general constraint which determines the minimum value among a set of variables. The first argument 'minShift' is the variable whose value will be equal to the minimum of the other variables. The second argument 'totShifts is the set of variables over which the minimum will be taken. \n",
    "Recall that the totShifts variable is defined over the set of worker and determines the number of shifts that an employed worker will work. The third argument is the name of this constraint being added.\n",
    "\n",
    "Similarly, the addGenConstrMax() method of the model object m adds a new general constraint that determines the maximum value among a set of variables."
   ]
  },
  {
   "cell_type": "code",
   "execution_count": 13,
   "metadata": {},
   "outputs": [],
   "source": [
    "# minShift is the minimum number of shifts allocated to workers \n",
    "# maxShift is the maximum number of shifts allocated to workers\n",
    "\n",
    "minShift = m.addVar(name='minShift')\n",
    "maxShift = m.addVar(name='maxShift')\n",
    "\n",
    "min_constr = m.addGenConstrMin(minShift, totShifts, name='minShift')\n",
    "max_constr = m.addGenConstrMax(maxShift, totShifts, name='maxShift')"
   ]
  },
  {
   "cell_type": "markdown",
   "metadata": {},
   "source": [
    "<a id=\"subsection-four-four\"></a>\n",
    "## 4.4 Defining Objective Functions"
   ]
  },
  {
   "cell_type": "markdown",
   "metadata": {},
   "source": [
    "### Primary objective\n",
    "The setObjectiveN() method of the model object m allows us to define multiple objectives. \n",
    "- The first argument is the linear expression defining the most important objective, called primary objective, in this case it is the minimization of extra workers required to satisfy the shift requirements of IKEA. \n",
    "- The second argument is the index of the objective function, we set the index of the primary objective to be equal to 0.  \n",
    "- The third argument is the priority of the objective. \n",
    "- The fourth argument is the relative tolerance to degrade this objective when a lower priority  objective is optimized. \n",
    "- The fifth argument is the name of this objective.\n",
    "\n",
    "A hierarchical or lexicographic approach assigns a priority to each objective, and optimizes for the objectives in decreasing priority order. For this problem, we have two objectives, and the primary objective has the highest priority which is equal to 2. When the secondary objective is minimized, since the relative tolerance is 0.2, we can only increase the minimum number of extra workers by up to 20%. For example, if the minimum number extra workers is 10, then when optimizing the secondary objective we can have up to 12 extra workers."
   ]
  },
  {
   "cell_type": "code",
   "execution_count": 14,
   "metadata": {},
   "outputs": [],
   "source": [
    "# Primary Objective\n",
    "m.setObjectiveN(totSlack, index=0, priority=2, reltol=0.2, name='TotalSlack')"
   ]
  },
  {
   "cell_type": "markdown",
   "metadata": {},
   "source": [
    "### Secondary objective\n",
    "\n",
    "The secondary objective is called fairness and its goal is to balance the workload assigned to the employed workers by IKEA. To balance the workload assigned to the employed workers, we can minimize the difference between the maximum number of shifts assigned to an employed worker and the minimum number of shifts assigned to an employed worker."
   ]
  },
  {
   "cell_type": "code",
   "execution_count": 15,
   "metadata": {},
   "outputs": [],
   "source": [
    "# Secondary Objective\n",
    "m.setObjectiveN(maxShift - minShift, index=1, priority=1, name='Fairness')"
   ]
  },
  {
   "cell_type": "markdown",
   "metadata": {},
   "source": [
    "Since we have a primary and a secondary objective which both aim to minimize, we set a global sense for both ojectives which within model object m to be minimized."
   ]
  },
  {
   "cell_type": "code",
   "execution_count": 16,
   "metadata": {},
   "outputs": [],
   "source": [
    "# Set global sense for all objectives.\n",
    "m.ModelSense = GRB.MINIMIZE"
   ]
  },
  {
   "cell_type": "markdown",
   "metadata": {},
   "source": [
    "<a id=\"subsection-four-five\"></a>\n",
    "## 4.5 Running Optimization Engine"
   ]
  },
  {
   "cell_type": "markdown",
   "metadata": {},
   "source": [
    "With all of the required sets, parameters, decision variables, constraints and objective functions of the optimization model defined, we can now run the optimization engine to achieve an optimal scheduling of employed workers and optimal number of extra workers to be employed"
   ]
  },
  {
   "cell_type": "code",
   "execution_count": 17,
   "metadata": {},
   "outputs": [
    {
     "name": "stdout",
     "output_type": "stream",
     "text": [
      "Gurobi Optimizer version 9.1.0 build v9.1.0rc0 (win64)\n",
      "Thread count: 6 physical cores, 12 logical processors, using up to 12 threads\n",
      "Optimize a model with 23 rows, 98 columns and 183 nonzeros\n",
      "Model fingerprint: 0x0089fcc4\n",
      "Model has 2 general constraints\n",
      "Variable types: 25 continuous, 73 integer (73 binary)\n",
      "Coefficient statistics:\n",
      "  Matrix range     [1e+00, 1e+00]\n",
      "  Objective range  [1e+00, 1e+00]\n",
      "  Bounds range     [1e+00, 1e+00]\n",
      "  RHS range        [3e+00, 8e+00]\n",
      "\n",
      "---------------------------------------------------------------------------\n",
      "Multi-objectives: starting optimization with 2 objectives ... \n",
      "---------------------------------------------------------------------------\n",
      "\n",
      "Multi-objectives: applying initial presolve ...\n",
      "---------------------------------------------------------------------------\n",
      "\n",
      "Presolve added 7 rows and 21 columns\n",
      "Presolve time: 0.00s\n",
      "Presolved: 30 rows and 119 columns\n",
      "---------------------------------------------------------------------------\n",
      "\n",
      "Multi-objectives: optimize objective 1 (TotalSlack) ...\n",
      "---------------------------------------------------------------------------\n",
      "\n",
      "Presolve added 6 rows and 0 columns\n",
      "Presolve removed 0 rows and 50 columns\n",
      "Presolve time: 0.00s\n",
      "Presolved: 36 rows, 69 columns, 137 nonzeros\n",
      "Presolved model has 8 SOS constraint(s)\n",
      "Variable types: 18 continuous, 51 integer (37 binary)\n",
      "Found heuristic solution: objective 12.0000000\n",
      "Found heuristic solution: objective 11.0000000\n",
      "\n",
      "Root relaxation: objective 9.000000e+00, 24 iterations, 0.00 seconds\n",
      "\n",
      "    Nodes    |    Current Node    |     Objective Bounds      |     Work\n",
      " Expl Unexpl |  Obj  Depth IntInf | Incumbent    BestBd   Gap | It/Node Time\n",
      "\n",
      "     0     0    9.00000    0    3   11.00000    9.00000  18.2%     -    0s\n",
      "H    0     0                       9.0000000    9.00000  0.00%     -    0s\n",
      "     0     0    9.00000    0    3    9.00000    9.00000  0.00%     -    0s\n",
      "\n",
      "Explored 1 nodes (24 simplex iterations) in 0.02 seconds\n",
      "Thread count was 12 (of 12 available processors)\n",
      "\n",
      "Solution count 3: 9 11 12 \n",
      "\n",
      "Optimal solution found (tolerance 1.00e-04)\n",
      "Best objective 9.000000000000e+00, best bound 9.000000000000e+00, gap 0.0000%\n",
      "---------------------------------------------------------------------------\n",
      "\n",
      "Multi-objectives: optimize objective 2 (Fairness) ...\n",
      "---------------------------------------------------------------------------\n",
      "\n",
      "\n",
      "Loaded user MIP start with objective 1\n",
      "\n",
      "Presolve added 6 rows and 0 columns\n",
      "Presolve removed 0 rows and 46 columns\n",
      "Presolve time: 0.00s\n",
      "Presolved: 37 rows, 73 columns, 174 nonzeros\n",
      "Presolved model has 8 SOS constraint(s)\n",
      "Variable types: 18 continuous, 55 integer (49 binary)\n",
      "\n",
      "Root relaxation: objective 0.000000e+00, 37 iterations, 0.00 seconds\n",
      "\n",
      "    Nodes    |    Current Node    |     Objective Bounds      |     Work\n",
      " Expl Unexpl |  Obj  Depth IntInf | Incumbent    BestBd   Gap | It/Node Time\n",
      "\n",
      "     0     0    0.00000    0   17    1.00000    0.00000   100%     -    0s\n",
      "     0     0    0.42857    0   20    1.00000    0.42857  57.1%     -    0s\n",
      "     0     0    0.60000    0   18    1.00000    0.60000  40.0%     -    0s\n",
      "     0     0    0.60000    0   18    1.00000    0.60000  40.0%     -    0s\n",
      "     0     0    0.60000    0   18    1.00000    0.60000  40.0%     -    0s\n",
      "     0     2    0.60000    0   18    1.00000    0.60000  40.0%     -    0s\n",
      "\n",
      "Cutting planes:\n",
      "  Gomory: 8\n",
      "  Implied bound: 1\n",
      "  MIR: 2\n",
      "\n",
      "Explored 149 nodes (648 simplex iterations) in 0.07 seconds\n",
      "Thread count was 12 (of 12 available processors)\n",
      "\n",
      "Solution count 1: 1 \n",
      "\n",
      "Optimal solution found (tolerance 1.00e-04)\n",
      "Best objective 1.000000000000e+00, best bound 1.000000000000e+00, gap 0.0000%\n",
      "\n",
      "---------------------------------------------------------------------------\n",
      "Multi-objectives: solved in 0.08 seconds, solution count 3\n",
      "\n"
     ]
    }
   ],
   "source": [
    "# Run the optimization engine to solve the mixed-integer-programming problem in model object m\n",
    "m.optimize()"
   ]
  },
  {
   "cell_type": "markdown",
   "metadata": {},
   "source": [
    "<a id=\"subsection-four-six\"></a>\n",
    "## 4.6 Running Checks on Optimization Engine"
   ]
  },
  {
   "cell_type": "markdown",
   "metadata": {},
   "source": [
    "The .Status attribute indicates the current optimization status of the model object m. For this workforce model, we first check if the model is infeasible or unbounded and provide a report in the event of such a situation.\n",
    "\n",
    "We then run a check for the optimization status of the model to observe if it is not optimal for some other reason."
   ]
  },
  {
   "cell_type": "code",
   "execution_count": 18,
   "metadata": {},
   "outputs": [],
   "source": [
    "# Check for if the model is infeasible or unbounded\n",
    "status = m.Status\n",
    "if status == GRB.Status.INF_OR_UNBD or status == GRB.Status.INFEASIBLE  or status == GRB.Status.UNBOUNDED:\n",
    "    print('The model cannot be solved because it is infeasible or unbounded')\n",
    "    sys.exit(0)\n",
    "    \n",
    "# Check for if the optimization status of the model is not optimal\n",
    "if status != GRB.Status.OPTIMAL:\n",
    "    print('Optimization was stopped with status ' + str(status))\n",
    "    sys.exit(0)"
   ]
  },
  {
   "cell_type": "markdown",
   "metadata": {},
   "source": [
    "<a id=\"section-five\"></a>\n",
    "# 5. PROBLEM SOLUTION VISUALIZATION"
   ]
  },
  {
   "cell_type": "markdown",
   "metadata": {},
   "source": [
    "<a id=\"subsection-five-one\"></a>\n",
    "## 5.1 Slack Required in Optimal Solution"
   ]
  },
  {
   "cell_type": "markdown",
   "metadata": {},
   "source": [
    "### Daily Slack"
   ]
  },
  {
   "cell_type": "code",
   "execution_count": 19,
   "metadata": {},
   "outputs": [
    {
     "data": {
      "text/plain": [
       "{'Mon1': <gurobi.Var Slack[Mon1] (value 0.0)>,\n",
       " 'Tue2': <gurobi.Var Slack[Tue2] (value 0.0)>,\n",
       " 'Wed3': <gurobi.Var Slack[Wed3] (value 0.0)>,\n",
       " 'Thu4': <gurobi.Var Slack[Thu4] (value 0.0)>,\n",
       " 'Fri5': <gurobi.Var Slack[Fri5] (value 0.0)>,\n",
       " 'Sat6': <gurobi.Var Slack[Sat6] (value 2.0)>,\n",
       " 'Sun7': <gurobi.Var Slack[Sun7] (value 2.0)>,\n",
       " 'Mon8': <gurobi.Var Slack[Mon8] (value 0.0)>,\n",
       " 'Tue9': <gurobi.Var Slack[Tue9] (value 0.0)>,\n",
       " 'Wed10': <gurobi.Var Slack[Wed10] (value 0.0)>,\n",
       " 'Thu11': <gurobi.Var Slack[Thu11] (value 0.0)>,\n",
       " 'Fri12': <gurobi.Var Slack[Fri12] (value 0.0)>,\n",
       " 'Sat13': <gurobi.Var Slack[Sat13] (value 2.0)>,\n",
       " 'Sun14': <gurobi.Var Slack[Sun14] (value 3.0)>}"
      ]
     },
     "execution_count": 19,
     "metadata": {},
     "output_type": "execute_result"
    }
   ],
   "source": [
    "slacks"
   ]
  },
  {
   "cell_type": "markdown",
   "metadata": {},
   "source": [
    "Extra workers are indicated by the slacks for each day.\n",
    "\n",
    "Two extra workers are required on the first Saturday and Sunday.\n",
    "\n",
    "Two extra workers are required on the second Saturday and three extra workers on the second Sunday."
   ]
  },
  {
   "cell_type": "markdown",
   "metadata": {},
   "source": [
    "### Total Slack"
   ]
  },
  {
   "cell_type": "markdown",
   "metadata": {},
   "source": [
    "These add up to a total slack of 9 extra workers required"
   ]
  },
  {
   "cell_type": "code",
   "execution_count": 20,
   "metadata": {},
   "outputs": [
    {
     "name": "stdout",
     "output_type": "stream",
     "text": [
      "The total slack required for this 2-week schedule is 9.0 extra workers\n"
     ]
    }
   ],
   "source": [
    "solution = {}\n",
    "solution['Total slack required'] = str(totSlack.X)\n",
    "\n",
    "print('The total slack required for this 2-week schedule is {} extra workers'.format(solution.get('Total slack required')))"
   ]
  },
  {
   "cell_type": "markdown",
   "metadata": {},
   "source": [
    "<a id=\"subsection-five-two\"></a>\n",
    "## 5.2 Number of Shifts Worked for Each Worker"
   ]
  },
  {
   "cell_type": "code",
   "execution_count": 21,
   "metadata": {},
   "outputs": [
    {
     "name": "stdout",
     "output_type": "stream",
     "text": [
      "Shifts\n",
      "     Worker  Number of shifts\n",
      "0  Jonathan               9.0\n",
      "1     Jason               9.0\n",
      "2    Jashan               8.0\n",
      "3  Benedict               9.0\n",
      "4     Bryon               8.0\n",
      "5     Emily               8.0\n",
      "6     Sarah               8.0\n",
      "7     Megan               9.0\n"
     ]
    },
    {
     "data": {
      "image/png": "[encoded data removed]",
      "text/plain": [
       "<Figure size 432x288 with 1 Axes>"
      ]
     },
     "metadata": {
      "needs_background": "light"
     },
     "output_type": "display_data"
    }
   ],
   "source": [
    "shifts_solution = {}\n",
    "all_assignments = {}\n",
    "\n",
    "\n",
    "assignments = dict()\n",
    "for [w, s] in availability:\n",
    "    if x[w, s].x == 1:\n",
    "        if w in assignments:\n",
    "            assignments[w].append(s)\n",
    "        else:\n",
    "            assignments[w] = [s]\n",
    "\n",
    "for w in workers:\n",
    "    shifts_solution[w]=totShifts[w].X\n",
    "    all_assignments[w]=assignments.get(w, [])\n",
    "\n",
    "print('Shifts')\n",
    "print(pd.DataFrame.from_records(list(shifts_solution.items()), columns=['Worker', 'Number of shifts']))\n",
    "\n",
    "y_pos = np.arange(len(shifts_solution.keys())) \n",
    "plt.bar(y_pos,shifts_solution.values() , align='center', color = 'red')\n",
    "plt.xticks(y_pos, shifts_solution.keys(), rotation = 45)\n",
    "plt.title('Number of Shifts Worked for Each Worker')\n",
    "plt.show()"
   ]
  },
  {
   "cell_type": "markdown",
   "metadata": {},
   "source": [
    "<a id=\"subsection-five-three\"></a>\n",
    "## 5.3 Gantt Chart of Optimal Work Plan Schedule"
   ]
  },
  {
   "cell_type": "code",
   "execution_count": 22,
   "metadata": {
    "scrolled": true
   },
   "outputs": [
    {
     "name": "stdout",
     "output_type": "stream",
     "text": [
      "Assignments Schedule\n",
      "Symbols: '-': not working, 'x': working\n"
     ]
    },
    {
     "data": {
      "text/html": [
       "<div>\n",
       "<style scoped>\n",
       "    .dataframe tbody tr th:only-of-type {\n",
       "        vertical-align: middle;\n",
       "    }\n",
       "\n",
       "    .dataframe tbody tr th {\n",
       "        vertical-align: top;\n",
       "    }\n",
       "\n",
       "    .dataframe thead th {\n",
       "        text-align: right;\n",
       "    }\n",
       "</style>\n",
       "<table border=\"1\" class=\"dataframe\">\n",
       "  <thead>\n",
       "    <tr style=\"text-align: right;\">\n",
       "      <th></th>\n",
       "      <th>Mon1</th>\n",
       "      <th>Tue2</th>\n",
       "      <th>Wed3</th>\n",
       "      <th>Thu4</th>\n",
       "      <th>Fri5</th>\n",
       "      <th>Sat6</th>\n",
       "      <th>Sun7</th>\n",
       "      <th>Mon8</th>\n",
       "      <th>Tue9</th>\n",
       "      <th>Wed10</th>\n",
       "      <th>Thu11</th>\n",
       "      <th>Fri12</th>\n",
       "      <th>Sat13</th>\n",
       "      <th>Sun14</th>\n",
       "    </tr>\n",
       "    <tr>\n",
       "      <th>worker</th>\n",
       "      <th></th>\n",
       "      <th></th>\n",
       "      <th></th>\n",
       "      <th></th>\n",
       "      <th></th>\n",
       "      <th></th>\n",
       "      <th></th>\n",
       "      <th></th>\n",
       "      <th></th>\n",
       "      <th></th>\n",
       "      <th></th>\n",
       "      <th></th>\n",
       "      <th></th>\n",
       "      <th></th>\n",
       "    </tr>\n",
       "  </thead>\n",
       "  <tbody>\n",
       "    <tr>\n",
       "      <th>Jonathan</th>\n",
       "      <td>x</td>\n",
       "      <td>x</td>\n",
       "      <td>x</td>\n",
       "      <td>-</td>\n",
       "      <td>-</td>\n",
       "      <td>x</td>\n",
       "      <td>x</td>\n",
       "      <td>x</td>\n",
       "      <td>-</td>\n",
       "      <td>x</td>\n",
       "      <td>-</td>\n",
       "      <td>x</td>\n",
       "      <td>x</td>\n",
       "      <td>-</td>\n",
       "    </tr>\n",
       "    <tr>\n",
       "      <th>Jason</th>\n",
       "      <td>-</td>\n",
       "      <td>x</td>\n",
       "      <td>x</td>\n",
       "      <td>-</td>\n",
       "      <td>x</td>\n",
       "      <td>x</td>\n",
       "      <td>-</td>\n",
       "      <td>x</td>\n",
       "      <td>x</td>\n",
       "      <td>-</td>\n",
       "      <td>x</td>\n",
       "      <td>x</td>\n",
       "      <td>-</td>\n",
       "      <td>x</td>\n",
       "    </tr>\n",
       "    <tr>\n",
       "      <th>Jashan</th>\n",
       "      <td>x</td>\n",
       "      <td>x</td>\n",
       "      <td>-</td>\n",
       "      <td>-</td>\n",
       "      <td>x</td>\n",
       "      <td>-</td>\n",
       "      <td>x</td>\n",
       "      <td>-</td>\n",
       "      <td>-</td>\n",
       "      <td>-</td>\n",
       "      <td>x</td>\n",
       "      <td>x</td>\n",
       "      <td>x</td>\n",
       "      <td>x</td>\n",
       "    </tr>\n",
       "    <tr>\n",
       "      <th>Benedict</th>\n",
       "      <td>-</td>\n",
       "      <td>-</td>\n",
       "      <td>x</td>\n",
       "      <td>-</td>\n",
       "      <td>x</td>\n",
       "      <td>x</td>\n",
       "      <td>x</td>\n",
       "      <td>x</td>\n",
       "      <td>-</td>\n",
       "      <td>x</td>\n",
       "      <td>x</td>\n",
       "      <td>x</td>\n",
       "      <td>x</td>\n",
       "      <td>-</td>\n",
       "    </tr>\n",
       "    <tr>\n",
       "      <th>Bryon</th>\n",
       "      <td>x</td>\n",
       "      <td>-</td>\n",
       "      <td>x</td>\n",
       "      <td>-</td>\n",
       "      <td>x</td>\n",
       "      <td>-</td>\n",
       "      <td>x</td>\n",
       "      <td>-</td>\n",
       "      <td>x</td>\n",
       "      <td>-</td>\n",
       "      <td>x</td>\n",
       "      <td>-</td>\n",
       "      <td>x</td>\n",
       "      <td>x</td>\n",
       "    </tr>\n",
       "    <tr>\n",
       "      <th>Emily</th>\n",
       "      <td>-</td>\n",
       "      <td>-</td>\n",
       "      <td>x</td>\n",
       "      <td>x</td>\n",
       "      <td>x</td>\n",
       "      <td>x</td>\n",
       "      <td>x</td>\n",
       "      <td>-</td>\n",
       "      <td>-</td>\n",
       "      <td>-</td>\n",
       "      <td>x</td>\n",
       "      <td>x</td>\n",
       "      <td>-</td>\n",
       "      <td>x</td>\n",
       "    </tr>\n",
       "    <tr>\n",
       "      <th>Sarah</th>\n",
       "      <td>x</td>\n",
       "      <td>-</td>\n",
       "      <td>-</td>\n",
       "      <td>x</td>\n",
       "      <td>-</td>\n",
       "      <td>-</td>\n",
       "      <td>x</td>\n",
       "      <td>-</td>\n",
       "      <td>x</td>\n",
       "      <td>x</td>\n",
       "      <td>-</td>\n",
       "      <td>x</td>\n",
       "      <td>x</td>\n",
       "      <td>x</td>\n",
       "    </tr>\n",
       "    <tr>\n",
       "      <th>Megan</th>\n",
       "      <td>x</td>\n",
       "      <td>x</td>\n",
       "      <td>-</td>\n",
       "      <td>x</td>\n",
       "      <td>x</td>\n",
       "      <td>x</td>\n",
       "      <td>-</td>\n",
       "      <td>x</td>\n",
       "      <td>-</td>\n",
       "      <td>x</td>\n",
       "      <td>-</td>\n",
       "      <td>x</td>\n",
       "      <td>x</td>\n",
       "      <td>-</td>\n",
       "    </tr>\n",
       "  </tbody>\n",
       "</table>\n",
       "</div>"
      ],
      "text/plain": [
       "         Mon1 Tue2 Wed3 Thu4 Fri5 Sat6 Sun7 Mon8 Tue9 Wed10 Thu11 Fri12 Sat13 Sun14\n",
       "worker                                                                             \n",
       "Jonathan    x    x    x    -    -    x    x    x    -     x     -     x     x     -\n",
       "Jason       -    x    x    -    x    x    -    x    x     -     x     x     -     x\n",
       "Jashan      x    x    -    -    x    -    x    -    -     -     x     x     x     x\n",
       "Benedict    -    -    x    -    x    x    x    x    -     x     x     x     x     -\n",
       "Bryon       x    -    x    -    x    -    x    -    x     -     x     -     x     x\n",
       "Emily       -    -    x    x    x    x    x    -    -     -     x     x     -     x\n",
       "Sarah       x    -    -    x    -    -    x    -    x     x     -     x     x     x\n",
       "Megan       x    x    -    x    x    x    -    x    -     x     -     x     x     -"
      ]
     },
     "execution_count": 22,
     "metadata": {},
     "output_type": "execute_result"
    }
   ],
   "source": [
    "# demand and the number of shifts that each employed worker is working.\n",
    "gant_chart={}\n",
    "\n",
    "for w in all_assignments:\n",
    "    gant_chart[w] = [w]\n",
    "    for d in shifts:\n",
    "        gant_chart[w].append('x' if d in all_assignments[w] else '-')\n",
    "\n",
    "print('Assignments Schedule')\n",
    "print('Symbols: \\'-\\': not working, \\'x\\': working')\n",
    "pd.set_option('display.width', 1000)\n",
    "pd.DataFrame.from_records(list(gant_chart.values()), columns=['worker']+shifts, index='worker')"
   ]
  },
  {
   "cell_type": "markdown",
   "metadata": {},
   "source": [
    "<a id=\"subsection-five-three\"></a>\n",
    "## 5.4 Computing Total Pay of Each Worker"
   ]
  },
  {
   "cell_type": "code",
   "execution_count": 23,
   "metadata": {},
   "outputs": [
    {
     "data": {
      "text/html": [
       "<div>\n",
       "<style scoped>\n",
       "    .dataframe tbody tr th:only-of-type {\n",
       "        vertical-align: middle;\n",
       "    }\n",
       "\n",
       "    .dataframe tbody tr th {\n",
       "        vertical-align: top;\n",
       "    }\n",
       "\n",
       "    .dataframe thead th {\n",
       "        text-align: right;\n",
       "    }\n",
       "</style>\n",
       "<table border=\"1\" class=\"dataframe\">\n",
       "  <thead>\n",
       "    <tr style=\"text-align: right;\">\n",
       "      <th></th>\n",
       "      <th>Number of shifts</th>\n",
       "      <th>Pay</th>\n",
       "      <th>Total Pay</th>\n",
       "    </tr>\n",
       "  </thead>\n",
       "  <tbody>\n",
       "    <tr>\n",
       "      <th>Jonathan</th>\n",
       "      <td>9.0</td>\n",
       "      <td>95</td>\n",
       "      <td>855.0</td>\n",
       "    </tr>\n",
       "    <tr>\n",
       "      <th>Jason</th>\n",
       "      <td>9.0</td>\n",
       "      <td>100</td>\n",
       "      <td>900.0</td>\n",
       "    </tr>\n",
       "    <tr>\n",
       "      <th>Jashan</th>\n",
       "      <td>8.0</td>\n",
       "      <td>90</td>\n",
       "      <td>720.0</td>\n",
       "    </tr>\n",
       "    <tr>\n",
       "      <th>Benedict</th>\n",
       "      <td>9.0</td>\n",
       "      <td>100</td>\n",
       "      <td>900.0</td>\n",
       "    </tr>\n",
       "    <tr>\n",
       "      <th>Bryon</th>\n",
       "      <td>8.0</td>\n",
       "      <td>85</td>\n",
       "      <td>680.0</td>\n",
       "    </tr>\n",
       "    <tr>\n",
       "      <th>Emily</th>\n",
       "      <td>8.0</td>\n",
       "      <td>110</td>\n",
       "      <td>880.0</td>\n",
       "    </tr>\n",
       "    <tr>\n",
       "      <th>Sarah</th>\n",
       "      <td>8.0</td>\n",
       "      <td>90</td>\n",
       "      <td>720.0</td>\n",
       "    </tr>\n",
       "    <tr>\n",
       "      <th>Megan</th>\n",
       "      <td>9.0</td>\n",
       "      <td>80</td>\n",
       "      <td>720.0</td>\n",
       "    </tr>\n",
       "  </tbody>\n",
       "</table>\n",
       "</div>"
      ],
      "text/plain": [
       "          Number of shifts  Pay  Total Pay\n",
       "Jonathan               9.0   95      855.0\n",
       "Jason                  9.0  100      900.0\n",
       "Jashan                 8.0   90      720.0\n",
       "Benedict               9.0  100      900.0\n",
       "Bryon                  8.0   85      680.0\n",
       "Emily                  8.0  110      880.0\n",
       "Sarah                  8.0   90      720.0\n",
       "Megan                  9.0   80      720.0"
      ]
     },
     "execution_count": 23,
     "metadata": {},
     "output_type": "execute_result"
    }
   ],
   "source": [
    "df_shifts = pd.DataFrame.from_records(list(shifts_solution.items()), columns=['Worker', 'Number of shifts'], index='Worker')\n",
    "df_pay = pd.DataFrame.from_dict(pay, orient='index', columns = ['Pay'])\n",
    "df = df_shifts.merge(df_pay, left_index=True, right_index=True)\n",
    "df['Total Pay'] = df['Number of shifts']*df['Pay']\n",
    "df"
   ]
  },
  {
   "cell_type": "code",
   "execution_count": 24,
   "metadata": {},
   "outputs": [
    {
     "data": {
      "image/png": "[encoded data removed]",
      "text/plain": [
       "<Figure size 432x288 with 1 Axes>"
      ]
     },
     "metadata": {
      "needs_background": "light"
     },
     "output_type": "display_data"
    }
   ],
   "source": [
    "plt.bar(y_pos,df['Total Pay'] , align='center', color = 'red')\n",
    "plt.xticks(y_pos, df['Total Pay'].index, rotation = 45)\n",
    "plt.title('Total Pay of Each Worker')\n",
    "plt.show()"
   ]
  },
  {
   "cell_type": "markdown",
   "metadata": {},
   "source": [
    "<a id=\"section-six\"></a>\n",
    "# 6. ANALYSIS OF WORKFORCE SCHEDULING PROBLEM"
   ]
  },
  {
   "cell_type": "markdown",
   "metadata": {},
   "source": [
    "The total number of extra workers that IKEA is required to contract to satisfy the shift requirements during the two-week planning horizon is nine. This value is minimized so as to reduce the cost required from IKEA to employe extra workers from an external agency.\n",
    "\n",
    "The bar chart titled 'Number of Shifts Worked for Each Worker' shows the number of shifts that each employed worker will work during the two-week planning horizon. It is observed that with nine extra workers being contracted, the workload of employed workers is quite balanced with each worker working eight or nine shifts. This is important as workers in this industry are paid per shift and it would be unfair to allocate more or less shifts to any worker. \n",
    "\n",
    "The gantt chart 'Assignment Schedule' above shows which days during the two-week planning horizon each employed worker is working. This will aid the company in automating the optimal scheduling of their workforce. Every two weeks, the employed workers of IKEA will submit their availability to their human resource manager through the excel file, which will then be used to update the optimization engine to output the schedule for the following two weeks.\n",
    "\n",
    "Finally, the bar chart titled 'Total Pay of Each Worker' shows the forecasted pay that IKEA will have to pay to their workers for the two-week planning horizon. This will help in automating the salary disbursement at the end of the two weeks assuming that each worker fulfills their assignment."
   ]
  },
  {
   "cell_type": "markdown",
   "metadata": {},
   "source": [
    "<a id=\"section-seven\"></a>\n",
    "# 7. CONCLUSION"
   ]
  },
  {
   "cell_type": "markdown",
   "metadata": {},
   "source": [
    "In this project, I discussed a workforce scheduling optimization problem for IKEA's service staff and developed a workforce plan for the next two weeks. There is only one shift per workday, with each shift possibly having requirements for differing workers on each workday. IKEA may hire extra workers from an external agency to satisfy shift requirements. \n",
    "\n",
    "The goal of this model is to minimize the number of extra workers that needs to hire, this is to reduce the costs of hiring to IKEA as extra workers cost more to contract as compared to paying employed workers. For the secondary objective, IKEA wants to balance the workload of employed workers. This is important as workers will be upset if they are unfairly allocated less or more shifts than other workers.\n",
    "\n",
    "This problem was formulated as a multi-objective mixed-integer-programming (MIP) model, and implemented using the Gurobi Python API and solved using the Gurobi Optimizer."
   ]
  },
  {
   "cell_type": "markdown",
   "metadata": {},
   "source": [
    "<a id=\"section-eight\"></a>\n",
    "# 8. REFERENCES"
   ]
  },
  {
   "cell_type": "markdown",
   "metadata": {},
   "source": [
    "[1] Gurobi Optimization, LLC. Workforce Scheduling Problem. Retrieved 18 November 2020 from: https://gurobi.github.io/modeling-examples/workforce/workforce_scheduling.html"
   ]
  }
 ],
 "metadata": {
  "kernelspec": {
   "display_name": "Python 3",
   "language": "python",
   "name": "python3"
  },
  "language_info": {
   "codemirror_mode": {
    "name": "ipython",
    "version": 3
   },
   "file_extension": ".py",
   "mimetype": "text/x-python",
   "name": "python",
   "nbconvert_exporter": "python",
   "pygments_lexer": "ipython3",
   "version": "3.8.5"
  }
 },
 "nbformat": 4,
 "nbformat_minor": 4
}
