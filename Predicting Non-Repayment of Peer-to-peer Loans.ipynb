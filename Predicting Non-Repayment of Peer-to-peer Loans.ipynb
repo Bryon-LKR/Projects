{
 "cells": [
  {
   "cell_type": "markdown",
   "metadata": {
    "_cell_guid": "40dc37f2-37a8-4f73-897d-b28a8755e88b",
    "_uuid": "b645d94d7d7103b4000a089c42fca8afa54bac2e"
   },
   "source": [
    "# TABLE OF CONTENTS\n",
    "\n",
    "* [1. INTRODUCTION](#section-one)\n",
    "* [2. SETUP](#section-two)\n",
    "    - [2.1 Draw Packages](#section-two-one)\n",
    "    - [2.2 Import the Data](#section-two-one)\n",
    "    - [2.3 Response Variable](#section-two-two)\n",
    "    - [2.4 Limit the Feature Space](#section-two-three)\n",
    "        - [2.4.1 Drop features missing more than 30% data](#section-two-four-one)\n",
    "        - [2.4.2 Only keep loan features known to potential investors](#section-two-four-two)\n",
    "* [3. EXPLORATORY DATA ANALYSIS](#section-three)\n",
    "    - [3.1 Pre-processing](#section-three-one)\n",
    "    - [3.2 Create dummy variables](#section-three-two)\n",
    "    - [3.3 Train/test split](#section-three-three)\n",
    "* [4. QUESTIONS](#section-four)\n",
    "    - [4.1 How do we train and test a model?](#section-four-one)\n",
    "        - [4.2.1 Logistic regression with SGD training](#section-four-one-one)\n",
    "        - [4.2.2 Random forest classifier](#section-four-one-two)\n",
    "        - [4.2.3 k-nearest neighbors](#section-four-one-three)\n",
    "    - [4.2 Test set evaluation](#section-four-two)\n",
    "* [5. CONCLUSION](#section-five)\n",
    "* [6. REFERENCE](#section-six)"
   ]
  },
  {
   "cell_type": "markdown",
   "metadata": {
    "_uuid": "ddbbc2e798a8e2e6f62d254218970a5e60bf90dc"
   },
   "source": [
    "<a id=\"section-one\"></a>\n",
    "# 1. INTRODUCTION"
   ]
  },
  {
   "cell_type": "markdown",
   "metadata": {
    "_uuid": "eca0fc691a7fa4f011b666ededfaebdf4c14844f"
   },
   "source": [
    "[LendingClub](https://www.lendingclub.com/) is the world's largest peer-to-peer lending platform. How does it work? Here is an explanation by [LendingClub](https://www.lendingclub.com/investing/peer-to-peer):\n",
    "\n",
    "> Notes are securities that correspond to fractions of loans, sold with 3 or 5 year terms and risk grades A-C. Rather than funding the whole loan, you buy Notes corresponding to multiple loans in increments as low as $25. Borrowers then make monthly payments of both principal and interest. Simply put, your net return ends up being the average interest rate corresponding to your Notes portfolio, less losses and fees.\n",
    "\n",
    "The focus of this notebook is to deploy machine learning models to predict a P2P loan default. Specifically, if you want to invest in a note on LendingClub, what should you watch out for? We will consider information available on LendingClub loan listing (e.g., loan size, purpose, grade, interest rate, installment) and information about the borrower (e.g., income employment status, length, credit worthiness, debt-to-income ratio.). Furthermore, loans not accepted by LendingClub under its credit underwriting policy are excluded from our sample. \n",
    "\n",
    "Furthermore, in the pre-recorded session, we will use only 0.1 million of the 2.5 million observations available to reduce runtime. "
   ]
  },
  {
   "cell_type": "markdown",
   "metadata": {},
   "source": [
    "<a id=\"section-two\"></a>\n",
    "# 2. SETUP"
   ]
  },
  {
   "cell_type": "markdown",
   "metadata": {},
   "source": [
    "<a id=\"section-two-one\"></a>\n",
    "# 2.1 Draw Packages"
   ]
  },
  {
   "cell_type": "code",
   "execution_count": 1,
   "metadata": {},
   "outputs": [
    {
     "name": "stdout",
     "output_type": "stream",
     "text": [
      "Collecting missingno\n",
      "  Downloading missingno-0.4.2-py3-none-any.whl (9.7 kB)\n",
      "Requirement already satisfied: seaborn in c:\\users\\bryon liew\\anaconda3\\lib\\site-packages (from missingno) (0.10.1)\n",
      "Requirement already satisfied: matplotlib in c:\\users\\bryon liew\\anaconda3\\lib\\site-packages (from missingno) (3.3.1)\n",
      "Requirement already satisfied: scipy in c:\\users\\bryon liew\\anaconda3\\lib\\site-packages (from missingno) (1.5.0)\n",
      "Requirement already satisfied: numpy in c:\\users\\bryon liew\\anaconda3\\lib\\site-packages (from missingno) (1.19.1)\n",
      "Requirement already satisfied: pandas>=0.22.0 in c:\\users\\bryon liew\\anaconda3\\lib\\site-packages (from seaborn->missingno) (1.1.1)\n",
      "Requirement already satisfied: pillow>=6.2.0 in c:\\users\\bryon liew\\anaconda3\\lib\\site-packages (from matplotlib->missingno) (7.2.0)\n",
      "Requirement already satisfied: cycler>=0.10 in c:\\users\\bryon liew\\anaconda3\\lib\\site-packages (from matplotlib->missingno) (0.10.0)\n",
      "Requirement already satisfied: pyparsing!=2.0.4,!=2.1.2,!=2.1.6,>=2.0.3 in c:\\users\\bryon liew\\anaconda3\\lib\\site-packages (from matplotlib->missingno) (2.4.7)\n",
      "Requirement already satisfied: kiwisolver>=1.0.1 in c:\\users\\bryon liew\\anaconda3\\lib\\site-packages (from matplotlib->missingno) (1.2.0)\n",
      "Requirement already satisfied: certifi>=2020.06.20 in c:\\users\\bryon liew\\anaconda3\\lib\\site-packages (from matplotlib->missingno) (2020.6.20)\n",
      "Requirement already satisfied: python-dateutil>=2.1 in c:\\users\\bryon liew\\anaconda3\\lib\\site-packages (from matplotlib->missingno) (2.8.1)\n",
      "Requirement already satisfied: pytz>=2017.2 in c:\\users\\bryon liew\\anaconda3\\lib\\site-packages (from pandas>=0.22.0->seaborn->missingno) (2020.1)\n",
      "Requirement already satisfied: six in c:\\users\\bryon liew\\anaconda3\\lib\\site-packages (from cycler>=0.10->matplotlib->missingno) (1.15.0)\n",
      "Installing collected packages: missingno\n",
      "Successfully installed missingno-0.4.2\n"
     ]
    }
   ],
   "source": [
    "!pip install missingno\n",
    "\n",
    "import missingno as msno \n",
    "import numpy as np\n",
    "import scipy as sp\n",
    "import pandas as pd\n",
    "import matplotlib as mpl\n",
    "import matplotlib.pyplot as plt\n",
    "import seaborn as sns\n",
    "\n",
    "# Pandas options\n",
    "pd.set_option('display.max_colwidth', 1000, 'display.max_rows', None, 'display.max_columns', None)\n",
    "\n",
    "# Plotting options\n",
    "%matplotlib inline\n",
    "mpl.style.use('ggplot')\n",
    "sns.set(style='whitegrid')"
   ]
  },
  {
   "cell_type": "markdown",
   "metadata": {
    "_cell_guid": "b018242b-b3c5-4245-b5d7-ea6a3f28d4c8",
    "_uuid": "2053f9b0b897cad21155cca0a00c537bfd1bb340"
   },
   "source": [
    "<a id=\"section-two-two\"></a>\n",
    "# 2.2 Import the Data"
   ]
  },
  {
   "cell_type": "markdown",
   "metadata": {},
   "source": [
    "Add data with this URL: https://www.kaggle.com/wordsforthewise/lending-club"
   ]
  },
  {
   "cell_type": "code",
   "execution_count": 13,
   "metadata": {
    "_cell_guid": "b54dd1e5-bbf7-4014-9434-3495a578e27f",
    "_uuid": "370f21d16cb87752040bb20a82a9115db2e36cb5"
   },
   "outputs": [],
   "source": [
    "loans = pd.read_excel('default of credit card clients.xls', header = 1, index_col = 0)"
   ]
  },
  {
   "cell_type": "code",
   "execution_count": 14,
   "metadata": {
    "_cell_guid": "f4a7c9a2-ff89-4219-8ff9-2324bef16bdf",
    "_uuid": "00c703a1943e72a68b83c4ddf46c00310656e22c",
    "scrolled": true
   },
   "outputs": [
    {
     "data": {
      "text/html": [
       "<div>\n",
       "<style scoped>\n",
       "    .dataframe tbody tr th:only-of-type {\n",
       "        vertical-align: middle;\n",
       "    }\n",
       "\n",
       "    .dataframe tbody tr th {\n",
       "        vertical-align: top;\n",
       "    }\n",
       "\n",
       "    .dataframe thead th {\n",
       "        text-align: right;\n",
       "    }\n",
       "</style>\n",
       "<table border=\"1\" class=\"dataframe\">\n",
       "  <thead>\n",
       "    <tr style=\"text-align: right;\">\n",
       "      <th></th>\n",
       "      <th>LIMIT_BAL</th>\n",
       "      <th>SEX</th>\n",
       "      <th>EDUCATION</th>\n",
       "      <th>MARRIAGE</th>\n",
       "      <th>AGE</th>\n",
       "      <th>PAY_0</th>\n",
       "      <th>PAY_2</th>\n",
       "      <th>PAY_3</th>\n",
       "      <th>PAY_4</th>\n",
       "      <th>PAY_5</th>\n",
       "      <th>PAY_6</th>\n",
       "      <th>BILL_AMT1</th>\n",
       "      <th>BILL_AMT2</th>\n",
       "      <th>BILL_AMT3</th>\n",
       "      <th>BILL_AMT4</th>\n",
       "      <th>BILL_AMT5</th>\n",
       "      <th>BILL_AMT6</th>\n",
       "      <th>PAY_AMT1</th>\n",
       "      <th>PAY_AMT2</th>\n",
       "      <th>PAY_AMT3</th>\n",
       "      <th>PAY_AMT4</th>\n",
       "      <th>PAY_AMT5</th>\n",
       "      <th>PAY_AMT6</th>\n",
       "      <th>default payment next month</th>\n",
       "    </tr>\n",
       "    <tr>\n",
       "      <th>ID</th>\n",
       "      <th></th>\n",
       "      <th></th>\n",
       "      <th></th>\n",
       "      <th></th>\n",
       "      <th></th>\n",
       "      <th></th>\n",
       "      <th></th>\n",
       "      <th></th>\n",
       "      <th></th>\n",
       "      <th></th>\n",
       "      <th></th>\n",
       "      <th></th>\n",
       "      <th></th>\n",
       "      <th></th>\n",
       "      <th></th>\n",
       "      <th></th>\n",
       "      <th></th>\n",
       "      <th></th>\n",
       "      <th></th>\n",
       "      <th></th>\n",
       "      <th></th>\n",
       "      <th></th>\n",
       "      <th></th>\n",
       "      <th></th>\n",
       "    </tr>\n",
       "  </thead>\n",
       "  <tbody>\n",
       "    <tr>\n",
       "      <th>1</th>\n",
       "      <td>20000</td>\n",
       "      <td>2</td>\n",
       "      <td>2</td>\n",
       "      <td>1</td>\n",
       "      <td>24</td>\n",
       "      <td>2</td>\n",
       "      <td>2</td>\n",
       "      <td>-1</td>\n",
       "      <td>-1</td>\n",
       "      <td>-2</td>\n",
       "      <td>-2</td>\n",
       "      <td>3913</td>\n",
       "      <td>3102</td>\n",
       "      <td>689</td>\n",
       "      <td>0</td>\n",
       "      <td>0</td>\n",
       "      <td>0</td>\n",
       "      <td>0</td>\n",
       "      <td>689</td>\n",
       "      <td>0</td>\n",
       "      <td>0</td>\n",
       "      <td>0</td>\n",
       "      <td>0</td>\n",
       "      <td>1</td>\n",
       "    </tr>\n",
       "    <tr>\n",
       "      <th>2</th>\n",
       "      <td>120000</td>\n",
       "      <td>2</td>\n",
       "      <td>2</td>\n",
       "      <td>2</td>\n",
       "      <td>26</td>\n",
       "      <td>-1</td>\n",
       "      <td>2</td>\n",
       "      <td>0</td>\n",
       "      <td>0</td>\n",
       "      <td>0</td>\n",
       "      <td>2</td>\n",
       "      <td>2682</td>\n",
       "      <td>1725</td>\n",
       "      <td>2682</td>\n",
       "      <td>3272</td>\n",
       "      <td>3455</td>\n",
       "      <td>3261</td>\n",
       "      <td>0</td>\n",
       "      <td>1000</td>\n",
       "      <td>1000</td>\n",
       "      <td>1000</td>\n",
       "      <td>0</td>\n",
       "      <td>2000</td>\n",
       "      <td>1</td>\n",
       "    </tr>\n",
       "    <tr>\n",
       "      <th>3</th>\n",
       "      <td>90000</td>\n",
       "      <td>2</td>\n",
       "      <td>2</td>\n",
       "      <td>2</td>\n",
       "      <td>34</td>\n",
       "      <td>0</td>\n",
       "      <td>0</td>\n",
       "      <td>0</td>\n",
       "      <td>0</td>\n",
       "      <td>0</td>\n",
       "      <td>0</td>\n",
       "      <td>29239</td>\n",
       "      <td>14027</td>\n",
       "      <td>13559</td>\n",
       "      <td>14331</td>\n",
       "      <td>14948</td>\n",
       "      <td>15549</td>\n",
       "      <td>1518</td>\n",
       "      <td>1500</td>\n",
       "      <td>1000</td>\n",
       "      <td>1000</td>\n",
       "      <td>1000</td>\n",
       "      <td>5000</td>\n",
       "      <td>0</td>\n",
       "    </tr>\n",
       "    <tr>\n",
       "      <th>4</th>\n",
       "      <td>50000</td>\n",
       "      <td>2</td>\n",
       "      <td>2</td>\n",
       "      <td>1</td>\n",
       "      <td>37</td>\n",
       "      <td>0</td>\n",
       "      <td>0</td>\n",
       "      <td>0</td>\n",
       "      <td>0</td>\n",
       "      <td>0</td>\n",
       "      <td>0</td>\n",
       "      <td>46990</td>\n",
       "      <td>48233</td>\n",
       "      <td>49291</td>\n",
       "      <td>28314</td>\n",
       "      <td>28959</td>\n",
       "      <td>29547</td>\n",
       "      <td>2000</td>\n",
       "      <td>2019</td>\n",
       "      <td>1200</td>\n",
       "      <td>1100</td>\n",
       "      <td>1069</td>\n",
       "      <td>1000</td>\n",
       "      <td>0</td>\n",
       "    </tr>\n",
       "    <tr>\n",
       "      <th>5</th>\n",
       "      <td>50000</td>\n",
       "      <td>1</td>\n",
       "      <td>2</td>\n",
       "      <td>1</td>\n",
       "      <td>57</td>\n",
       "      <td>-1</td>\n",
       "      <td>0</td>\n",
       "      <td>-1</td>\n",
       "      <td>0</td>\n",
       "      <td>0</td>\n",
       "      <td>0</td>\n",
       "      <td>8617</td>\n",
       "      <td>5670</td>\n",
       "      <td>35835</td>\n",
       "      <td>20940</td>\n",
       "      <td>19146</td>\n",
       "      <td>19131</td>\n",
       "      <td>2000</td>\n",
       "      <td>36681</td>\n",
       "      <td>10000</td>\n",
       "      <td>9000</td>\n",
       "      <td>689</td>\n",
       "      <td>679</td>\n",
       "      <td>0</td>\n",
       "    </tr>\n",
       "  </tbody>\n",
       "</table>\n",
       "</div>"
      ],
      "text/plain": [
       "    LIMIT_BAL  SEX  EDUCATION  MARRIAGE  AGE  PAY_0  PAY_2  PAY_3  PAY_4  \\\n",
       "ID                                                                         \n",
       "1       20000    2          2         1   24      2      2     -1     -1   \n",
       "2      120000    2          2         2   26     -1      2      0      0   \n",
       "3       90000    2          2         2   34      0      0      0      0   \n",
       "4       50000    2          2         1   37      0      0      0      0   \n",
       "5       50000    1          2         1   57     -1      0     -1      0   \n",
       "\n",
       "    PAY_5  PAY_6  BILL_AMT1  BILL_AMT2  BILL_AMT3  BILL_AMT4  BILL_AMT5  \\\n",
       "ID                                                                        \n",
       "1      -2     -2       3913       3102        689          0          0   \n",
       "2       0      2       2682       1725       2682       3272       3455   \n",
       "3       0      0      29239      14027      13559      14331      14948   \n",
       "4       0      0      46990      48233      49291      28314      28959   \n",
       "5       0      0       8617       5670      35835      20940      19146   \n",
       "\n",
       "    BILL_AMT6  PAY_AMT1  PAY_AMT2  PAY_AMT3  PAY_AMT4  PAY_AMT5  PAY_AMT6  \\\n",
       "ID                                                                          \n",
       "1           0         0       689         0         0         0         0   \n",
       "2        3261         0      1000      1000      1000         0      2000   \n",
       "3       15549      1518      1500      1000      1000      1000      5000   \n",
       "4       29547      2000      2019      1200      1100      1069      1000   \n",
       "5       19131      2000     36681     10000      9000       689       679   \n",
       "\n",
       "    default payment next month  \n",
       "ID                              \n",
       "1                            1  \n",
       "2                            1  \n",
       "3                            0  \n",
       "4                            0  \n",
       "5                            0  "
      ]
     },
     "execution_count": 14,
     "metadata": {},
     "output_type": "execute_result"
    }
   ],
   "source": [
    "# Inspect dataset\n",
    "loans.info()"
   ]
  },
  {
   "cell_type": "code",
   "execution_count": 16,
   "metadata": {
    "scrolled": true
   },
   "outputs": [
    {
     "data": {
      "text/html": [
       "<div>\n",
       "<style scoped>\n",
       "    .dataframe tbody tr th:only-of-type {\n",
       "        vertical-align: middle;\n",
       "    }\n",
       "\n",
       "    .dataframe tbody tr th {\n",
       "        vertical-align: top;\n",
       "    }\n",
       "\n",
       "    .dataframe thead th {\n",
       "        text-align: right;\n",
       "    }\n",
       "</style>\n",
       "<table border=\"1\" class=\"dataframe\">\n",
       "  <thead>\n",
       "    <tr style=\"text-align: right;\">\n",
       "      <th></th>\n",
       "      <th>LIMIT_BAL</th>\n",
       "      <th>SEX</th>\n",
       "      <th>EDUCATION</th>\n",
       "      <th>MARRIAGE</th>\n",
       "      <th>AGE</th>\n",
       "      <th>PAY_0</th>\n",
       "      <th>PAY_2</th>\n",
       "      <th>PAY_3</th>\n",
       "      <th>PAY_4</th>\n",
       "      <th>PAY_5</th>\n",
       "      <th>PAY_6</th>\n",
       "      <th>BILL_AMT1</th>\n",
       "      <th>BILL_AMT2</th>\n",
       "      <th>BILL_AMT3</th>\n",
       "      <th>BILL_AMT4</th>\n",
       "      <th>BILL_AMT5</th>\n",
       "      <th>BILL_AMT6</th>\n",
       "      <th>PAY_AMT1</th>\n",
       "      <th>PAY_AMT2</th>\n",
       "      <th>PAY_AMT3</th>\n",
       "      <th>PAY_AMT4</th>\n",
       "      <th>PAY_AMT5</th>\n",
       "      <th>PAY_AMT6</th>\n",
       "      <th>default payment next month</th>\n",
       "    </tr>\n",
       "  </thead>\n",
       "  <tbody>\n",
       "    <tr>\n",
       "      <th>count</th>\n",
       "      <td>30000.000000</td>\n",
       "      <td>30000.000000</td>\n",
       "      <td>30000.000000</td>\n",
       "      <td>30000.000000</td>\n",
       "      <td>30000.000000</td>\n",
       "      <td>30000.000000</td>\n",
       "      <td>30000.000000</td>\n",
       "      <td>30000.000000</td>\n",
       "      <td>30000.000000</td>\n",
       "      <td>30000.000000</td>\n",
       "      <td>30000.000000</td>\n",
       "      <td>30000.000000</td>\n",
       "      <td>30000.000000</td>\n",
       "      <td>3.000000e+04</td>\n",
       "      <td>30000.000000</td>\n",
       "      <td>30000.000000</td>\n",
       "      <td>30000.000000</td>\n",
       "      <td>30000.000000</td>\n",
       "      <td>3.000000e+04</td>\n",
       "      <td>30000.00000</td>\n",
       "      <td>30000.000000</td>\n",
       "      <td>30000.000000</td>\n",
       "      <td>30000.000000</td>\n",
       "      <td>30000.000000</td>\n",
       "    </tr>\n",
       "    <tr>\n",
       "      <th>mean</th>\n",
       "      <td>167484.322667</td>\n",
       "      <td>1.603733</td>\n",
       "      <td>1.853133</td>\n",
       "      <td>1.551867</td>\n",
       "      <td>35.485500</td>\n",
       "      <td>-0.016700</td>\n",
       "      <td>-0.133767</td>\n",
       "      <td>-0.166200</td>\n",
       "      <td>-0.220667</td>\n",
       "      <td>-0.266200</td>\n",
       "      <td>-0.291100</td>\n",
       "      <td>51223.330900</td>\n",
       "      <td>49179.075167</td>\n",
       "      <td>4.701315e+04</td>\n",
       "      <td>43262.948967</td>\n",
       "      <td>40311.400967</td>\n",
       "      <td>38871.760400</td>\n",
       "      <td>5663.580500</td>\n",
       "      <td>5.921163e+03</td>\n",
       "      <td>5225.68150</td>\n",
       "      <td>4826.076867</td>\n",
       "      <td>4799.387633</td>\n",
       "      <td>5215.502567</td>\n",
       "      <td>0.221200</td>\n",
       "    </tr>\n",
       "    <tr>\n",
       "      <th>std</th>\n",
       "      <td>129747.661567</td>\n",
       "      <td>0.489129</td>\n",
       "      <td>0.790349</td>\n",
       "      <td>0.521970</td>\n",
       "      <td>9.217904</td>\n",
       "      <td>1.123802</td>\n",
       "      <td>1.197186</td>\n",
       "      <td>1.196868</td>\n",
       "      <td>1.169139</td>\n",
       "      <td>1.133187</td>\n",
       "      <td>1.149988</td>\n",
       "      <td>73635.860576</td>\n",
       "      <td>71173.768783</td>\n",
       "      <td>6.934939e+04</td>\n",
       "      <td>64332.856134</td>\n",
       "      <td>60797.155770</td>\n",
       "      <td>59554.107537</td>\n",
       "      <td>16563.280354</td>\n",
       "      <td>2.304087e+04</td>\n",
       "      <td>17606.96147</td>\n",
       "      <td>15666.159744</td>\n",
       "      <td>15278.305679</td>\n",
       "      <td>17777.465775</td>\n",
       "      <td>0.415062</td>\n",
       "    </tr>\n",
       "    <tr>\n",
       "      <th>min</th>\n",
       "      <td>10000.000000</td>\n",
       "      <td>1.000000</td>\n",
       "      <td>0.000000</td>\n",
       "      <td>0.000000</td>\n",
       "      <td>21.000000</td>\n",
       "      <td>-2.000000</td>\n",
       "      <td>-2.000000</td>\n",
       "      <td>-2.000000</td>\n",
       "      <td>-2.000000</td>\n",
       "      <td>-2.000000</td>\n",
       "      <td>-2.000000</td>\n",
       "      <td>-165580.000000</td>\n",
       "      <td>-69777.000000</td>\n",
       "      <td>-1.572640e+05</td>\n",
       "      <td>-170000.000000</td>\n",
       "      <td>-81334.000000</td>\n",
       "      <td>-339603.000000</td>\n",
       "      <td>0.000000</td>\n",
       "      <td>0.000000e+00</td>\n",
       "      <td>0.00000</td>\n",
       "      <td>0.000000</td>\n",
       "      <td>0.000000</td>\n",
       "      <td>0.000000</td>\n",
       "      <td>0.000000</td>\n",
       "    </tr>\n",
       "    <tr>\n",
       "      <th>25%</th>\n",
       "      <td>50000.000000</td>\n",
       "      <td>1.000000</td>\n",
       "      <td>1.000000</td>\n",
       "      <td>1.000000</td>\n",
       "      <td>28.000000</td>\n",
       "      <td>-1.000000</td>\n",
       "      <td>-1.000000</td>\n",
       "      <td>-1.000000</td>\n",
       "      <td>-1.000000</td>\n",
       "      <td>-1.000000</td>\n",
       "      <td>-1.000000</td>\n",
       "      <td>3558.750000</td>\n",
       "      <td>2984.750000</td>\n",
       "      <td>2.666250e+03</td>\n",
       "      <td>2326.750000</td>\n",
       "      <td>1763.000000</td>\n",
       "      <td>1256.000000</td>\n",
       "      <td>1000.000000</td>\n",
       "      <td>8.330000e+02</td>\n",
       "      <td>390.00000</td>\n",
       "      <td>296.000000</td>\n",
       "      <td>252.500000</td>\n",
       "      <td>117.750000</td>\n",
       "      <td>0.000000</td>\n",
       "    </tr>\n",
       "    <tr>\n",
       "      <th>50%</th>\n",
       "      <td>140000.000000</td>\n",
       "      <td>2.000000</td>\n",
       "      <td>2.000000</td>\n",
       "      <td>2.000000</td>\n",
       "      <td>34.000000</td>\n",
       "      <td>0.000000</td>\n",
       "      <td>0.000000</td>\n",
       "      <td>0.000000</td>\n",
       "      <td>0.000000</td>\n",
       "      <td>0.000000</td>\n",
       "      <td>0.000000</td>\n",
       "      <td>22381.500000</td>\n",
       "      <td>21200.000000</td>\n",
       "      <td>2.008850e+04</td>\n",
       "      <td>19052.000000</td>\n",
       "      <td>18104.500000</td>\n",
       "      <td>17071.000000</td>\n",
       "      <td>2100.000000</td>\n",
       "      <td>2.009000e+03</td>\n",
       "      <td>1800.00000</td>\n",
       "      <td>1500.000000</td>\n",
       "      <td>1500.000000</td>\n",
       "      <td>1500.000000</td>\n",
       "      <td>0.000000</td>\n",
       "    </tr>\n",
       "    <tr>\n",
       "      <th>75%</th>\n",
       "      <td>240000.000000</td>\n",
       "      <td>2.000000</td>\n",
       "      <td>2.000000</td>\n",
       "      <td>2.000000</td>\n",
       "      <td>41.000000</td>\n",
       "      <td>0.000000</td>\n",
       "      <td>0.000000</td>\n",
       "      <td>0.000000</td>\n",
       "      <td>0.000000</td>\n",
       "      <td>0.000000</td>\n",
       "      <td>0.000000</td>\n",
       "      <td>67091.000000</td>\n",
       "      <td>64006.250000</td>\n",
       "      <td>6.016475e+04</td>\n",
       "      <td>54506.000000</td>\n",
       "      <td>50190.500000</td>\n",
       "      <td>49198.250000</td>\n",
       "      <td>5006.000000</td>\n",
       "      <td>5.000000e+03</td>\n",
       "      <td>4505.00000</td>\n",
       "      <td>4013.250000</td>\n",
       "      <td>4031.500000</td>\n",
       "      <td>4000.000000</td>\n",
       "      <td>0.000000</td>\n",
       "    </tr>\n",
       "    <tr>\n",
       "      <th>max</th>\n",
       "      <td>1000000.000000</td>\n",
       "      <td>2.000000</td>\n",
       "      <td>6.000000</td>\n",
       "      <td>3.000000</td>\n",
       "      <td>79.000000</td>\n",
       "      <td>8.000000</td>\n",
       "      <td>8.000000</td>\n",
       "      <td>8.000000</td>\n",
       "      <td>8.000000</td>\n",
       "      <td>8.000000</td>\n",
       "      <td>8.000000</td>\n",
       "      <td>964511.000000</td>\n",
       "      <td>983931.000000</td>\n",
       "      <td>1.664089e+06</td>\n",
       "      <td>891586.000000</td>\n",
       "      <td>927171.000000</td>\n",
       "      <td>961664.000000</td>\n",
       "      <td>873552.000000</td>\n",
       "      <td>1.684259e+06</td>\n",
       "      <td>896040.00000</td>\n",
       "      <td>621000.000000</td>\n",
       "      <td>426529.000000</td>\n",
       "      <td>528666.000000</td>\n",
       "      <td>1.000000</td>\n",
       "    </tr>\n",
       "  </tbody>\n",
       "</table>\n",
       "</div>"
      ],
      "text/plain": [
       "            LIMIT_BAL           SEX     EDUCATION      MARRIAGE           AGE  \\\n",
       "count    30000.000000  30000.000000  30000.000000  30000.000000  30000.000000   \n",
       "mean    167484.322667      1.603733      1.853133      1.551867     35.485500   \n",
       "std     129747.661567      0.489129      0.790349      0.521970      9.217904   \n",
       "min      10000.000000      1.000000      0.000000      0.000000     21.000000   \n",
       "25%      50000.000000      1.000000      1.000000      1.000000     28.000000   \n",
       "50%     140000.000000      2.000000      2.000000      2.000000     34.000000   \n",
       "75%     240000.000000      2.000000      2.000000      2.000000     41.000000   \n",
       "max    1000000.000000      2.000000      6.000000      3.000000     79.000000   \n",
       "\n",
       "              PAY_0         PAY_2         PAY_3         PAY_4         PAY_5  \\\n",
       "count  30000.000000  30000.000000  30000.000000  30000.000000  30000.000000   \n",
       "mean      -0.016700     -0.133767     -0.166200     -0.220667     -0.266200   \n",
       "std        1.123802      1.197186      1.196868      1.169139      1.133187   \n",
       "min       -2.000000     -2.000000     -2.000000     -2.000000     -2.000000   \n",
       "25%       -1.000000     -1.000000     -1.000000     -1.000000     -1.000000   \n",
       "50%        0.000000      0.000000      0.000000      0.000000      0.000000   \n",
       "75%        0.000000      0.000000      0.000000      0.000000      0.000000   \n",
       "max        8.000000      8.000000      8.000000      8.000000      8.000000   \n",
       "\n",
       "              PAY_6      BILL_AMT1      BILL_AMT2     BILL_AMT3  \\\n",
       "count  30000.000000   30000.000000   30000.000000  3.000000e+04   \n",
       "mean      -0.291100   51223.330900   49179.075167  4.701315e+04   \n",
       "std        1.149988   73635.860576   71173.768783  6.934939e+04   \n",
       "min       -2.000000 -165580.000000  -69777.000000 -1.572640e+05   \n",
       "25%       -1.000000    3558.750000    2984.750000  2.666250e+03   \n",
       "50%        0.000000   22381.500000   21200.000000  2.008850e+04   \n",
       "75%        0.000000   67091.000000   64006.250000  6.016475e+04   \n",
       "max        8.000000  964511.000000  983931.000000  1.664089e+06   \n",
       "\n",
       "           BILL_AMT4      BILL_AMT5      BILL_AMT6       PAY_AMT1  \\\n",
       "count   30000.000000   30000.000000   30000.000000   30000.000000   \n",
       "mean    43262.948967   40311.400967   38871.760400    5663.580500   \n",
       "std     64332.856134   60797.155770   59554.107537   16563.280354   \n",
       "min   -170000.000000  -81334.000000 -339603.000000       0.000000   \n",
       "25%      2326.750000    1763.000000    1256.000000    1000.000000   \n",
       "50%     19052.000000   18104.500000   17071.000000    2100.000000   \n",
       "75%     54506.000000   50190.500000   49198.250000    5006.000000   \n",
       "max    891586.000000  927171.000000  961664.000000  873552.000000   \n",
       "\n",
       "           PAY_AMT2      PAY_AMT3       PAY_AMT4       PAY_AMT5  \\\n",
       "count  3.000000e+04   30000.00000   30000.000000   30000.000000   \n",
       "mean   5.921163e+03    5225.68150    4826.076867    4799.387633   \n",
       "std    2.304087e+04   17606.96147   15666.159744   15278.305679   \n",
       "min    0.000000e+00       0.00000       0.000000       0.000000   \n",
       "25%    8.330000e+02     390.00000     296.000000     252.500000   \n",
       "50%    2.009000e+03    1800.00000    1500.000000    1500.000000   \n",
       "75%    5.000000e+03    4505.00000    4013.250000    4031.500000   \n",
       "max    1.684259e+06  896040.00000  621000.000000  426529.000000   \n",
       "\n",
       "            PAY_AMT6  default payment next month  \n",
       "count   30000.000000                30000.000000  \n",
       "mean     5215.502567                    0.221200  \n",
       "std     17777.465775                    0.415062  \n",
       "min         0.000000                    0.000000  \n",
       "25%       117.750000                    0.000000  \n",
       "50%      1500.000000                    0.000000  \n",
       "75%      4000.000000                    0.000000  \n",
       "max    528666.000000                    1.000000  "
      ]
     },
     "execution_count": 16,
     "metadata": {},
     "output_type": "execute_result"
    }
   ],
   "source": [
    "loans.describe()"
   ]
  },
  {
   "cell_type": "markdown",
   "metadata": {
    "_cell_guid": "53dad5c0-e147-4a75-9143-263c25aca443",
    "_uuid": "9174c9f401807a208e48aae2553eb69fa807f1cf"
   },
   "source": [
    "The size of the dataset is 2.5 GB with 2.3 million rows and 150 variables."
   ]
  },
  {
   "cell_type": "code",
   "execution_count": 15,
   "metadata": {},
   "outputs": [],
   "source": [
    "# To demo with the first 1,000,000 observations\n",
    "# Please remove this condition if you are serious about investing in P2P note :)\n",
    "loans = loans.head(1000000)"
   ]
  },
  {
   "cell_type": "code",
   "execution_count": 5,
   "metadata": {
    "_cell_guid": "ecdf5e79-8e7d-4e10-9d6a-bbed279cf07d",
    "_uuid": "927c3589a9c7ae39e78c2ad42f569101442cbb48",
    "scrolled": true
   },
   "outputs": [
    {
     "data": {
      "text/html": [
       "<div>\n",
       "<style scoped>\n",
       "    .dataframe tbody tr th:only-of-type {\n",
       "        vertical-align: middle;\n",
       "    }\n",
       "\n",
       "    .dataframe tbody tr th {\n",
       "        vertical-align: top;\n",
       "    }\n",
       "\n",
       "    .dataframe thead th {\n",
       "        text-align: right;\n",
       "    }\n",
       "</style>\n",
       "<table border=\"1\" class=\"dataframe\">\n",
       "  <thead>\n",
       "    <tr style=\"text-align: right;\">\n",
       "      <th></th>\n",
       "      <th>id</th>\n",
       "      <th>member_id</th>\n",
       "      <th>loan_amnt</th>\n",
       "      <th>funded_amnt</th>\n",
       "      <th>funded_amnt_inv</th>\n",
       "      <th>term</th>\n",
       "      <th>int_rate</th>\n",
       "      <th>installment</th>\n",
       "      <th>grade</th>\n",
       "      <th>sub_grade</th>\n",
       "      <th>emp_title</th>\n",
       "      <th>emp_length</th>\n",
       "      <th>home_ownership</th>\n",
       "      <th>annual_inc</th>\n",
       "      <th>verification_status</th>\n",
       "      <th>issue_d</th>\n",
       "      <th>loan_status</th>\n",
       "      <th>pymnt_plan</th>\n",
       "      <th>url</th>\n",
       "      <th>desc</th>\n",
       "      <th>purpose</th>\n",
       "      <th>title</th>\n",
       "      <th>zip_code</th>\n",
       "      <th>addr_state</th>\n",
       "      <th>dti</th>\n",
       "      <th>delinq_2yrs</th>\n",
       "      <th>earliest_cr_line</th>\n",
       "      <th>fico_range_low</th>\n",
       "      <th>fico_range_high</th>\n",
       "      <th>inq_last_6mths</th>\n",
       "      <th>mths_since_last_delinq</th>\n",
       "      <th>mths_since_last_record</th>\n",
       "      <th>open_acc</th>\n",
       "      <th>pub_rec</th>\n",
       "      <th>revol_bal</th>\n",
       "      <th>revol_util</th>\n",
       "      <th>total_acc</th>\n",
       "      <th>initial_list_status</th>\n",
       "      <th>out_prncp</th>\n",
       "      <th>out_prncp_inv</th>\n",
       "      <th>total_pymnt</th>\n",
       "      <th>total_pymnt_inv</th>\n",
       "      <th>total_rec_prncp</th>\n",
       "      <th>total_rec_int</th>\n",
       "      <th>total_rec_late_fee</th>\n",
       "      <th>recoveries</th>\n",
       "      <th>collection_recovery_fee</th>\n",
       "      <th>last_pymnt_d</th>\n",
       "      <th>last_pymnt_amnt</th>\n",
       "      <th>next_pymnt_d</th>\n",
       "      <th>last_credit_pull_d</th>\n",
       "      <th>last_fico_range_high</th>\n",
       "      <th>last_fico_range_low</th>\n",
       "      <th>collections_12_mths_ex_med</th>\n",
       "      <th>mths_since_last_major_derog</th>\n",
       "      <th>policy_code</th>\n",
       "      <th>application_type</th>\n",
       "      <th>annual_inc_joint</th>\n",
       "      <th>dti_joint</th>\n",
       "      <th>verification_status_joint</th>\n",
       "      <th>acc_now_delinq</th>\n",
       "      <th>tot_coll_amt</th>\n",
       "      <th>tot_cur_bal</th>\n",
       "      <th>open_acc_6m</th>\n",
       "      <th>open_act_il</th>\n",
       "      <th>open_il_12m</th>\n",
       "      <th>open_il_24m</th>\n",
       "      <th>mths_since_rcnt_il</th>\n",
       "      <th>total_bal_il</th>\n",
       "      <th>il_util</th>\n",
       "      <th>open_rv_12m</th>\n",
       "      <th>open_rv_24m</th>\n",
       "      <th>max_bal_bc</th>\n",
       "      <th>all_util</th>\n",
       "      <th>total_rev_hi_lim</th>\n",
       "      <th>inq_fi</th>\n",
       "      <th>total_cu_tl</th>\n",
       "      <th>inq_last_12m</th>\n",
       "      <th>acc_open_past_24mths</th>\n",
       "      <th>avg_cur_bal</th>\n",
       "      <th>bc_open_to_buy</th>\n",
       "      <th>bc_util</th>\n",
       "      <th>chargeoff_within_12_mths</th>\n",
       "      <th>delinq_amnt</th>\n",
       "      <th>mo_sin_old_il_acct</th>\n",
       "      <th>mo_sin_old_rev_tl_op</th>\n",
       "      <th>mo_sin_rcnt_rev_tl_op</th>\n",
       "      <th>mo_sin_rcnt_tl</th>\n",
       "      <th>mort_acc</th>\n",
       "      <th>mths_since_recent_bc</th>\n",
       "      <th>mths_since_recent_bc_dlq</th>\n",
       "      <th>mths_since_recent_inq</th>\n",
       "      <th>mths_since_recent_revol_delinq</th>\n",
       "      <th>num_accts_ever_120_pd</th>\n",
       "      <th>num_actv_bc_tl</th>\n",
       "      <th>num_actv_rev_tl</th>\n",
       "      <th>num_bc_sats</th>\n",
       "      <th>num_bc_tl</th>\n",
       "      <th>num_il_tl</th>\n",
       "      <th>num_op_rev_tl</th>\n",
       "      <th>num_rev_accts</th>\n",
       "      <th>num_rev_tl_bal_gt_0</th>\n",
       "      <th>num_sats</th>\n",
       "      <th>num_tl_120dpd_2m</th>\n",
       "      <th>num_tl_30dpd</th>\n",
       "      <th>num_tl_90g_dpd_24m</th>\n",
       "      <th>num_tl_op_past_12m</th>\n",
       "      <th>pct_tl_nvr_dlq</th>\n",
       "      <th>percent_bc_gt_75</th>\n",
       "      <th>pub_rec_bankruptcies</th>\n",
       "      <th>tax_liens</th>\n",
       "      <th>tot_hi_cred_lim</th>\n",
       "      <th>total_bal_ex_mort</th>\n",
       "      <th>total_bc_limit</th>\n",
       "      <th>total_il_high_credit_limit</th>\n",
       "      <th>revol_bal_joint</th>\n",
       "      <th>sec_app_fico_range_low</th>\n",
       "      <th>sec_app_fico_range_high</th>\n",
       "      <th>sec_app_earliest_cr_line</th>\n",
       "      <th>sec_app_inq_last_6mths</th>\n",
       "      <th>sec_app_mort_acc</th>\n",
       "      <th>sec_app_open_acc</th>\n",
       "      <th>sec_app_revol_util</th>\n",
       "      <th>sec_app_open_act_il</th>\n",
       "      <th>sec_app_num_rev_accts</th>\n",
       "      <th>sec_app_chargeoff_within_12_mths</th>\n",
       "      <th>sec_app_collections_12_mths_ex_med</th>\n",
       "      <th>sec_app_mths_since_last_major_derog</th>\n",
       "      <th>hardship_flag</th>\n",
       "      <th>hardship_type</th>\n",
       "      <th>hardship_reason</th>\n",
       "      <th>hardship_status</th>\n",
       "      <th>deferral_term</th>\n",
       "      <th>hardship_amount</th>\n",
       "      <th>hardship_start_date</th>\n",
       "      <th>hardship_end_date</th>\n",
       "      <th>payment_plan_start_date</th>\n",
       "      <th>hardship_length</th>\n",
       "      <th>hardship_dpd</th>\n",
       "      <th>hardship_loan_status</th>\n",
       "      <th>orig_projected_additional_accrued_interest</th>\n",
       "      <th>hardship_payoff_balance_amount</th>\n",
       "      <th>hardship_last_payment_amount</th>\n",
       "      <th>disbursement_method</th>\n",
       "      <th>debt_settlement_flag</th>\n",
       "      <th>debt_settlement_flag_date</th>\n",
       "      <th>settlement_status</th>\n",
       "      <th>settlement_date</th>\n",
       "      <th>settlement_amount</th>\n",
       "      <th>settlement_percentage</th>\n",
       "      <th>settlement_term</th>\n",
       "    </tr>\n",
       "  </thead>\n",
       "  <tbody>\n",
       "    <tr>\n",
       "      <th>147946</th>\n",
       "      <td>59759264</td>\n",
       "      <td>NaN</td>\n",
       "      <td>16500.0</td>\n",
       "      <td>16500.0</td>\n",
       "      <td>16500.0</td>\n",
       "      <td>60 months</td>\n",
       "      <td>16.99</td>\n",
       "      <td>409.98</td>\n",
       "      <td>D</td>\n",
       "      <td>D3</td>\n",
       "      <td>Customer Success Engineer</td>\n",
       "      <td>2 years</td>\n",
       "      <td>RENT</td>\n",
       "      <td>75000.0</td>\n",
       "      <td>Verified</td>\n",
       "      <td>Sep-2015</td>\n",
       "      <td>Fully Paid</td>\n",
       "      <td>n</td>\n",
       "      <td>https://lendingclub.com/browse/loanDetail.action?loan_id=59759264</td>\n",
       "      <td>NaN</td>\n",
       "      <td>debt_consolidation</td>\n",
       "      <td>Debt consolidation</td>\n",
       "      <td>982xx</td>\n",
       "      <td>WA</td>\n",
       "      <td>25.29</td>\n",
       "      <td>0.0</td>\n",
       "      <td>Jul-2009</td>\n",
       "      <td>665.0</td>\n",
       "      <td>669.0</td>\n",
       "      <td>1.0</td>\n",
       "      <td>NaN</td>\n",
       "      <td>NaN</td>\n",
       "      <td>9.0</td>\n",
       "      <td>0.0</td>\n",
       "      <td>16779.0</td>\n",
       "      <td>82.2</td>\n",
       "      <td>13.0</td>\n",
       "      <td>w</td>\n",
       "      <td>0.00</td>\n",
       "      <td>0.00</td>\n",
       "      <td>17262.390000</td>\n",
       "      <td>17262.39</td>\n",
       "      <td>16500.00</td>\n",
       "      <td>762.39</td>\n",
       "      <td>0.0</td>\n",
       "      <td>0.0</td>\n",
       "      <td>0.0</td>\n",
       "      <td>Jan-2016</td>\n",
       "      <td>16403.50</td>\n",
       "      <td>NaN</td>\n",
       "      <td>May-2018</td>\n",
       "      <td>794.0</td>\n",
       "      <td>790.0</td>\n",
       "      <td>0.0</td>\n",
       "      <td>NaN</td>\n",
       "      <td>1.0</td>\n",
       "      <td>Individual</td>\n",
       "      <td>NaN</td>\n",
       "      <td>NaN</td>\n",
       "      <td>NaN</td>\n",
       "      <td>0.0</td>\n",
       "      <td>0.0</td>\n",
       "      <td>74680.0</td>\n",
       "      <td>NaN</td>\n",
       "      <td>NaN</td>\n",
       "      <td>NaN</td>\n",
       "      <td>NaN</td>\n",
       "      <td>NaN</td>\n",
       "      <td>NaN</td>\n",
       "      <td>NaN</td>\n",
       "      <td>NaN</td>\n",
       "      <td>NaN</td>\n",
       "      <td>NaN</td>\n",
       "      <td>NaN</td>\n",
       "      <td>20400.0</td>\n",
       "      <td>NaN</td>\n",
       "      <td>NaN</td>\n",
       "      <td>NaN</td>\n",
       "      <td>6.0</td>\n",
       "      <td>8298.0</td>\n",
       "      <td>2319.0</td>\n",
       "      <td>82.0</td>\n",
       "      <td>0.0</td>\n",
       "      <td>0.0</td>\n",
       "      <td>31.0</td>\n",
       "      <td>74.0</td>\n",
       "      <td>11.0</td>\n",
       "      <td>5.0</td>\n",
       "      <td>0.0</td>\n",
       "      <td>11.0</td>\n",
       "      <td>NaN</td>\n",
       "      <td>2.0</td>\n",
       "      <td>NaN</td>\n",
       "      <td>0.0</td>\n",
       "      <td>5.0</td>\n",
       "      <td>6.0</td>\n",
       "      <td>5.0</td>\n",
       "      <td>6.0</td>\n",
       "      <td>5.0</td>\n",
       "      <td>6.0</td>\n",
       "      <td>7.0</td>\n",
       "      <td>6.0</td>\n",
       "      <td>9.0</td>\n",
       "      <td>0.0</td>\n",
       "      <td>0.0</td>\n",
       "      <td>0.0</td>\n",
       "      <td>2.0</td>\n",
       "      <td>100.0</td>\n",
       "      <td>60.0</td>\n",
       "      <td>0.0</td>\n",
       "      <td>0.0</td>\n",
       "      <td>86685.0</td>\n",
       "      <td>74680.0</td>\n",
       "      <td>12900.0</td>\n",
       "      <td>66285.0</td>\n",
       "      <td>NaN</td>\n",
       "      <td>NaN</td>\n",
       "      <td>NaN</td>\n",
       "      <td>NaN</td>\n",
       "      <td>NaN</td>\n",
       "      <td>NaN</td>\n",
       "      <td>NaN</td>\n",
       "      <td>NaN</td>\n",
       "      <td>NaN</td>\n",
       "      <td>NaN</td>\n",
       "      <td>NaN</td>\n",
       "      <td>NaN</td>\n",
       "      <td>NaN</td>\n",
       "      <td>N</td>\n",
       "      <td>NaN</td>\n",
       "      <td>NaN</td>\n",
       "      <td>NaN</td>\n",
       "      <td>NaN</td>\n",
       "      <td>NaN</td>\n",
       "      <td>NaN</td>\n",
       "      <td>NaN</td>\n",
       "      <td>NaN</td>\n",
       "      <td>NaN</td>\n",
       "      <td>NaN</td>\n",
       "      <td>NaN</td>\n",
       "      <td>NaN</td>\n",
       "      <td>NaN</td>\n",
       "      <td>NaN</td>\n",
       "      <td>Cash</td>\n",
       "      <td>N</td>\n",
       "      <td>NaN</td>\n",
       "      <td>NaN</td>\n",
       "      <td>NaN</td>\n",
       "      <td>NaN</td>\n",
       "      <td>NaN</td>\n",
       "      <td>NaN</td>\n",
       "    </tr>\n",
       "    <tr>\n",
       "      <th>552060</th>\n",
       "      <td>118552424</td>\n",
       "      <td>NaN</td>\n",
       "      <td>3000.0</td>\n",
       "      <td>3000.0</td>\n",
       "      <td>3000.0</td>\n",
       "      <td>36 months</td>\n",
       "      <td>10.42</td>\n",
       "      <td>97.40</td>\n",
       "      <td>B</td>\n",
       "      <td>B3</td>\n",
       "      <td>Owner</td>\n",
       "      <td>3 years</td>\n",
       "      <td>RENT</td>\n",
       "      <td>25000.0</td>\n",
       "      <td>Source Verified</td>\n",
       "      <td>Sep-2017</td>\n",
       "      <td>Current</td>\n",
       "      <td>n</td>\n",
       "      <td>https://lendingclub.com/browse/loanDetail.action?loan_id=118552424</td>\n",
       "      <td>NaN</td>\n",
       "      <td>house</td>\n",
       "      <td>Home buying</td>\n",
       "      <td>276xx</td>\n",
       "      <td>NC</td>\n",
       "      <td>18.84</td>\n",
       "      <td>4.0</td>\n",
       "      <td>Apr-1991</td>\n",
       "      <td>690.0</td>\n",
       "      <td>694.0</td>\n",
       "      <td>0.0</td>\n",
       "      <td>12.0</td>\n",
       "      <td>NaN</td>\n",
       "      <td>9.0</td>\n",
       "      <td>0.0</td>\n",
       "      <td>92033.0</td>\n",
       "      <td>22.2</td>\n",
       "      <td>19.0</td>\n",
       "      <td>w</td>\n",
       "      <td>1616.37</td>\n",
       "      <td>1616.37</td>\n",
       "      <td>1741.290000</td>\n",
       "      <td>1741.29</td>\n",
       "      <td>1383.63</td>\n",
       "      <td>357.66</td>\n",
       "      <td>0.0</td>\n",
       "      <td>0.0</td>\n",
       "      <td>0.0</td>\n",
       "      <td>Mar-2019</td>\n",
       "      <td>97.40</td>\n",
       "      <td>Apr-2019</td>\n",
       "      <td>Mar-2019</td>\n",
       "      <td>574.0</td>\n",
       "      <td>570.0</td>\n",
       "      <td>0.0</td>\n",
       "      <td>43.0</td>\n",
       "      <td>1.0</td>\n",
       "      <td>Individual</td>\n",
       "      <td>NaN</td>\n",
       "      <td>NaN</td>\n",
       "      <td>NaN</td>\n",
       "      <td>0.0</td>\n",
       "      <td>0.0</td>\n",
       "      <td>93551.0</td>\n",
       "      <td>0.0</td>\n",
       "      <td>0.0</td>\n",
       "      <td>0.0</td>\n",
       "      <td>0.0</td>\n",
       "      <td>NaN</td>\n",
       "      <td>0.0</td>\n",
       "      <td>NaN</td>\n",
       "      <td>0.0</td>\n",
       "      <td>1.0</td>\n",
       "      <td>0.0</td>\n",
       "      <td>35.0</td>\n",
       "      <td>133100.0</td>\n",
       "      <td>0.0</td>\n",
       "      <td>0.0</td>\n",
       "      <td>0.0</td>\n",
       "      <td>1.0</td>\n",
       "      <td>10395.0</td>\n",
       "      <td>3000.0</td>\n",
       "      <td>0.0</td>\n",
       "      <td>0.0</td>\n",
       "      <td>0.0</td>\n",
       "      <td>NaN</td>\n",
       "      <td>317.0</td>\n",
       "      <td>24.0</td>\n",
       "      <td>24.0</td>\n",
       "      <td>1.0</td>\n",
       "      <td>33.0</td>\n",
       "      <td>12.0</td>\n",
       "      <td>NaN</td>\n",
       "      <td>12.0</td>\n",
       "      <td>1.0</td>\n",
       "      <td>0.0</td>\n",
       "      <td>4.0</td>\n",
       "      <td>3.0</td>\n",
       "      <td>8.0</td>\n",
       "      <td>0.0</td>\n",
       "      <td>8.0</td>\n",
       "      <td>17.0</td>\n",
       "      <td>4.0</td>\n",
       "      <td>9.0</td>\n",
       "      <td>0.0</td>\n",
       "      <td>0.0</td>\n",
       "      <td>0.0</td>\n",
       "      <td>0.0</td>\n",
       "      <td>63.2</td>\n",
       "      <td>0.0</td>\n",
       "      <td>0.0</td>\n",
       "      <td>0.0</td>\n",
       "      <td>134618.0</td>\n",
       "      <td>93551.0</td>\n",
       "      <td>3000.0</td>\n",
       "      <td>0.0</td>\n",
       "      <td>NaN</td>\n",
       "      <td>NaN</td>\n",
       "      <td>NaN</td>\n",
       "      <td>NaN</td>\n",
       "      <td>NaN</td>\n",
       "      <td>NaN</td>\n",
       "      <td>NaN</td>\n",
       "      <td>NaN</td>\n",
       "      <td>NaN</td>\n",
       "      <td>NaN</td>\n",
       "      <td>NaN</td>\n",
       "      <td>NaN</td>\n",
       "      <td>NaN</td>\n",
       "      <td>N</td>\n",
       "      <td>NaN</td>\n",
       "      <td>NaN</td>\n",
       "      <td>NaN</td>\n",
       "      <td>NaN</td>\n",
       "      <td>NaN</td>\n",
       "      <td>NaN</td>\n",
       "      <td>NaN</td>\n",
       "      <td>NaN</td>\n",
       "      <td>NaN</td>\n",
       "      <td>NaN</td>\n",
       "      <td>NaN</td>\n",
       "      <td>NaN</td>\n",
       "      <td>NaN</td>\n",
       "      <td>NaN</td>\n",
       "      <td>Cash</td>\n",
       "      <td>N</td>\n",
       "      <td>NaN</td>\n",
       "      <td>NaN</td>\n",
       "      <td>NaN</td>\n",
       "      <td>NaN</td>\n",
       "      <td>NaN</td>\n",
       "      <td>NaN</td>\n",
       "    </tr>\n",
       "    <tr>\n",
       "      <th>806713</th>\n",
       "      <td>138727958</td>\n",
       "      <td>NaN</td>\n",
       "      <td>8000.0</td>\n",
       "      <td>8000.0</td>\n",
       "      <td>8000.0</td>\n",
       "      <td>36 months</td>\n",
       "      <td>16.91</td>\n",
       "      <td>284.87</td>\n",
       "      <td>C</td>\n",
       "      <td>C5</td>\n",
       "      <td>Detention information assistant</td>\n",
       "      <td>10+ years</td>\n",
       "      <td>RENT</td>\n",
       "      <td>35000.0</td>\n",
       "      <td>Verified</td>\n",
       "      <td>Aug-2018</td>\n",
       "      <td>Current</td>\n",
       "      <td>n</td>\n",
       "      <td>https://lendingclub.com/browse/loanDetail.action?loan_id=138727958</td>\n",
       "      <td>NaN</td>\n",
       "      <td>debt_consolidation</td>\n",
       "      <td>Debt consolidation</td>\n",
       "      <td>920xx</td>\n",
       "      <td>CA</td>\n",
       "      <td>28.40</td>\n",
       "      <td>0.0</td>\n",
       "      <td>Oct-2013</td>\n",
       "      <td>665.0</td>\n",
       "      <td>669.0</td>\n",
       "      <td>0.0</td>\n",
       "      <td>NaN</td>\n",
       "      <td>NaN</td>\n",
       "      <td>7.0</td>\n",
       "      <td>0.0</td>\n",
       "      <td>5145.0</td>\n",
       "      <td>84.3</td>\n",
       "      <td>7.0</td>\n",
       "      <td>f</td>\n",
       "      <td>6742.89</td>\n",
       "      <td>6742.89</td>\n",
       "      <td>1986.570000</td>\n",
       "      <td>1986.57</td>\n",
       "      <td>1257.11</td>\n",
       "      <td>729.46</td>\n",
       "      <td>0.0</td>\n",
       "      <td>0.0</td>\n",
       "      <td>0.0</td>\n",
       "      <td>Mar-2019</td>\n",
       "      <td>284.87</td>\n",
       "      <td>Apr-2019</td>\n",
       "      <td>Mar-2019</td>\n",
       "      <td>674.0</td>\n",
       "      <td>670.0</td>\n",
       "      <td>0.0</td>\n",
       "      <td>NaN</td>\n",
       "      <td>1.0</td>\n",
       "      <td>Individual</td>\n",
       "      <td>NaN</td>\n",
       "      <td>NaN</td>\n",
       "      <td>NaN</td>\n",
       "      <td>0.0</td>\n",
       "      <td>0.0</td>\n",
       "      <td>24080.0</td>\n",
       "      <td>1.0</td>\n",
       "      <td>2.0</td>\n",
       "      <td>0.0</td>\n",
       "      <td>1.0</td>\n",
       "      <td>15.0</td>\n",
       "      <td>18935.0</td>\n",
       "      <td>53.0</td>\n",
       "      <td>3.0</td>\n",
       "      <td>5.0</td>\n",
       "      <td>2381.0</td>\n",
       "      <td>57.0</td>\n",
       "      <td>6100.0</td>\n",
       "      <td>0.0</td>\n",
       "      <td>1.0</td>\n",
       "      <td>0.0</td>\n",
       "      <td>6.0</td>\n",
       "      <td>3440.0</td>\n",
       "      <td>217.0</td>\n",
       "      <td>95.2</td>\n",
       "      <td>0.0</td>\n",
       "      <td>0.0</td>\n",
       "      <td>58.0</td>\n",
       "      <td>20.0</td>\n",
       "      <td>2.0</td>\n",
       "      <td>2.0</td>\n",
       "      <td>0.0</td>\n",
       "      <td>11.0</td>\n",
       "      <td>NaN</td>\n",
       "      <td>14.0</td>\n",
       "      <td>NaN</td>\n",
       "      <td>0.0</td>\n",
       "      <td>2.0</td>\n",
       "      <td>5.0</td>\n",
       "      <td>2.0</td>\n",
       "      <td>2.0</td>\n",
       "      <td>2.0</td>\n",
       "      <td>5.0</td>\n",
       "      <td>5.0</td>\n",
       "      <td>5.0</td>\n",
       "      <td>7.0</td>\n",
       "      <td>0.0</td>\n",
       "      <td>0.0</td>\n",
       "      <td>0.0</td>\n",
       "      <td>3.0</td>\n",
       "      <td>100.0</td>\n",
       "      <td>100.0</td>\n",
       "      <td>0.0</td>\n",
       "      <td>0.0</td>\n",
       "      <td>41932.0</td>\n",
       "      <td>24080.0</td>\n",
       "      <td>4500.0</td>\n",
       "      <td>35832.0</td>\n",
       "      <td>NaN</td>\n",
       "      <td>NaN</td>\n",
       "      <td>NaN</td>\n",
       "      <td>NaN</td>\n",
       "      <td>NaN</td>\n",
       "      <td>NaN</td>\n",
       "      <td>NaN</td>\n",
       "      <td>NaN</td>\n",
       "      <td>NaN</td>\n",
       "      <td>NaN</td>\n",
       "      <td>NaN</td>\n",
       "      <td>NaN</td>\n",
       "      <td>NaN</td>\n",
       "      <td>N</td>\n",
       "      <td>NaN</td>\n",
       "      <td>NaN</td>\n",
       "      <td>NaN</td>\n",
       "      <td>NaN</td>\n",
       "      <td>NaN</td>\n",
       "      <td>NaN</td>\n",
       "      <td>NaN</td>\n",
       "      <td>NaN</td>\n",
       "      <td>NaN</td>\n",
       "      <td>NaN</td>\n",
       "      <td>NaN</td>\n",
       "      <td>NaN</td>\n",
       "      <td>NaN</td>\n",
       "      <td>NaN</td>\n",
       "      <td>Cash</td>\n",
       "      <td>N</td>\n",
       "      <td>NaN</td>\n",
       "      <td>NaN</td>\n",
       "      <td>NaN</td>\n",
       "      <td>NaN</td>\n",
       "      <td>NaN</td>\n",
       "      <td>NaN</td>\n",
       "    </tr>\n",
       "    <tr>\n",
       "      <th>121027</th>\n",
       "      <td>60902151</td>\n",
       "      <td>NaN</td>\n",
       "      <td>10000.0</td>\n",
       "      <td>10000.0</td>\n",
       "      <td>10000.0</td>\n",
       "      <td>36 months</td>\n",
       "      <td>7.89</td>\n",
       "      <td>312.86</td>\n",
       "      <td>A</td>\n",
       "      <td>A5</td>\n",
       "      <td>Director of Housekeeping</td>\n",
       "      <td>1 year</td>\n",
       "      <td>RENT</td>\n",
       "      <td>55000.0</td>\n",
       "      <td>Verified</td>\n",
       "      <td>Oct-2015</td>\n",
       "      <td>Fully Paid</td>\n",
       "      <td>n</td>\n",
       "      <td>https://lendingclub.com/browse/loanDetail.action?loan_id=60902151</td>\n",
       "      <td>NaN</td>\n",
       "      <td>debt_consolidation</td>\n",
       "      <td>Debt consolidation</td>\n",
       "      <td>333xx</td>\n",
       "      <td>FL</td>\n",
       "      <td>15.47</td>\n",
       "      <td>0.0</td>\n",
       "      <td>May-2006</td>\n",
       "      <td>720.0</td>\n",
       "      <td>724.0</td>\n",
       "      <td>0.0</td>\n",
       "      <td>70.0</td>\n",
       "      <td>NaN</td>\n",
       "      <td>14.0</td>\n",
       "      <td>0.0</td>\n",
       "      <td>10816.0</td>\n",
       "      <td>30.2</td>\n",
       "      <td>20.0</td>\n",
       "      <td>w</td>\n",
       "      <td>0.00</td>\n",
       "      <td>0.00</td>\n",
       "      <td>11267.696794</td>\n",
       "      <td>11267.70</td>\n",
       "      <td>10000.00</td>\n",
       "      <td>1267.70</td>\n",
       "      <td>0.0</td>\n",
       "      <td>0.0</td>\n",
       "      <td>0.0</td>\n",
       "      <td>Oct-2018</td>\n",
       "      <td>312.71</td>\n",
       "      <td>NaN</td>\n",
       "      <td>Oct-2018</td>\n",
       "      <td>734.0</td>\n",
       "      <td>730.0</td>\n",
       "      <td>0.0</td>\n",
       "      <td>NaN</td>\n",
       "      <td>1.0</td>\n",
       "      <td>Individual</td>\n",
       "      <td>NaN</td>\n",
       "      <td>NaN</td>\n",
       "      <td>NaN</td>\n",
       "      <td>0.0</td>\n",
       "      <td>0.0</td>\n",
       "      <td>14639.0</td>\n",
       "      <td>NaN</td>\n",
       "      <td>NaN</td>\n",
       "      <td>NaN</td>\n",
       "      <td>NaN</td>\n",
       "      <td>NaN</td>\n",
       "      <td>NaN</td>\n",
       "      <td>NaN</td>\n",
       "      <td>NaN</td>\n",
       "      <td>NaN</td>\n",
       "      <td>NaN</td>\n",
       "      <td>NaN</td>\n",
       "      <td>35800.0</td>\n",
       "      <td>NaN</td>\n",
       "      <td>NaN</td>\n",
       "      <td>NaN</td>\n",
       "      <td>2.0</td>\n",
       "      <td>1331.0</td>\n",
       "      <td>7356.0</td>\n",
       "      <td>56.7</td>\n",
       "      <td>0.0</td>\n",
       "      <td>0.0</td>\n",
       "      <td>99.0</td>\n",
       "      <td>112.0</td>\n",
       "      <td>8.0</td>\n",
       "      <td>8.0</td>\n",
       "      <td>0.0</td>\n",
       "      <td>72.0</td>\n",
       "      <td>NaN</td>\n",
       "      <td>0.0</td>\n",
       "      <td>70.0</td>\n",
       "      <td>0.0</td>\n",
       "      <td>3.0</td>\n",
       "      <td>5.0</td>\n",
       "      <td>3.0</td>\n",
       "      <td>3.0</td>\n",
       "      <td>10.0</td>\n",
       "      <td>10.0</td>\n",
       "      <td>10.0</td>\n",
       "      <td>5.0</td>\n",
       "      <td>14.0</td>\n",
       "      <td>0.0</td>\n",
       "      <td>0.0</td>\n",
       "      <td>0.0</td>\n",
       "      <td>2.0</td>\n",
       "      <td>95.0</td>\n",
       "      <td>0.0</td>\n",
       "      <td>0.0</td>\n",
       "      <td>0.0</td>\n",
       "      <td>56878.0</td>\n",
       "      <td>14639.0</td>\n",
       "      <td>17000.0</td>\n",
       "      <td>21078.0</td>\n",
       "      <td>NaN</td>\n",
       "      <td>NaN</td>\n",
       "      <td>NaN</td>\n",
       "      <td>NaN</td>\n",
       "      <td>NaN</td>\n",
       "      <td>NaN</td>\n",
       "      <td>NaN</td>\n",
       "      <td>NaN</td>\n",
       "      <td>NaN</td>\n",
       "      <td>NaN</td>\n",
       "      <td>NaN</td>\n",
       "      <td>NaN</td>\n",
       "      <td>NaN</td>\n",
       "      <td>N</td>\n",
       "      <td>NaN</td>\n",
       "      <td>NaN</td>\n",
       "      <td>NaN</td>\n",
       "      <td>NaN</td>\n",
       "      <td>NaN</td>\n",
       "      <td>NaN</td>\n",
       "      <td>NaN</td>\n",
       "      <td>NaN</td>\n",
       "      <td>NaN</td>\n",
       "      <td>NaN</td>\n",
       "      <td>NaN</td>\n",
       "      <td>NaN</td>\n",
       "      <td>NaN</td>\n",
       "      <td>NaN</td>\n",
       "      <td>Cash</td>\n",
       "      <td>N</td>\n",
       "      <td>NaN</td>\n",
       "      <td>NaN</td>\n",
       "      <td>NaN</td>\n",
       "      <td>NaN</td>\n",
       "      <td>NaN</td>\n",
       "      <td>NaN</td>\n",
       "    </tr>\n",
       "    <tr>\n",
       "      <th>476107</th>\n",
       "      <td>128525942</td>\n",
       "      <td>NaN</td>\n",
       "      <td>23000.0</td>\n",
       "      <td>23000.0</td>\n",
       "      <td>23000.0</td>\n",
       "      <td>36 months</td>\n",
       "      <td>6.72</td>\n",
       "      <td>707.24</td>\n",
       "      <td>A</td>\n",
       "      <td>A3</td>\n",
       "      <td>Driver</td>\n",
       "      <td>&lt; 1 year</td>\n",
       "      <td>RENT</td>\n",
       "      <td>64000.0</td>\n",
       "      <td>Source Verified</td>\n",
       "      <td>Feb-2018</td>\n",
       "      <td>Fully Paid</td>\n",
       "      <td>n</td>\n",
       "      <td>https://lendingclub.com/browse/loanDetail.action?loan_id=128525942</td>\n",
       "      <td>NaN</td>\n",
       "      <td>other</td>\n",
       "      <td>Other</td>\n",
       "      <td>852xx</td>\n",
       "      <td>AZ</td>\n",
       "      <td>1.03</td>\n",
       "      <td>0.0</td>\n",
       "      <td>Sep-1981</td>\n",
       "      <td>705.0</td>\n",
       "      <td>709.0</td>\n",
       "      <td>0.0</td>\n",
       "      <td>47.0</td>\n",
       "      <td>NaN</td>\n",
       "      <td>6.0</td>\n",
       "      <td>0.0</td>\n",
       "      <td>914.0</td>\n",
       "      <td>10.2</td>\n",
       "      <td>15.0</td>\n",
       "      <td>w</td>\n",
       "      <td>0.00</td>\n",
       "      <td>0.00</td>\n",
       "      <td>23034.343333</td>\n",
       "      <td>23034.34</td>\n",
       "      <td>23000.00</td>\n",
       "      <td>34.34</td>\n",
       "      <td>0.0</td>\n",
       "      <td>0.0</td>\n",
       "      <td>0.0</td>\n",
       "      <td>Mar-2018</td>\n",
       "      <td>23042.93</td>\n",
       "      <td>NaN</td>\n",
       "      <td>Mar-2019</td>\n",
       "      <td>704.0</td>\n",
       "      <td>700.0</td>\n",
       "      <td>0.0</td>\n",
       "      <td>47.0</td>\n",
       "      <td>1.0</td>\n",
       "      <td>Individual</td>\n",
       "      <td>NaN</td>\n",
       "      <td>NaN</td>\n",
       "      <td>NaN</td>\n",
       "      <td>0.0</td>\n",
       "      <td>0.0</td>\n",
       "      <td>914.0</td>\n",
       "      <td>0.0</td>\n",
       "      <td>0.0</td>\n",
       "      <td>0.0</td>\n",
       "      <td>0.0</td>\n",
       "      <td>NaN</td>\n",
       "      <td>0.0</td>\n",
       "      <td>NaN</td>\n",
       "      <td>0.0</td>\n",
       "      <td>1.0</td>\n",
       "      <td>433.0</td>\n",
       "      <td>10.0</td>\n",
       "      <td>9000.0</td>\n",
       "      <td>0.0</td>\n",
       "      <td>0.0</td>\n",
       "      <td>0.0</td>\n",
       "      <td>1.0</td>\n",
       "      <td>229.0</td>\n",
       "      <td>2567.0</td>\n",
       "      <td>14.4</td>\n",
       "      <td>0.0</td>\n",
       "      <td>0.0</td>\n",
       "      <td>NaN</td>\n",
       "      <td>437.0</td>\n",
       "      <td>13.0</td>\n",
       "      <td>13.0</td>\n",
       "      <td>1.0</td>\n",
       "      <td>13.0</td>\n",
       "      <td>47.0</td>\n",
       "      <td>NaN</td>\n",
       "      <td>47.0</td>\n",
       "      <td>2.0</td>\n",
       "      <td>1.0</td>\n",
       "      <td>2.0</td>\n",
       "      <td>2.0</td>\n",
       "      <td>8.0</td>\n",
       "      <td>0.0</td>\n",
       "      <td>6.0</td>\n",
       "      <td>14.0</td>\n",
       "      <td>2.0</td>\n",
       "      <td>6.0</td>\n",
       "      <td>0.0</td>\n",
       "      <td>0.0</td>\n",
       "      <td>0.0</td>\n",
       "      <td>0.0</td>\n",
       "      <td>86.7</td>\n",
       "      <td>0.0</td>\n",
       "      <td>0.0</td>\n",
       "      <td>0.0</td>\n",
       "      <td>9000.0</td>\n",
       "      <td>914.0</td>\n",
       "      <td>3000.0</td>\n",
       "      <td>0.0</td>\n",
       "      <td>NaN</td>\n",
       "      <td>NaN</td>\n",
       "      <td>NaN</td>\n",
       "      <td>NaN</td>\n",
       "      <td>NaN</td>\n",
       "      <td>NaN</td>\n",
       "      <td>NaN</td>\n",
       "      <td>NaN</td>\n",
       "      <td>NaN</td>\n",
       "      <td>NaN</td>\n",
       "      <td>NaN</td>\n",
       "      <td>NaN</td>\n",
       "      <td>NaN</td>\n",
       "      <td>N</td>\n",
       "      <td>NaN</td>\n",
       "      <td>NaN</td>\n",
       "      <td>NaN</td>\n",
       "      <td>NaN</td>\n",
       "      <td>NaN</td>\n",
       "      <td>NaN</td>\n",
       "      <td>NaN</td>\n",
       "      <td>NaN</td>\n",
       "      <td>NaN</td>\n",
       "      <td>NaN</td>\n",
       "      <td>NaN</td>\n",
       "      <td>NaN</td>\n",
       "      <td>NaN</td>\n",
       "      <td>NaN</td>\n",
       "      <td>Cash</td>\n",
       "      <td>N</td>\n",
       "      <td>NaN</td>\n",
       "      <td>NaN</td>\n",
       "      <td>NaN</td>\n",
       "      <td>NaN</td>\n",
       "      <td>NaN</td>\n",
       "      <td>NaN</td>\n",
       "    </tr>\n",
       "  </tbody>\n",
       "</table>\n",
       "</div>"
      ],
      "text/plain": [
       "               id  member_id  loan_amnt  funded_amnt  funded_amnt_inv  \\\n",
       "147946   59759264        NaN    16500.0      16500.0          16500.0   \n",
       "552060  118552424        NaN     3000.0       3000.0           3000.0   \n",
       "806713  138727958        NaN     8000.0       8000.0           8000.0   \n",
       "121027   60902151        NaN    10000.0      10000.0          10000.0   \n",
       "476107  128525942        NaN    23000.0      23000.0          23000.0   \n",
       "\n",
       "              term  int_rate  installment grade sub_grade  \\\n",
       "147946   60 months     16.99       409.98     D        D3   \n",
       "552060   36 months     10.42        97.40     B        B3   \n",
       "806713   36 months     16.91       284.87     C        C5   \n",
       "121027   36 months      7.89       312.86     A        A5   \n",
       "476107   36 months      6.72       707.24     A        A3   \n",
       "\n",
       "                               emp_title emp_length home_ownership  \\\n",
       "147946         Customer Success Engineer    2 years           RENT   \n",
       "552060                             Owner    3 years           RENT   \n",
       "806713  Detention information assistant   10+ years           RENT   \n",
       "121027          Director of Housekeeping     1 year           RENT   \n",
       "476107                            Driver   < 1 year           RENT   \n",
       "\n",
       "        annual_inc verification_status   issue_d loan_status pymnt_plan  \\\n",
       "147946     75000.0            Verified  Sep-2015  Fully Paid          n   \n",
       "552060     25000.0     Source Verified  Sep-2017     Current          n   \n",
       "806713     35000.0            Verified  Aug-2018     Current          n   \n",
       "121027     55000.0            Verified  Oct-2015  Fully Paid          n   \n",
       "476107     64000.0     Source Verified  Feb-2018  Fully Paid          n   \n",
       "\n",
       "                                                                       url  \\\n",
       "147946   https://lendingclub.com/browse/loanDetail.action?loan_id=59759264   \n",
       "552060  https://lendingclub.com/browse/loanDetail.action?loan_id=118552424   \n",
       "806713  https://lendingclub.com/browse/loanDetail.action?loan_id=138727958   \n",
       "121027   https://lendingclub.com/browse/loanDetail.action?loan_id=60902151   \n",
       "476107  https://lendingclub.com/browse/loanDetail.action?loan_id=128525942   \n",
       "\n",
       "       desc             purpose               title zip_code addr_state  \\\n",
       "147946  NaN  debt_consolidation  Debt consolidation    982xx         WA   \n",
       "552060  NaN               house         Home buying    276xx         NC   \n",
       "806713  NaN  debt_consolidation  Debt consolidation    920xx         CA   \n",
       "121027  NaN  debt_consolidation  Debt consolidation    333xx         FL   \n",
       "476107  NaN               other               Other    852xx         AZ   \n",
       "\n",
       "          dti  delinq_2yrs earliest_cr_line  fico_range_low  fico_range_high  \\\n",
       "147946  25.29          0.0         Jul-2009           665.0            669.0   \n",
       "552060  18.84          4.0         Apr-1991           690.0            694.0   \n",
       "806713  28.40          0.0         Oct-2013           665.0            669.0   \n",
       "121027  15.47          0.0         May-2006           720.0            724.0   \n",
       "476107   1.03          0.0         Sep-1981           705.0            709.0   \n",
       "\n",
       "        inq_last_6mths  mths_since_last_delinq  mths_since_last_record  \\\n",
       "147946             1.0                     NaN                     NaN   \n",
       "552060             0.0                    12.0                     NaN   \n",
       "806713             0.0                     NaN                     NaN   \n",
       "121027             0.0                    70.0                     NaN   \n",
       "476107             0.0                    47.0                     NaN   \n",
       "\n",
       "        open_acc  pub_rec  revol_bal  revol_util  total_acc  \\\n",
       "147946       9.0      0.0    16779.0        82.2       13.0   \n",
       "552060       9.0      0.0    92033.0        22.2       19.0   \n",
       "806713       7.0      0.0     5145.0        84.3        7.0   \n",
       "121027      14.0      0.0    10816.0        30.2       20.0   \n",
       "476107       6.0      0.0      914.0        10.2       15.0   \n",
       "\n",
       "       initial_list_status  out_prncp  out_prncp_inv   total_pymnt  \\\n",
       "147946                   w       0.00           0.00  17262.390000   \n",
       "552060                   w    1616.37        1616.37   1741.290000   \n",
       "806713                   f    6742.89        6742.89   1986.570000   \n",
       "121027                   w       0.00           0.00  11267.696794   \n",
       "476107                   w       0.00           0.00  23034.343333   \n",
       "\n",
       "        total_pymnt_inv  total_rec_prncp  total_rec_int  total_rec_late_fee  \\\n",
       "147946         17262.39         16500.00         762.39                 0.0   \n",
       "552060          1741.29          1383.63         357.66                 0.0   \n",
       "806713          1986.57          1257.11         729.46                 0.0   \n",
       "121027         11267.70         10000.00        1267.70                 0.0   \n",
       "476107         23034.34         23000.00          34.34                 0.0   \n",
       "\n",
       "        recoveries  collection_recovery_fee last_pymnt_d  last_pymnt_amnt  \\\n",
       "147946         0.0                      0.0     Jan-2016         16403.50   \n",
       "552060         0.0                      0.0     Mar-2019            97.40   \n",
       "806713         0.0                      0.0     Mar-2019           284.87   \n",
       "121027         0.0                      0.0     Oct-2018           312.71   \n",
       "476107         0.0                      0.0     Mar-2018         23042.93   \n",
       "\n",
       "       next_pymnt_d last_credit_pull_d  last_fico_range_high  \\\n",
       "147946          NaN           May-2018                 794.0   \n",
       "552060     Apr-2019           Mar-2019                 574.0   \n",
       "806713     Apr-2019           Mar-2019                 674.0   \n",
       "121027          NaN           Oct-2018                 734.0   \n",
       "476107          NaN           Mar-2019                 704.0   \n",
       "\n",
       "        last_fico_range_low  collections_12_mths_ex_med  \\\n",
       "147946                790.0                         0.0   \n",
       "552060                570.0                         0.0   \n",
       "806713                670.0                         0.0   \n",
       "121027                730.0                         0.0   \n",
       "476107                700.0                         0.0   \n",
       "\n",
       "        mths_since_last_major_derog  policy_code application_type  \\\n",
       "147946                          NaN          1.0       Individual   \n",
       "552060                         43.0          1.0       Individual   \n",
       "806713                          NaN          1.0       Individual   \n",
       "121027                          NaN          1.0       Individual   \n",
       "476107                         47.0          1.0       Individual   \n",
       "\n",
       "        annual_inc_joint  dti_joint verification_status_joint  acc_now_delinq  \\\n",
       "147946               NaN        NaN                       NaN             0.0   \n",
       "552060               NaN        NaN                       NaN             0.0   \n",
       "806713               NaN        NaN                       NaN             0.0   \n",
       "121027               NaN        NaN                       NaN             0.0   \n",
       "476107               NaN        NaN                       NaN             0.0   \n",
       "\n",
       "        tot_coll_amt  tot_cur_bal  open_acc_6m  open_act_il  open_il_12m  \\\n",
       "147946           0.0      74680.0          NaN          NaN          NaN   \n",
       "552060           0.0      93551.0          0.0          0.0          0.0   \n",
       "806713           0.0      24080.0          1.0          2.0          0.0   \n",
       "121027           0.0      14639.0          NaN          NaN          NaN   \n",
       "476107           0.0        914.0          0.0          0.0          0.0   \n",
       "\n",
       "        open_il_24m  mths_since_rcnt_il  total_bal_il  il_util  open_rv_12m  \\\n",
       "147946          NaN                 NaN           NaN      NaN          NaN   \n",
       "552060          0.0                 NaN           0.0      NaN          0.0   \n",
       "806713          1.0                15.0       18935.0     53.0          3.0   \n",
       "121027          NaN                 NaN           NaN      NaN          NaN   \n",
       "476107          0.0                 NaN           0.0      NaN          0.0   \n",
       "\n",
       "        open_rv_24m  max_bal_bc  all_util  total_rev_hi_lim  inq_fi  \\\n",
       "147946          NaN         NaN       NaN           20400.0     NaN   \n",
       "552060          1.0         0.0      35.0          133100.0     0.0   \n",
       "806713          5.0      2381.0      57.0            6100.0     0.0   \n",
       "121027          NaN         NaN       NaN           35800.0     NaN   \n",
       "476107          1.0       433.0      10.0            9000.0     0.0   \n",
       "\n",
       "        total_cu_tl  inq_last_12m  acc_open_past_24mths  avg_cur_bal  \\\n",
       "147946          NaN           NaN                   6.0       8298.0   \n",
       "552060          0.0           0.0                   1.0      10395.0   \n",
       "806713          1.0           0.0                   6.0       3440.0   \n",
       "121027          NaN           NaN                   2.0       1331.0   \n",
       "476107          0.0           0.0                   1.0        229.0   \n",
       "\n",
       "        bc_open_to_buy  bc_util  chargeoff_within_12_mths  delinq_amnt  \\\n",
       "147946          2319.0     82.0                       0.0          0.0   \n",
       "552060          3000.0      0.0                       0.0          0.0   \n",
       "806713           217.0     95.2                       0.0          0.0   \n",
       "121027          7356.0     56.7                       0.0          0.0   \n",
       "476107          2567.0     14.4                       0.0          0.0   \n",
       "\n",
       "        mo_sin_old_il_acct  mo_sin_old_rev_tl_op  mo_sin_rcnt_rev_tl_op  \\\n",
       "147946                31.0                  74.0                   11.0   \n",
       "552060                 NaN                 317.0                   24.0   \n",
       "806713                58.0                  20.0                    2.0   \n",
       "121027                99.0                 112.0                    8.0   \n",
       "476107                 NaN                 437.0                   13.0   \n",
       "\n",
       "        mo_sin_rcnt_tl  mort_acc  mths_since_recent_bc  \\\n",
       "147946             5.0       0.0                  11.0   \n",
       "552060            24.0       1.0                  33.0   \n",
       "806713             2.0       0.0                  11.0   \n",
       "121027             8.0       0.0                  72.0   \n",
       "476107            13.0       1.0                  13.0   \n",
       "\n",
       "        mths_since_recent_bc_dlq  mths_since_recent_inq  \\\n",
       "147946                       NaN                    2.0   \n",
       "552060                      12.0                    NaN   \n",
       "806713                       NaN                   14.0   \n",
       "121027                       NaN                    0.0   \n",
       "476107                      47.0                    NaN   \n",
       "\n",
       "        mths_since_recent_revol_delinq  num_accts_ever_120_pd  num_actv_bc_tl  \\\n",
       "147946                             NaN                    0.0             5.0   \n",
       "552060                            12.0                    1.0             0.0   \n",
       "806713                             NaN                    0.0             2.0   \n",
       "121027                            70.0                    0.0             3.0   \n",
       "476107                            47.0                    2.0             1.0   \n",
       "\n",
       "        num_actv_rev_tl  num_bc_sats  num_bc_tl  num_il_tl  num_op_rev_tl  \\\n",
       "147946              6.0          5.0        6.0        5.0            6.0   \n",
       "552060              4.0          3.0        8.0        0.0            8.0   \n",
       "806713              5.0          2.0        2.0        2.0            5.0   \n",
       "121027              5.0          3.0        3.0       10.0           10.0   \n",
       "476107              2.0          2.0        8.0        0.0            6.0   \n",
       "\n",
       "        num_rev_accts  num_rev_tl_bal_gt_0  num_sats  num_tl_120dpd_2m  \\\n",
       "147946            7.0                  6.0       9.0               0.0   \n",
       "552060           17.0                  4.0       9.0               0.0   \n",
       "806713            5.0                  5.0       7.0               0.0   \n",
       "121027           10.0                  5.0      14.0               0.0   \n",
       "476107           14.0                  2.0       6.0               0.0   \n",
       "\n",
       "        num_tl_30dpd  num_tl_90g_dpd_24m  num_tl_op_past_12m  pct_tl_nvr_dlq  \\\n",
       "147946           0.0                 0.0                 2.0           100.0   \n",
       "552060           0.0                 0.0                 0.0            63.2   \n",
       "806713           0.0                 0.0                 3.0           100.0   \n",
       "121027           0.0                 0.0                 2.0            95.0   \n",
       "476107           0.0                 0.0                 0.0            86.7   \n",
       "\n",
       "        percent_bc_gt_75  pub_rec_bankruptcies  tax_liens  tot_hi_cred_lim  \\\n",
       "147946              60.0                   0.0        0.0          86685.0   \n",
       "552060               0.0                   0.0        0.0         134618.0   \n",
       "806713             100.0                   0.0        0.0          41932.0   \n",
       "121027               0.0                   0.0        0.0          56878.0   \n",
       "476107               0.0                   0.0        0.0           9000.0   \n",
       "\n",
       "        total_bal_ex_mort  total_bc_limit  total_il_high_credit_limit  \\\n",
       "147946            74680.0         12900.0                     66285.0   \n",
       "552060            93551.0          3000.0                         0.0   \n",
       "806713            24080.0          4500.0                     35832.0   \n",
       "121027            14639.0         17000.0                     21078.0   \n",
       "476107              914.0          3000.0                         0.0   \n",
       "\n",
       "        revol_bal_joint  sec_app_fico_range_low  sec_app_fico_range_high  \\\n",
       "147946              NaN                     NaN                      NaN   \n",
       "552060              NaN                     NaN                      NaN   \n",
       "806713              NaN                     NaN                      NaN   \n",
       "121027              NaN                     NaN                      NaN   \n",
       "476107              NaN                     NaN                      NaN   \n",
       "\n",
       "       sec_app_earliest_cr_line  sec_app_inq_last_6mths  sec_app_mort_acc  \\\n",
       "147946                      NaN                     NaN               NaN   \n",
       "552060                      NaN                     NaN               NaN   \n",
       "806713                      NaN                     NaN               NaN   \n",
       "121027                      NaN                     NaN               NaN   \n",
       "476107                      NaN                     NaN               NaN   \n",
       "\n",
       "        sec_app_open_acc  sec_app_revol_util  sec_app_open_act_il  \\\n",
       "147946               NaN                 NaN                  NaN   \n",
       "552060               NaN                 NaN                  NaN   \n",
       "806713               NaN                 NaN                  NaN   \n",
       "121027               NaN                 NaN                  NaN   \n",
       "476107               NaN                 NaN                  NaN   \n",
       "\n",
       "        sec_app_num_rev_accts  sec_app_chargeoff_within_12_mths  \\\n",
       "147946                    NaN                               NaN   \n",
       "552060                    NaN                               NaN   \n",
       "806713                    NaN                               NaN   \n",
       "121027                    NaN                               NaN   \n",
       "476107                    NaN                               NaN   \n",
       "\n",
       "        sec_app_collections_12_mths_ex_med  \\\n",
       "147946                                 NaN   \n",
       "552060                                 NaN   \n",
       "806713                                 NaN   \n",
       "121027                                 NaN   \n",
       "476107                                 NaN   \n",
       "\n",
       "        sec_app_mths_since_last_major_derog hardship_flag hardship_type  \\\n",
       "147946                                  NaN             N           NaN   \n",
       "552060                                  NaN             N           NaN   \n",
       "806713                                  NaN             N           NaN   \n",
       "121027                                  NaN             N           NaN   \n",
       "476107                                  NaN             N           NaN   \n",
       "\n",
       "       hardship_reason hardship_status  deferral_term  hardship_amount  \\\n",
       "147946             NaN             NaN            NaN              NaN   \n",
       "552060             NaN             NaN            NaN              NaN   \n",
       "806713             NaN             NaN            NaN              NaN   \n",
       "121027             NaN             NaN            NaN              NaN   \n",
       "476107             NaN             NaN            NaN              NaN   \n",
       "\n",
       "       hardship_start_date hardship_end_date payment_plan_start_date  \\\n",
       "147946                 NaN               NaN                     NaN   \n",
       "552060                 NaN               NaN                     NaN   \n",
       "806713                 NaN               NaN                     NaN   \n",
       "121027                 NaN               NaN                     NaN   \n",
       "476107                 NaN               NaN                     NaN   \n",
       "\n",
       "        hardship_length  hardship_dpd hardship_loan_status  \\\n",
       "147946              NaN           NaN                  NaN   \n",
       "552060              NaN           NaN                  NaN   \n",
       "806713              NaN           NaN                  NaN   \n",
       "121027              NaN           NaN                  NaN   \n",
       "476107              NaN           NaN                  NaN   \n",
       "\n",
       "        orig_projected_additional_accrued_interest  \\\n",
       "147946                                         NaN   \n",
       "552060                                         NaN   \n",
       "806713                                         NaN   \n",
       "121027                                         NaN   \n",
       "476107                                         NaN   \n",
       "\n",
       "        hardship_payoff_balance_amount  hardship_last_payment_amount  \\\n",
       "147946                             NaN                           NaN   \n",
       "552060                             NaN                           NaN   \n",
       "806713                             NaN                           NaN   \n",
       "121027                             NaN                           NaN   \n",
       "476107                             NaN                           NaN   \n",
       "\n",
       "       disbursement_method debt_settlement_flag debt_settlement_flag_date  \\\n",
       "147946                Cash                    N                       NaN   \n",
       "552060                Cash                    N                       NaN   \n",
       "806713                Cash                    N                       NaN   \n",
       "121027                Cash                    N                       NaN   \n",
       "476107                Cash                    N                       NaN   \n",
       "\n",
       "       settlement_status settlement_date  settlement_amount  \\\n",
       "147946               NaN             NaN                NaN   \n",
       "552060               NaN             NaN                NaN   \n",
       "806713               NaN             NaN                NaN   \n",
       "121027               NaN             NaN                NaN   \n",
       "476107               NaN             NaN                NaN   \n",
       "\n",
       "        settlement_percentage  settlement_term  \n",
       "147946                    NaN              NaN  \n",
       "552060                    NaN              NaN  \n",
       "806713                    NaN              NaN  \n",
       "121027                    NaN              NaN  \n",
       "476107                    NaN              NaN  "
      ]
     },
     "execution_count": 5,
     "metadata": {},
     "output_type": "execute_result"
    }
   ],
   "source": [
    "# Let's take a glimpse into the 5 randomly selected rows. Each row is a single loan.\n",
    "loans.sample(5)"
   ]
  },
  {
   "cell_type": "markdown",
   "metadata": {
    "_cell_guid": "6e847348-5344-4ebb-b820-03a772ad5059",
    "_uuid": "841ca8b2103b35b98730139c2e64b790f2edeb89"
   },
   "source": [
    "<a id=\"section-two-three\"></a>\n",
    "# 2.3 Response Variable"
   ]
  },
  {
   "cell_type": "markdown",
   "metadata": {
    "_cell_guid": "b9e79844-28d9-4b5e-a6d3-c9dbfd17820e",
    "_uuid": "138869442509b04e45df20b0356e7ed91f77f7c2"
   },
   "source": [
    "`loan_status` is the response variable we want to predict. What is the distribution of the type of loan status?"
   ]
  },
  {
   "cell_type": "code",
   "execution_count": 6,
   "metadata": {
    "_cell_guid": "d5b467af-c5a1-4ae0-a044-3a421252eb78",
    "_uuid": "84e9c41ee08246a83bc6f8ad04a90c83a1bf408e"
   },
   "outputs": [
    {
     "data": {
      "text/plain": [
       "Fully Paid            450285\n",
       "Current               411982\n",
       "Charged Off           121189\n",
       "Late (31-120 days)     10475\n",
       "In Grace Period         3997\n",
       "Late (16-30 days)       2040\n",
       "Default                   20\n",
       "Name: loan_status, dtype: int64"
      ]
     },
     "execution_count": 6,
     "metadata": {},
     "output_type": "execute_result"
    }
   ],
   "source": [
    "# Show the distribution of loan status, excluding missing values\n",
    "loans['loan_status'].value_counts(dropna=True)"
   ]
  },
  {
   "cell_type": "markdown",
   "metadata": {
    "_cell_guid": "527520b1-32a4-4b95-ab0a-b24ac47b3cf6",
    "_uuid": "49a92fd5f4aab3a3561edf9929df506c9fd34a9d"
   },
   "source": [
    "We are interested at the outcome of whether a loan is \"fully paid\" or not (by note maturity). So we only keep the loans with status \"Fully Paid\", \"Charged Off\", \"Default\", or \"Late (31-120 days).\"  Excluded from our sample are:   \n",
    "1. Current loans, of which repayment outcome is uncertain.   \n",
    "2. Loans that do not meet the credit policy\n",
    "\n",
    "We're going to try to learn differences in the features between completed loans that have been fully paid or charged off. We won't consider loans that are current, don't meet the credit policy, defaulted, or have a missing status. "
   ]
  },
  {
   "cell_type": "code",
   "execution_count": 7,
   "metadata": {
    "_cell_guid": "f4f361b5-32f2-4828-8e37-3e43a32c32c0",
    "_uuid": "5c7dc5453d31b32b849bec55fe252c449d8e9557"
   },
   "outputs": [],
   "source": [
    "loans = loans.loc[loans['loan_status'].isin(['Fully Paid', 'Charged Off', 'Default', 'Late (31-120 days)'])]"
   ]
  },
  {
   "cell_type": "markdown",
   "metadata": {
    "_uuid": "700a8f42b281c1dc0f9a03aef2765f17c03ad5ef"
   },
   "source": [
    "How many loans remain in the dataset?"
   ]
  },
  {
   "cell_type": "code",
   "execution_count": 8,
   "metadata": {
    "_cell_guid": "be5c5ad3-f002-48f3-9695-3a80a1539c1b",
    "_uuid": "c71ee5ec2f8dc3d8297a7eea7eef441f27c51317"
   },
   "outputs": [
    {
     "data": {
      "text/plain": [
       "(581969, 151)"
      ]
     },
     "execution_count": 8,
     "metadata": {},
     "output_type": "execute_result"
    }
   ],
   "source": [
    "loans.shape"
   ]
  },
  {
   "cell_type": "markdown",
   "metadata": {
    "_uuid": "01d42699420ddaff662cfda3d7818a1b8fea1a54"
   },
   "source": [
    "There are 581,969 loans left."
   ]
  },
  {
   "cell_type": "code",
   "execution_count": 9,
   "metadata": {
    "_cell_guid": "590a5146-c659-43ed-bfb4-7bea32672932",
    "_uuid": "d70396f915861568607ee204c4ff4574f80d5bdc"
   },
   "outputs": [
    {
     "data": {
      "text/plain": [
       "Fully Paid            450285\n",
       "Charged Off           121189\n",
       "Late (31-120 days)     10475\n",
       "Default                   20\n",
       "Name: loan_status, dtype: int64"
      ]
     },
     "execution_count": 9,
     "metadata": {},
     "output_type": "execute_result"
    }
   ],
   "source": [
    "loans['loan_status'].value_counts(dropna=False)"
   ]
  },
  {
   "cell_type": "markdown",
   "metadata": {
    "_uuid": "d6011be6ec3fa527d90f7a468039506dc3f9dd7c"
   },
   "source": [
    "Status counts as percentages:"
   ]
  },
  {
   "cell_type": "code",
   "execution_count": 10,
   "metadata": {
    "_cell_guid": "590a5146-c659-43ed-bfb4-7bea32672932",
    "_uuid": "d70396f915861568607ee204c4ff4574f80d5bdc"
   },
   "outputs": [
    {
     "data": {
      "text/plain": [
       "Fully Paid            0.773727\n",
       "Charged Off           0.208240\n",
       "Late (31-120 days)    0.017999\n",
       "Default               0.000034\n",
       "Name: loan_status, dtype: float64"
      ]
     },
     "execution_count": 10,
     "metadata": {},
     "output_type": "execute_result"
    }
   ],
   "source": [
    "loans['loan_status'].value_counts(normalize=True, dropna=False)"
   ]
  },
  {
   "cell_type": "markdown",
   "metadata": {
    "_cell_guid": "c44aa6b1-041a-490e-8f64-81d010b1bf4a",
    "_uuid": "715d0aed4051332c5f32f35142e130e7da555150"
   },
   "source": [
    "77% of the loans have been fully repaid. Unbalanced classification problem is a potential issue. More details [HERE](https://machinelearningmastery.com/tactics-to-combat-imbalanced-classes-in-your-machine-learning-dataset/). "
   ]
  },
  {
   "cell_type": "code",
   "execution_count": 11,
   "metadata": {},
   "outputs": [],
   "source": [
    "# Change the response variable `loan_status` to a 0/1 variable, where 0 indicates fully paid and 1 indicates charge-off:\n",
    "\n",
    "loans['non_repayment'] = (loans['loan_status'].isin(['Charged Off', 'Default', 'Late (31-120 days)'])).apply(np.uint8)"
   ]
  },
  {
   "cell_type": "markdown",
   "metadata": {
    "_cell_guid": "a6220e50-5df9-427a-a92b-5e6138234fb9",
    "_uuid": "34206dc6425cbf3c744c23006e6b10f522777a9d"
   },
   "source": [
    "<a id=\"section-two-four\"></a>\n",
    "# 2.4 Limit the Feature Space"
   ]
  },
  {
   "cell_type": "markdown",
   "metadata": {
    "_cell_guid": "89f9038c-fb12-46e9-9136-5f5e0a81d2bb",
    "_uuid": "a0a000e470b72a6128fc3ec216e181ab4ccc3809"
   },
   "source": [
    "Each loan has 150 features. Feature selection follows a two-step approach:\n",
    "\n",
    "1. Drop features with more than 30% of their data missing.\n",
    "2. Choose features available to an investor before investing in a note."
   ]
  },
  {
   "cell_type": "markdown",
   "metadata": {
    "_cell_guid": "033676d1-c042-4af2-a41c-1f49d678d03f",
    "_uuid": "6d374ac8147274a76355bbeca958bbcf6ebb1de4"
   },
   "source": [
    "<a id=\"section-two-four-one\"></a>\n",
    "## 2.4.1 Drop features missing more than 30% data"
   ]
  },
  {
   "cell_type": "code",
   "execution_count": 12,
   "metadata": {
    "_uuid": "7d251f04ab602e23503fcf0568173312a78b8d32"
   },
   "outputs": [],
   "source": [
    "# Calculate the percentage of missing data for each feature:\n",
    "# Sort dataset from observations with the most to the least missing data\n",
    "    \n",
    "missing_fractions = loans.isnull().mean().sort_values(ascending=False)"
   ]
  },
  {
   "cell_type": "code",
   "execution_count": 13,
   "metadata": {},
   "outputs": [
    {
     "data": {
      "text/plain": [
       "member_id                                     1.000000\n",
       "desc                                          0.999918\n",
       "orig_projected_additional_accrued_interest    0.995118\n",
       "hardship_loan_status                          0.993259\n",
       "hardship_reason                               0.993259\n",
       "hardship_status                               0.993259\n",
       "deferral_term                                 0.993259\n",
       "hardship_amount                               0.993259\n",
       "hardship_start_date                           0.993259\n",
       "hardship_end_date                             0.993259\n",
       "hardship_length                               0.993259\n",
       "hardship_dpd                                  0.993259\n",
       "payment_plan_start_date                       0.993259\n",
       "hardship_payoff_balance_amount                0.993259\n",
       "hardship_last_payment_amount                  0.993259\n",
       "hardship_type                                 0.993259\n",
       "sec_app_mths_since_last_major_derog           0.992501\n",
       "next_pymnt_d                                  0.981966\n",
       "sec_app_revol_util                            0.979416\n",
       "sec_app_inq_last_6mths                        0.979071\n",
       "dtype: float64"
      ]
     },
     "execution_count": 13,
     "metadata": {},
     "output_type": "execute_result"
    }
   ],
   "source": [
    "# Inspect top 20 features with the most data:\n",
    "\n",
    "missing_fractions.head(20)"
   ]
  },
  {
   "cell_type": "code",
   "execution_count": 14,
   "metadata": {
    "_uuid": "e6526659eb9614cdcf86f975678ae2bd07598dd4"
   },
   "outputs": [
    {
     "data": {
      "text/plain": [
       "<matplotlib.axes._subplots.AxesSubplot at 0x7f98f490d210>"
      ]
     },
     "execution_count": 14,
     "metadata": {},
     "output_type": "execute_result"
    },
    {
     "data": {
      "image/png": "[encoded data removed]",
      "text/plain": [
       "<Figure size 1800x720 with 2 Axes>"
      ]
     },
     "metadata": {},
     "output_type": "display_data"
    }
   ],
   "source": [
    "# Visualizing missingness of the dataset\n",
    "\n",
    "msno.matrix(loans)"
   ]
  },
  {
   "cell_type": "markdown",
   "metadata": {
    "_uuid": "e4b9c8da8bd9cc8c0fd79a18339f2fa326b5a1e7"
   },
   "source": [
    "Let's visualize the distribution of missing data percentages:"
   ]
  },
  {
   "cell_type": "code",
   "execution_count": 15,
   "metadata": {
    "_uuid": "a69814fcefdd159b82a0317415536bc48ab1467d"
   },
   "outputs": [
    {
     "data": {
      "text/plain": [
       "Text(0, 0.5, 'Feature count')"
      ]
     },
     "execution_count": 15,
     "metadata": {},
     "output_type": "execute_result"
    },
    {
     "data": {
      "image/png": "[encoded data removed]",
      "text/plain": [
       "<Figure size 540x270 with 1 Axes>"
      ]
     },
     "metadata": {},
     "output_type": "display_data"
    }
   ],
   "source": [
    "plt.figure(figsize=(6,3), dpi=90)\n",
    "missing_fractions.plot.hist(bins=50)\n",
    "plt.title('Histogram of Feature Missingness')\n",
    "plt.xlabel('Fraction of data missing')\n",
    "plt.ylabel('Feature count')"
   ]
  },
  {
   "cell_type": "markdown",
   "metadata": {
    "_uuid": "87ae4bb87781f20de21b776d56ed74dbb0d1c3f1"
   },
   "source": [
    "We see there's a large wedge between features missing \"some\" data (&lt;20%) and those missing \"lots\" of data (&gt;40%). Imputing data accurately 30% missing values can be a challenge, so we drop such columns. Let's store all variables missing more than 30% data in an alphabetical list:"
   ]
  },
  {
   "cell_type": "code",
   "execution_count": 16,
   "metadata": {
    "_cell_guid": "b2bccd07-6308-4d83-b45a-de8ade091106",
    "_uuid": "dd01b28cdf204ed38fa2d7123254fe9dd5f62c87"
   },
   "outputs": [
    {
     "name": "stdout",
     "output_type": "stream",
     "text": [
      "['all_util', 'annual_inc_joint', 'debt_settlement_flag_date', 'deferral_term', 'desc', 'dti_joint', 'hardship_amount', 'hardship_dpd', 'hardship_end_date', 'hardship_last_payment_amount', 'hardship_length', 'hardship_loan_status', 'hardship_payoff_balance_amount', 'hardship_reason', 'hardship_start_date', 'hardship_status', 'hardship_type', 'il_util', 'inq_fi', 'inq_last_12m', 'max_bal_bc', 'member_id', 'mths_since_last_delinq', 'mths_since_last_major_derog', 'mths_since_last_record', 'mths_since_rcnt_il', 'mths_since_recent_bc_dlq', 'mths_since_recent_revol_delinq', 'next_pymnt_d', 'open_acc_6m', 'open_act_il', 'open_il_12m', 'open_il_24m', 'open_rv_12m', 'open_rv_24m', 'orig_projected_additional_accrued_interest', 'payment_plan_start_date', 'revol_bal_joint', 'sec_app_chargeoff_within_12_mths', 'sec_app_collections_12_mths_ex_med', 'sec_app_earliest_cr_line', 'sec_app_fico_range_high', 'sec_app_fico_range_low', 'sec_app_inq_last_6mths', 'sec_app_mort_acc', 'sec_app_mths_since_last_major_derog', 'sec_app_num_rev_accts', 'sec_app_open_acc', 'sec_app_open_act_il', 'sec_app_revol_util', 'settlement_amount', 'settlement_date', 'settlement_percentage', 'settlement_status', 'settlement_term', 'total_bal_il', 'total_cu_tl', 'verification_status_joint']\n"
     ]
    }
   ],
   "source": [
    "drop_list = sorted(list(missing_fractions[missing_fractions > 0.3].index))\n",
    "print(drop_list)"
   ]
  },
  {
   "cell_type": "markdown",
   "metadata": {
    "_uuid": "ffe9ec6ac7f4d8a0c67de1586dd817905f0cc7b7"
   },
   "source": [
    "How many features will be dropped?"
   ]
  },
  {
   "cell_type": "code",
   "execution_count": 17,
   "metadata": {
    "_uuid": "3e8a2790ba4539a693435de10957ba2bd57e4b94"
   },
   "outputs": [
    {
     "data": {
      "text/plain": [
       "58"
      ]
     },
     "execution_count": 17,
     "metadata": {},
     "output_type": "execute_result"
    }
   ],
   "source": [
    "len(drop_list)"
   ]
  },
  {
   "cell_type": "markdown",
   "metadata": {
    "_cell_guid": "7fcfae32-fdf5-42af-a14a-0b797c17b034",
    "_uuid": "4477765ea99a243a25421550ff4087b68fc6fa1b"
   },
   "source": [
    "Drop these features:"
   ]
  },
  {
   "cell_type": "code",
   "execution_count": 18,
   "metadata": {
    "_uuid": "437bf9ec0774ae22e6169c3a33beb5379fbd3cb6"
   },
   "outputs": [],
   "source": [
    "loans.drop(labels=drop_list, axis=1, inplace=True)"
   ]
  },
  {
   "cell_type": "code",
   "execution_count": 19,
   "metadata": {
    "_uuid": "8c6fe3497d5649ee636aa59fae01359191037081"
   },
   "outputs": [
    {
     "data": {
      "text/plain": [
       "(581969, 94)"
      ]
     },
     "execution_count": 19,
     "metadata": {},
     "output_type": "execute_result"
    }
   ],
   "source": [
    "loans.shape"
   ]
  },
  {
   "cell_type": "markdown",
   "metadata": {
    "_cell_guid": "33b90b6b-0fcd-4657-ae11-0ff2f6a95823",
    "_uuid": "4066be79385b7b0c6b7d4f96533106093304b746"
   },
   "source": [
    "<a id=\"section-two-four-two\"></a>\n",
    "## 2.4.2 Only keep loan features known to potential investors"
   ]
  },
  {
   "cell_type": "markdown",
   "metadata": {
    "_uuid": "62c3981e9d75ab810ca5f667c2c7ebc9796d9e53"
   },
   "source": [
    "We examine the LendingClub website and Data Dictionary to determine which features would have been available to potential investors. Here's the list of features we currently have, in alphabetical order:"
   ]
  },
  {
   "cell_type": "code",
   "execution_count": 20,
   "metadata": {
    "_uuid": "f2d07ee979231b0ca0ebb4faffb6c3830db5002b"
   },
   "outputs": [
    {
     "name": "stdout",
     "output_type": "stream",
     "text": [
      "['acc_now_delinq', 'acc_open_past_24mths', 'addr_state', 'annual_inc', 'application_type', 'avg_cur_bal', 'bc_open_to_buy', 'bc_util', 'chargeoff_within_12_mths', 'collection_recovery_fee', 'collections_12_mths_ex_med', 'debt_settlement_flag', 'delinq_2yrs', 'delinq_amnt', 'disbursement_method', 'dti', 'earliest_cr_line', 'emp_length', 'emp_title', 'fico_range_high', 'fico_range_low', 'funded_amnt', 'funded_amnt_inv', 'grade', 'hardship_flag', 'home_ownership', 'id', 'initial_list_status', 'inq_last_6mths', 'installment', 'int_rate', 'issue_d', 'last_credit_pull_d', 'last_fico_range_high', 'last_fico_range_low', 'last_pymnt_amnt', 'last_pymnt_d', 'loan_amnt', 'loan_status', 'mo_sin_old_il_acct', 'mo_sin_old_rev_tl_op', 'mo_sin_rcnt_rev_tl_op', 'mo_sin_rcnt_tl', 'mort_acc', 'mths_since_recent_bc', 'mths_since_recent_inq', 'non_repayment', 'num_accts_ever_120_pd', 'num_actv_bc_tl', 'num_actv_rev_tl', 'num_bc_sats', 'num_bc_tl', 'num_il_tl', 'num_op_rev_tl', 'num_rev_accts', 'num_rev_tl_bal_gt_0', 'num_sats', 'num_tl_120dpd_2m', 'num_tl_30dpd', 'num_tl_90g_dpd_24m', 'num_tl_op_past_12m', 'open_acc', 'out_prncp', 'out_prncp_inv', 'pct_tl_nvr_dlq', 'percent_bc_gt_75', 'policy_code', 'pub_rec', 'pub_rec_bankruptcies', 'purpose', 'pymnt_plan', 'recoveries', 'revol_bal', 'revol_util', 'sub_grade', 'tax_liens', 'term', 'title', 'tot_coll_amt', 'tot_cur_bal', 'tot_hi_cred_lim', 'total_acc', 'total_bal_ex_mort', 'total_bc_limit', 'total_il_high_credit_limit', 'total_pymnt', 'total_pymnt_inv', 'total_rec_int', 'total_rec_late_fee', 'total_rec_prncp', 'total_rev_hi_lim', 'url', 'verification_status', 'zip_code']\n"
     ]
    }
   ],
   "source": [
    "print(sorted(loans.columns))"
   ]
  },
  {
   "cell_type": "markdown",
   "metadata": {
    "_uuid": "05d0d8edcb6cbbaff458947040bce6c4d9ade780"
   },
   "source": [
    "For each of these features, we check the description in the Data Dictionary and only keep the features that would have been available to investors considering an investment in the loan. These include features in the loan application, and any features added by LendingClub when the loan listing was accepted, such as the loan grade and interest rate."
   ]
  },
  {
   "cell_type": "code",
   "execution_count": 21,
   "metadata": {
    "_uuid": "4e005f74717ed5c8321d04470b81ba875bb38a36"
   },
   "outputs": [],
   "source": [
    "keep_list = ['addr_state', 'annual_inc', 'application_type', 'dti', 'earliest_cr_line', 'emp_length', 'emp_title', 'fico_range_high', 'fico_range_low', 'grade', 'home_ownership', 'id', 'initial_list_status', 'installment', 'int_rate', 'issue_d', 'loan_amnt', 'loan_status', 'mort_acc', 'open_acc', 'pub_rec', 'pub_rec_bankruptcies', 'purpose', 'revol_bal', 'revol_util', 'sub_grade', 'term', 'title', 'total_acc', 'verification_status', 'zip_code','non_repayment','non_repayment_category']"
   ]
  },
  {
   "cell_type": "code",
   "execution_count": 22,
   "metadata": {
    "_uuid": "2162dd1568696c5418f9f983fefba3f5ce3dd672"
   },
   "outputs": [
    {
     "data": {
      "text/plain": [
       "33"
      ]
     },
     "execution_count": 22,
     "metadata": {},
     "output_type": "execute_result"
    }
   ],
   "source": [
    "len(keep_list)"
   ]
  },
  {
   "cell_type": "markdown",
   "metadata": {
    "_uuid": "42882834b7e0ec48b266e6b0fb3be39be1fe9f3c"
   },
   "source": [
    "The list of features to drop is any feature not in `keep_list`:"
   ]
  },
  {
   "cell_type": "code",
   "execution_count": 23,
   "metadata": {
    "_uuid": "5d71be62e215ee7a022ab968c78281934a70406c"
   },
   "outputs": [
    {
     "name": "stdout",
     "output_type": "stream",
     "text": [
      "['funded_amnt', 'funded_amnt_inv', 'pymnt_plan', 'url', 'delinq_2yrs', 'inq_last_6mths', 'out_prncp', 'out_prncp_inv', 'total_pymnt', 'total_pymnt_inv', 'total_rec_prncp', 'total_rec_int', 'total_rec_late_fee', 'recoveries', 'collection_recovery_fee', 'last_pymnt_d', 'last_pymnt_amnt', 'last_credit_pull_d', 'last_fico_range_high', 'last_fico_range_low', 'collections_12_mths_ex_med', 'policy_code', 'acc_now_delinq', 'tot_coll_amt', 'tot_cur_bal', 'total_rev_hi_lim', 'acc_open_past_24mths', 'avg_cur_bal', 'bc_open_to_buy', 'bc_util', 'chargeoff_within_12_mths', 'delinq_amnt', 'mo_sin_old_il_acct', 'mo_sin_old_rev_tl_op', 'mo_sin_rcnt_rev_tl_op', 'mo_sin_rcnt_tl', 'mths_since_recent_bc', 'mths_since_recent_inq', 'num_accts_ever_120_pd', 'num_actv_bc_tl', 'num_actv_rev_tl', 'num_bc_sats', 'num_bc_tl', 'num_il_tl', 'num_op_rev_tl', 'num_rev_accts', 'num_rev_tl_bal_gt_0', 'num_sats', 'num_tl_120dpd_2m', 'num_tl_30dpd', 'num_tl_90g_dpd_24m', 'num_tl_op_past_12m', 'pct_tl_nvr_dlq', 'percent_bc_gt_75', 'tax_liens', 'tot_hi_cred_lim', 'total_bal_ex_mort', 'total_bc_limit', 'total_il_high_credit_limit', 'hardship_flag', 'disbursement_method', 'debt_settlement_flag']\n"
     ]
    }
   ],
   "source": [
    "drop_list = [col for col in loans.columns if col not in keep_list]\n",
    "print(drop_list)"
   ]
  },
  {
   "cell_type": "code",
   "execution_count": 24,
   "metadata": {
    "_uuid": "de22419a196017f4d614fe6b54d9a89b06239aa4"
   },
   "outputs": [
    {
     "data": {
      "text/plain": [
       "62"
      ]
     },
     "execution_count": 24,
     "metadata": {},
     "output_type": "execute_result"
    }
   ],
   "source": [
    "len(drop_list)"
   ]
  },
  {
   "cell_type": "markdown",
   "metadata": {
    "_uuid": "1132da211fd9304344a23ef7a5f9d7a563aee6ed"
   },
   "source": [
    "Drop these features:"
   ]
  },
  {
   "cell_type": "code",
   "execution_count": 25,
   "metadata": {
    "_uuid": "670a69650037e0f702d29a6295635c1cbaa77a60"
   },
   "outputs": [],
   "source": [
    "loans.drop(labels=drop_list, axis=1, inplace=True)"
   ]
  },
  {
   "cell_type": "markdown",
   "metadata": {},
   "source": [
    "<a id=\"section-three\"></a>\n",
    "# 3. EXPLORATORY DATA ANALYSIS"
   ]
  },
  {
   "cell_type": "markdown",
   "metadata": {},
   "source": [
    "<a id=\"section-three-one\"></a>\n",
    "## 3.1 Pre-processing"
   ]
  },
  {
   "cell_type": "markdown",
   "metadata": {},
   "source": [
    "What do you have in the feature space (the list of potential determinants of loan non-repayment)?"
   ]
  },
  {
   "cell_type": "markdown",
   "metadata": {},
   "source": [
    "As an illustration, I will only inspect 8 features (4 numerical and 4 categorical features). The selection is based on my priors as whether they can predict non-repayment. The features are:\n",
    "\n",
    "**Numerical variables:** int_rate, term, fico_score, loan_amnt   \n",
    "**Categorical variables:** sub_grade, home_ownership, verification, purpose\n",
    "\n",
    "\n",
    "1. Review the summary statistics, visualize the data, and plotting the data against the loan status with a function.\n",
    "1. Drop features that do not discriminate well fully repaid vs non-repayment.\n",
    "1. Change a feature so to increase its predictive value, if necessary."
   ]
  },
  {
   "cell_type": "markdown",
   "metadata": {},
   "source": [
    "### Numerical Variables\n",
    "1. id: A unique [LendingClub] assigned ID for the loan listing.\n",
    "1. loan_amnt: The listed amount of the loan applied for by the borrower. If at some point in time, the credit department reduces the loan amount, then it will be reflected in this value.\n",
    "1. term: The number of payments on the loan. Values are in months and can be either 36 or 60\n",
    "1. int_rate: Interest Rate on the loan\n",
    "1. installment: The monthly payment owed by the borrower if the loan originates.\n",
    "1. emp_length: Employment length in years. Possible values are between 0 and 10 where 0 means less than one year and 10 means ten or more years.\n",
    "1. annual_inc: The self-reported annual income provided by the borrower during registration.\n",
    "1. zip_code: The first 3 numbers of the zip code provided by the borrower in the loan application.\n",
    "1. dti: A ratio calculated using the borrower’s total monthly debt payments on the total debt obligations, excluding mortgage and the requested LC loan, divided by the borrower’s self-reported monthly income.\n",
    "1. earliest_cr_line: The month the borrower's earliest reported credit line was opened.\n",
    "1. fico_range_low: The lower boundary range the borrower’s FICO at loan origination belongs to.\n",
    "1. fico_range_high: The upper boundary range the borrower’s FICO at loan origination belongs to.\n",
    "1. open_acc: The number of open credit lines in the borrower's credit file.\n",
    "1. pub_rec: Number of derogatory public records.\n",
    "1. revol_bal: Total credit revolving balance.\n",
    "1. revol_util: Revolving line utilization rate, or the amount of credit the borrower is using relative to all available revolving credit.\n",
    "1. total_acc: The total number of credit lines currently in the borrower's credit file.\n",
    "1. mort_acc: Number of mortgage accounts.\n",
    "1. pub_rec_bankruptcies: Number of public record bankruptcies.\n",
    "\n",
    "### Categorical Variables\n",
    "1. sub_grade: LendingClub assigned loan subgrade\n",
    "1. grade: LendingClub assigned loan grade\n",
    "1. home_ownership: The home ownership status provided by the borrower during registration or obtained from the credit report. Our values are: RENT, OWN, MORTGAGE, OTHER.\n",
    "1. verification_status: Indicates if income was verified by [Lending Club], not verified, or if the income source was verified.\n",
    "1. purpose: A category provided by the borrower for the loan request.\n",
    "1. addr_state: The state provided by the borrower in the loan application.\n",
    "1. initial_list_status: The initial listing status of the loan. Possible values are – W (whole loan), F (fractional loan).\n",
    "1. application_type: Indicates whether the loan is an individual application or a joint application with two co-borrowers.\n",
    "1. emp_title: The job title supplied by the Borrower when applying for the loan.\n",
    "1. issue_d: The month which the loan was funded.\n",
    "1. title: The loan title provided by the borrower.\n",
    "\n"
   ]
  },
  {
   "cell_type": "code",
   "execution_count": 26,
   "metadata": {},
   "outputs": [],
   "source": [
    "def plot_var(feature, feature_name, continuous):\n",
    "    \n",
    "    # Visualize a variable with and without the loan status.\n",
    "    # 1. feature is the variable name in the dataframe\n",
    "    # 2. feature_name is the full variable name\n",
    "    # 3. continuous is True if the variable is continuous, False otherwise\n",
    "    \n",
    "    f, (ax1, ax2) = plt.subplots(nrows=1, ncols=2, figsize=(24,8))\n",
    "    \n",
    "    # Plot without loan status\n",
    "    if continuous:\n",
    "        sns.distplot(loans.loc[loans[feature].notnull(), feature], kde=False, ax=ax1)\n",
    "    else:\n",
    "        sns.countplot(loans[feature], order=sorted(loans[feature].unique()), saturation=1, ax=ax1)\n",
    "        \n",
    "    ax1.set_xlabel(feature_name)\n",
    "    ax1.set_ylabel('Count')\n",
    "    ax1.set_title(feature_name)\n",
    "\n",
    "    # Plot with loan status\n",
    "    if continuous:\n",
    "        sns.boxplot(x=feature, y='loan_status', data=loans, ax=ax2)\n",
    "        ax2.set_ylabel('')\n",
    "        ax2.set_title(feature_name + ' by Repayment Status')\n",
    "    else:\n",
    "        charge_off_rates = loans.groupby(feature)['loan_status'].value_counts(normalize=True).loc[:,[\"Charged Off\", \"Default\", \"Fully Paid\", \"Late (31-120 days)\"]]\n",
    "        sns.barplot(x=charge_off_rates.index, y=charge_off_rates.values, saturation=1, ax=ax2)\n",
    "        ax2.set_ylabel('Fraction of Loans Not Repaid')\n",
    "        ax2.set_title('Non-Repayment Rate by ' + feature_name)\n",
    "        ax2.set_xticklabels(ax2.get_xticklabels(), rotation=90, horizontalalignment='right')\n",
    "        ax2.set_xlabel(feature_name)\n",
    "    \n",
    "    plt.tight_layout()"
   ]
  },
  {
   "cell_type": "markdown",
   "metadata": {},
   "source": [
    "<a id=\"section-three-one-one\"></a>\n",
    "### 3.1.1 Interest Rate"
   ]
  },
  {
   "cell_type": "markdown",
   "metadata": {},
   "source": [
    "int_rate: Interest Rate on the loan"
   ]
  },
  {
   "cell_type": "code",
   "execution_count": 27,
   "metadata": {},
   "outputs": [
    {
     "data": {
      "text/plain": [
       "count    581969.000000\n",
       "mean         12.809860\n",
       "std           4.806562\n",
       "min           5.310000\n",
       "25%           9.170000\n",
       "50%          12.290000\n",
       "75%          15.610000\n",
       "max          30.990000\n",
       "Name: int_rate, dtype: float64"
      ]
     },
     "execution_count": 27,
     "metadata": {},
     "output_type": "execute_result"
    }
   ],
   "source": [
    "loans['int_rate'].describe()"
   ]
  },
  {
   "cell_type": "markdown",
   "metadata": {
    "_uuid": "d8afea343bab6f8fef2ed3b04d8dcf32a8b1b002"
   },
   "source": [
    "Interest rates range from 5.31% to 30.99% (!) with a median of 12.29%."
   ]
  },
  {
   "cell_type": "code",
   "execution_count": 28,
   "metadata": {
    "_uuid": "68a3574dadbbce75c73a47f7cf9db584ce4bc937"
   },
   "outputs": [
    {
     "data": {
      "image/png": "[encoded data removed]",
      "text/plain": [
       "<Figure size 1728x576 with 2 Axes>"
      ]
     },
     "metadata": {},
     "output_type": "display_data"
    }
   ],
   "source": [
    "plot_var('int_rate', 'Interest Rate', continuous=True)"
   ]
  },
  {
   "cell_type": "markdown",
   "metadata": {
    "_cell_guid": "1fd2a00f-0f95-481c-b9ff-d26526eb5f04",
    "_uuid": "321c4fb18ebd1bcf6689d7a5d3f23f80752bcfb3"
   },
   "source": [
    "Fully repaid loans tend to have much lower interest rates. Let's compare the summary statistics by loan status:"
   ]
  },
  {
   "cell_type": "code",
   "execution_count": 29,
   "metadata": {
    "_uuid": "80b55c5e802619bc4355d97829a361b1cce8d6fb"
   },
   "outputs": [
    {
     "data": {
      "text/html": [
       "<div>\n",
       "<style scoped>\n",
       "    .dataframe tbody tr th:only-of-type {\n",
       "        vertical-align: middle;\n",
       "    }\n",
       "\n",
       "    .dataframe tbody tr th {\n",
       "        vertical-align: top;\n",
       "    }\n",
       "\n",
       "    .dataframe thead th {\n",
       "        text-align: right;\n",
       "    }\n",
       "</style>\n",
       "<table border=\"1\" class=\"dataframe\">\n",
       "  <thead>\n",
       "    <tr style=\"text-align: right;\">\n",
       "      <th></th>\n",
       "      <th>count</th>\n",
       "      <th>mean</th>\n",
       "      <th>std</th>\n",
       "      <th>min</th>\n",
       "      <th>25%</th>\n",
       "      <th>50%</th>\n",
       "      <th>75%</th>\n",
       "      <th>max</th>\n",
       "    </tr>\n",
       "    <tr>\n",
       "      <th>loan_status</th>\n",
       "      <th></th>\n",
       "      <th></th>\n",
       "      <th></th>\n",
       "      <th></th>\n",
       "      <th></th>\n",
       "      <th></th>\n",
       "      <th></th>\n",
       "      <th></th>\n",
       "    </tr>\n",
       "  </thead>\n",
       "  <tbody>\n",
       "    <tr>\n",
       "      <th>Charged Off</th>\n",
       "      <td>121189.0</td>\n",
       "      <td>15.375897</td>\n",
       "      <td>4.958496</td>\n",
       "      <td>5.31</td>\n",
       "      <td>11.9900</td>\n",
       "      <td>14.65</td>\n",
       "      <td>18.250</td>\n",
       "      <td>30.99</td>\n",
       "    </tr>\n",
       "    <tr>\n",
       "      <th>Default</th>\n",
       "      <td>20.0</td>\n",
       "      <td>17.270500</td>\n",
       "      <td>5.830956</td>\n",
       "      <td>7.97</td>\n",
       "      <td>11.3675</td>\n",
       "      <td>19.03</td>\n",
       "      <td>21.105</td>\n",
       "      <td>25.82</td>\n",
       "    </tr>\n",
       "    <tr>\n",
       "      <th>Fully Paid</th>\n",
       "      <td>450285.0</td>\n",
       "      <td>12.052806</td>\n",
       "      <td>4.476698</td>\n",
       "      <td>5.31</td>\n",
       "      <td>8.1800</td>\n",
       "      <td>11.53</td>\n",
       "      <td>14.460</td>\n",
       "      <td>30.99</td>\n",
       "    </tr>\n",
       "    <tr>\n",
       "      <th>Late (31-120 days)</th>\n",
       "      <td>10475.0</td>\n",
       "      <td>15.657193</td>\n",
       "      <td>5.347756</td>\n",
       "      <td>5.31</td>\n",
       "      <td>11.9900</td>\n",
       "      <td>15.02</td>\n",
       "      <td>18.550</td>\n",
       "      <td>30.99</td>\n",
       "    </tr>\n",
       "  </tbody>\n",
       "</table>\n",
       "</div>"
      ],
      "text/plain": [
       "                       count       mean       std   min      25%    50%  \\\n",
       "loan_status                                                               \n",
       "Charged Off         121189.0  15.375897  4.958496  5.31  11.9900  14.65   \n",
       "Default                 20.0  17.270500  5.830956  7.97  11.3675  19.03   \n",
       "Fully Paid          450285.0  12.052806  4.476698  5.31   8.1800  11.53   \n",
       "Late (31-120 days)   10475.0  15.657193  5.347756  5.31  11.9900  15.02   \n",
       "\n",
       "                       75%    max  \n",
       "loan_status                        \n",
       "Charged Off         18.250  30.99  \n",
       "Default             21.105  25.82  \n",
       "Fully Paid          14.460  30.99  \n",
       "Late (31-120 days)  18.550  30.99  "
      ]
     },
     "execution_count": 29,
     "metadata": {},
     "output_type": "execute_result"
    }
   ],
   "source": [
    "loans.groupby('loan_status')['int_rate'].describe()"
   ]
  },
  {
   "cell_type": "markdown",
   "metadata": {},
   "source": [
    "<a id=\"section-three-one-two\"></a>\n",
    "### 3.1.2 Loan Term"
   ]
  },
  {
   "cell_type": "markdown",
   "metadata": {},
   "source": [
    "term: The number of payments on the loan. Values are in months and can be either 36 or 60"
   ]
  },
  {
   "cell_type": "code",
   "execution_count": 30,
   "metadata": {},
   "outputs": [
    {
     "data": {
      "text/plain": [
       " 36 months    439529\n",
       " 60 months    142440\n",
       "Name: term, dtype: int64"
      ]
     },
     "execution_count": 30,
     "metadata": {},
     "output_type": "execute_result"
    }
   ],
   "source": [
    "loans['term'].value_counts(dropna=False)"
   ]
  },
  {
   "cell_type": "code",
   "execution_count": 31,
   "metadata": {},
   "outputs": [],
   "source": [
    "#Convert term to integers\n",
    "loans['term'] = loans['term'].apply(lambda s: np.int8(s.split()[0]))"
   ]
  },
  {
   "cell_type": "code",
   "execution_count": 32,
   "metadata": {
    "_cell_guid": "dd9462d5-673b-4dce-ae3b-61f427b1abcb",
    "_uuid": "09eed29a2d6f5e30beec07ae5d29088234c99b1c"
   },
   "outputs": [
    {
     "data": {
      "text/plain": [
       "36    0.755245\n",
       "60    0.244755\n",
       "Name: term, dtype: float64"
      ]
     },
     "execution_count": 32,
     "metadata": {},
     "output_type": "execute_result"
    }
   ],
   "source": [
    "loans['term'].value_counts(normalize=True)"
   ]
  },
  {
   "cell_type": "markdown",
   "metadata": {
    "_uuid": "38b3f2e509a44b641c95c5bc3853fcb345c15697"
   },
   "source": [
    "Compare the charge-off rate by loan period:"
   ]
  },
  {
   "cell_type": "code",
   "execution_count": 33,
   "metadata": {},
   "outputs": [
    {
     "data": {
      "image/png": "[encoded data removed]",
      "text/plain": [
       "<Figure size 1728x576 with 2 Axes>"
      ]
     },
     "metadata": {},
     "output_type": "display_data"
    }
   ],
   "source": [
    "plot_var('term', 'Loan Term', continuous=False)"
   ]
  },
  {
   "cell_type": "markdown",
   "metadata": {},
   "source": [
    "<a id=\"section-three-one-three\"></a>\n",
    "### 3.1.3 FICO"
   ]
  },
  {
   "cell_type": "markdown",
   "metadata": {},
   "source": [
    "fico_range_low: The lower boundary range the borrower’s FICO at loan origination belongs to.  \n",
    "fico_range_high: The upper boundary range the borrower’s FICO at loan origination belongs to."
   ]
  },
  {
   "cell_type": "code",
   "execution_count": 34,
   "metadata": {},
   "outputs": [
    {
     "data": {
      "text/html": [
       "<div>\n",
       "<style scoped>\n",
       "    .dataframe tbody tr th:only-of-type {\n",
       "        vertical-align: middle;\n",
       "    }\n",
       "\n",
       "    .dataframe tbody tr th {\n",
       "        vertical-align: top;\n",
       "    }\n",
       "\n",
       "    .dataframe thead th {\n",
       "        text-align: right;\n",
       "    }\n",
       "</style>\n",
       "<table border=\"1\" class=\"dataframe\">\n",
       "  <thead>\n",
       "    <tr style=\"text-align: right;\">\n",
       "      <th></th>\n",
       "      <th>fico_range_low</th>\n",
       "      <th>fico_range_high</th>\n",
       "    </tr>\n",
       "  </thead>\n",
       "  <tbody>\n",
       "    <tr>\n",
       "      <th>count</th>\n",
       "      <td>581969.000000</td>\n",
       "      <td>581969.000000</td>\n",
       "    </tr>\n",
       "    <tr>\n",
       "      <th>mean</th>\n",
       "      <td>695.378732</td>\n",
       "      <td>699.378884</td>\n",
       "    </tr>\n",
       "    <tr>\n",
       "      <th>std</th>\n",
       "      <td>31.816385</td>\n",
       "      <td>31.817106</td>\n",
       "    </tr>\n",
       "    <tr>\n",
       "      <th>min</th>\n",
       "      <td>660.000000</td>\n",
       "      <td>664.000000</td>\n",
       "    </tr>\n",
       "    <tr>\n",
       "      <th>25%</th>\n",
       "      <td>670.000000</td>\n",
       "      <td>674.000000</td>\n",
       "    </tr>\n",
       "    <tr>\n",
       "      <th>50%</th>\n",
       "      <td>690.000000</td>\n",
       "      <td>694.000000</td>\n",
       "    </tr>\n",
       "    <tr>\n",
       "      <th>75%</th>\n",
       "      <td>710.000000</td>\n",
       "      <td>714.000000</td>\n",
       "    </tr>\n",
       "    <tr>\n",
       "      <th>max</th>\n",
       "      <td>845.000000</td>\n",
       "      <td>850.000000</td>\n",
       "    </tr>\n",
       "  </tbody>\n",
       "</table>\n",
       "</div>"
      ],
      "text/plain": [
       "       fico_range_low  fico_range_high\n",
       "count   581969.000000    581969.000000\n",
       "mean       695.378732       699.378884\n",
       "std         31.816385        31.817106\n",
       "min        660.000000       664.000000\n",
       "25%        670.000000       674.000000\n",
       "50%        690.000000       694.000000\n",
       "75%        710.000000       714.000000\n",
       "max        845.000000       850.000000"
      ]
     },
     "execution_count": 34,
     "metadata": {},
     "output_type": "execute_result"
    }
   ],
   "source": [
    "loans[['fico_range_low', 'fico_range_high']].describe()"
   ]
  },
  {
   "cell_type": "code",
   "execution_count": 35,
   "metadata": {},
   "outputs": [
    {
     "data": {
      "text/html": [
       "<div>\n",
       "<style scoped>\n",
       "    .dataframe tbody tr th:only-of-type {\n",
       "        vertical-align: middle;\n",
       "    }\n",
       "\n",
       "    .dataframe tbody tr th {\n",
       "        vertical-align: top;\n",
       "    }\n",
       "\n",
       "    .dataframe thead th {\n",
       "        text-align: right;\n",
       "    }\n",
       "</style>\n",
       "<table border=\"1\" class=\"dataframe\">\n",
       "  <thead>\n",
       "    <tr style=\"text-align: right;\">\n",
       "      <th></th>\n",
       "      <th>fico_range_low</th>\n",
       "      <th>fico_range_high</th>\n",
       "    </tr>\n",
       "  </thead>\n",
       "  <tbody>\n",
       "    <tr>\n",
       "      <th>fico_range_low</th>\n",
       "      <td>1.0</td>\n",
       "      <td>1.0</td>\n",
       "    </tr>\n",
       "    <tr>\n",
       "      <th>fico_range_high</th>\n",
       "      <td>1.0</td>\n",
       "      <td>1.0</td>\n",
       "    </tr>\n",
       "  </tbody>\n",
       "</table>\n",
       "</div>"
      ],
      "text/plain": [
       "                 fico_range_low  fico_range_high\n",
       "fico_range_low              1.0              1.0\n",
       "fico_range_high             1.0              1.0"
      ]
     },
     "execution_count": 35,
     "metadata": {},
     "output_type": "execute_result"
    }
   ],
   "source": [
    "loans[['fico_range_low','fico_range_high']].corr()"
   ]
  },
  {
   "cell_type": "markdown",
   "metadata": {},
   "source": [
    "Let's take the average of the two and remove the two original variables."
   ]
  },
  {
   "cell_type": "code",
   "execution_count": 36,
   "metadata": {},
   "outputs": [],
   "source": [
    "loans['fico_score'] = 0.5*loans['fico_range_low'] + 0.5*loans['fico_range_high']"
   ]
  },
  {
   "cell_type": "code",
   "execution_count": 37,
   "metadata": {},
   "outputs": [],
   "source": [
    "loans.drop(['fico_range_high', 'fico_range_low'], axis=1, inplace=True)"
   ]
  },
  {
   "cell_type": "code",
   "execution_count": 38,
   "metadata": {},
   "outputs": [
    {
     "data": {
      "image/png": "[encoded data removed]",
      "text/plain": [
       "<Figure size 1728x576 with 2 Axes>"
      ]
     },
     "metadata": {},
     "output_type": "display_data"
    }
   ],
   "source": [
    "plot_var('fico_score', 'FICO Score', continuous=True)"
   ]
  },
  {
   "cell_type": "code",
   "execution_count": 39,
   "metadata": {},
   "outputs": [
    {
     "data": {
      "text/html": [
       "<div>\n",
       "<style scoped>\n",
       "    .dataframe tbody tr th:only-of-type {\n",
       "        vertical-align: middle;\n",
       "    }\n",
       "\n",
       "    .dataframe tbody tr th {\n",
       "        vertical-align: top;\n",
       "    }\n",
       "\n",
       "    .dataframe thead th {\n",
       "        text-align: right;\n",
       "    }\n",
       "</style>\n",
       "<table border=\"1\" class=\"dataframe\">\n",
       "  <thead>\n",
       "    <tr style=\"text-align: right;\">\n",
       "      <th></th>\n",
       "      <th>count</th>\n",
       "      <th>mean</th>\n",
       "      <th>std</th>\n",
       "      <th>min</th>\n",
       "      <th>25%</th>\n",
       "      <th>50%</th>\n",
       "      <th>75%</th>\n",
       "      <th>max</th>\n",
       "    </tr>\n",
       "    <tr>\n",
       "      <th>loan_status</th>\n",
       "      <th></th>\n",
       "      <th></th>\n",
       "      <th></th>\n",
       "      <th></th>\n",
       "      <th></th>\n",
       "      <th></th>\n",
       "      <th></th>\n",
       "      <th></th>\n",
       "    </tr>\n",
       "  </thead>\n",
       "  <tbody>\n",
       "    <tr>\n",
       "      <th>Charged Off</th>\n",
       "      <td>121189.0</td>\n",
       "      <td>689.134954</td>\n",
       "      <td>25.705709</td>\n",
       "      <td>662.0</td>\n",
       "      <td>672.00</td>\n",
       "      <td>682.0</td>\n",
       "      <td>702.0</td>\n",
       "      <td>847.5</td>\n",
       "    </tr>\n",
       "    <tr>\n",
       "      <th>Default</th>\n",
       "      <td>20.0</td>\n",
       "      <td>709.500000</td>\n",
       "      <td>39.917678</td>\n",
       "      <td>662.0</td>\n",
       "      <td>680.75</td>\n",
       "      <td>702.0</td>\n",
       "      <td>734.5</td>\n",
       "      <td>802.0</td>\n",
       "    </tr>\n",
       "    <tr>\n",
       "      <th>Fully Paid</th>\n",
       "      <td>450285.0</td>\n",
       "      <td>699.670479</td>\n",
       "      <td>32.972391</td>\n",
       "      <td>662.0</td>\n",
       "      <td>672.00</td>\n",
       "      <td>692.0</td>\n",
       "      <td>717.0</td>\n",
       "      <td>847.5</td>\n",
       "    </tr>\n",
       "    <tr>\n",
       "      <th>Late (31-120 days)</th>\n",
       "      <td>10475.0</td>\n",
       "      <td>694.220525</td>\n",
       "      <td>28.940459</td>\n",
       "      <td>662.0</td>\n",
       "      <td>672.00</td>\n",
       "      <td>687.0</td>\n",
       "      <td>707.0</td>\n",
       "      <td>842.0</td>\n",
       "    </tr>\n",
       "  </tbody>\n",
       "</table>\n",
       "</div>"
      ],
      "text/plain": [
       "                       count        mean        std    min     25%    50%  \\\n",
       "loan_status                                                                 \n",
       "Charged Off         121189.0  689.134954  25.705709  662.0  672.00  682.0   \n",
       "Default                 20.0  709.500000  39.917678  662.0  680.75  702.0   \n",
       "Fully Paid          450285.0  699.670479  32.972391  662.0  672.00  692.0   \n",
       "Late (31-120 days)   10475.0  694.220525  28.940459  662.0  672.00  687.0   \n",
       "\n",
       "                      75%    max  \n",
       "loan_status                       \n",
       "Charged Off         702.0  847.5  \n",
       "Default             734.5  802.0  \n",
       "Fully Paid          717.0  847.5  \n",
       "Late (31-120 days)  707.0  842.0  "
      ]
     },
     "execution_count": 39,
     "metadata": {},
     "output_type": "execute_result"
    }
   ],
   "source": [
    "loans.groupby('loan_status')['fico_score'].describe()"
   ]
  },
  {
   "cell_type": "markdown",
   "metadata": {
    "_uuid": "69010cf27e356e99f2458cc7998a081305a27699"
   },
   "source": [
    "<a id=\"section-three-one-four\"></a>\n",
    "### 3.1.4 Loan Amount"
   ]
  },
  {
   "cell_type": "markdown",
   "metadata": {},
   "source": [
    "loan_amnt: The listed amount of the loan applied for by the borrower. If at some point in time, the credit department reduces the loan amount, then it will be reflected in this value."
   ]
  },
  {
   "cell_type": "code",
   "execution_count": 40,
   "metadata": {},
   "outputs": [
    {
     "data": {
      "text/plain": [
       "count    581969.000000\n",
       "mean      14606.557909\n",
       "std        8837.389618\n",
       "min        1000.000000\n",
       "25%        8000.000000\n",
       "50%       12000.000000\n",
       "75%       20000.000000\n",
       "max       40000.000000\n",
       "Name: loan_amnt, dtype: float64"
      ]
     },
     "execution_count": 40,
     "metadata": {},
     "output_type": "execute_result"
    }
   ],
   "source": [
    "loans['loan_amnt'].describe()"
   ]
  },
  {
   "cell_type": "code",
   "execution_count": 41,
   "metadata": {},
   "outputs": [
    {
     "data": {
      "image/png": "[encoded data removed]",
      "text/plain": [
       "<Figure size 1728x576 with 2 Axes>"
      ]
     },
     "metadata": {},
     "output_type": "display_data"
    }
   ],
   "source": [
    "plot_var('loan_amnt', 'Loan Amount', continuous=True)"
   ]
  },
  {
   "cell_type": "markdown",
   "metadata": {},
   "source": [
    "Charged-off loans tend to have higher loan amounts."
   ]
  },
  {
   "cell_type": "code",
   "execution_count": 42,
   "metadata": {},
   "outputs": [
    {
     "data": {
      "text/html": [
       "<div>\n",
       "<style scoped>\n",
       "    .dataframe tbody tr th:only-of-type {\n",
       "        vertical-align: middle;\n",
       "    }\n",
       "\n",
       "    .dataframe tbody tr th {\n",
       "        vertical-align: top;\n",
       "    }\n",
       "\n",
       "    .dataframe thead th {\n",
       "        text-align: right;\n",
       "    }\n",
       "</style>\n",
       "<table border=\"1\" class=\"dataframe\">\n",
       "  <thead>\n",
       "    <tr style=\"text-align: right;\">\n",
       "      <th></th>\n",
       "      <th>count</th>\n",
       "      <th>mean</th>\n",
       "      <th>std</th>\n",
       "      <th>min</th>\n",
       "      <th>25%</th>\n",
       "      <th>50%</th>\n",
       "      <th>75%</th>\n",
       "      <th>max</th>\n",
       "    </tr>\n",
       "    <tr>\n",
       "      <th>loan_status</th>\n",
       "      <th></th>\n",
       "      <th></th>\n",
       "      <th></th>\n",
       "      <th></th>\n",
       "      <th></th>\n",
       "      <th></th>\n",
       "      <th></th>\n",
       "      <th></th>\n",
       "    </tr>\n",
       "  </thead>\n",
       "  <tbody>\n",
       "    <tr>\n",
       "      <th>Charged Off</th>\n",
       "      <td>121189.0</td>\n",
       "      <td>15654.472766</td>\n",
       "      <td>8811.053292</td>\n",
       "      <td>1000.0</td>\n",
       "      <td>9000.0</td>\n",
       "      <td>14400.0</td>\n",
       "      <td>20700.0</td>\n",
       "      <td>40000.0</td>\n",
       "    </tr>\n",
       "    <tr>\n",
       "      <th>Default</th>\n",
       "      <td>20.0</td>\n",
       "      <td>14566.250000</td>\n",
       "      <td>9513.004517</td>\n",
       "      <td>3000.0</td>\n",
       "      <td>8000.0</td>\n",
       "      <td>11000.0</td>\n",
       "      <td>20000.0</td>\n",
       "      <td>35000.0</td>\n",
       "    </tr>\n",
       "    <tr>\n",
       "      <th>Fully Paid</th>\n",
       "      <td>450285.0</td>\n",
       "      <td>14264.980901</td>\n",
       "      <td>8791.914710</td>\n",
       "      <td>1000.0</td>\n",
       "      <td>7500.0</td>\n",
       "      <td>12000.0</td>\n",
       "      <td>20000.0</td>\n",
       "      <td>40000.0</td>\n",
       "    </tr>\n",
       "    <tr>\n",
       "      <th>Late (31-120 days)</th>\n",
       "      <td>10475.0</td>\n",
       "      <td>17166.181384</td>\n",
       "      <td>9678.240476</td>\n",
       "      <td>1000.0</td>\n",
       "      <td>10000.0</td>\n",
       "      <td>15000.0</td>\n",
       "      <td>24000.0</td>\n",
       "      <td>40000.0</td>\n",
       "    </tr>\n",
       "  </tbody>\n",
       "</table>\n",
       "</div>"
      ],
      "text/plain": [
       "                       count          mean          std     min      25%  \\\n",
       "loan_status                                                                \n",
       "Charged Off         121189.0  15654.472766  8811.053292  1000.0   9000.0   \n",
       "Default                 20.0  14566.250000  9513.004517  3000.0   8000.0   \n",
       "Fully Paid          450285.0  14264.980901  8791.914710  1000.0   7500.0   \n",
       "Late (31-120 days)   10475.0  17166.181384  9678.240476  1000.0  10000.0   \n",
       "\n",
       "                        50%      75%      max  \n",
       "loan_status                                    \n",
       "Charged Off         14400.0  20700.0  40000.0  \n",
       "Default             11000.0  20000.0  35000.0  \n",
       "Fully Paid          12000.0  20000.0  40000.0  \n",
       "Late (31-120 days)  15000.0  24000.0  40000.0  "
      ]
     },
     "execution_count": 42,
     "metadata": {},
     "output_type": "execute_result"
    }
   ],
   "source": [
    "loans.groupby('loan_status')['loan_amnt'].describe()"
   ]
  },
  {
   "cell_type": "markdown",
   "metadata": {
    "_cell_guid": "1b745ce5-987f-45b9-8e3f-6d5f760e3a7c",
    "_uuid": "687c301f0bd5f40efdeca5307e9d0cb6a1fb6161"
   },
   "source": [
    "<a id=\"section-three-one-five\"></a>\n",
    "### 3.1.5 Grade and subgrade"
   ]
  },
  {
   "cell_type": "markdown",
   "metadata": {},
   "source": [
    "sub_grade: LendingClub assigned loan subgrade   \n",
    "grade: LendingClub assigned loan grade"
   ]
  },
  {
   "cell_type": "code",
   "execution_count": 43,
   "metadata": {
    "_uuid": "6403890cc7037a7c67c7b7aa9d48250647b4d0a2"
   },
   "outputs": [
    {
     "name": "stdout",
     "output_type": "stream",
     "text": [
      "['A', 'B', 'C', 'D', 'E', 'F', 'G']\n"
     ]
    }
   ],
   "source": [
    "print(sorted(loans['grade'].unique()))"
   ]
  },
  {
   "cell_type": "code",
   "execution_count": 44,
   "metadata": {
    "_uuid": "94b94f61439057a90672001d9aa02422b6457ad7",
    "scrolled": true
   },
   "outputs": [
    {
     "name": "stdout",
     "output_type": "stream",
     "text": [
      "['A1', 'A2', 'A3', 'A4', 'A5', 'B1', 'B2', 'B3', 'B4', 'B5', 'C1', 'C2', 'C3', 'C4', 'C5', 'D1', 'D2', 'D3', 'D4', 'D5', 'E1', 'E2', 'E3', 'E4', 'E5', 'F1', 'F2', 'F3', 'F4', 'F5', 'G1', 'G2', 'G3', 'G4', 'G5']\n"
     ]
    }
   ],
   "source": [
    "print(sorted(loans['sub_grade'].unique()))"
   ]
  },
  {
   "cell_type": "markdown",
   "metadata": {
    "_cell_guid": "b1d34f86-4ffb-4024-ad0f-714bd5cb3f21",
    "_uuid": "efb24fbebc6a4b092a37b79e7fb6f29133d3315a"
   },
   "source": [
    "The grade is implied by the subgrade, so let's drop the grade column."
   ]
  },
  {
   "cell_type": "code",
   "execution_count": 45,
   "metadata": {
    "_cell_guid": "9c00600b-0a58-4648-9448-4e960b705eb6",
    "_uuid": "a46021ef96a484732a847ed2f3cece9d423f73ec"
   },
   "outputs": [],
   "source": [
    "loans.drop('grade', axis=1, inplace=True)"
   ]
  },
  {
   "cell_type": "code",
   "execution_count": 46,
   "metadata": {
    "_uuid": "68a3be24bccbfbef0c941d0b72f660fa79cb2c49"
   },
   "outputs": [
    {
     "data": {
      "image/png": "[encoded data removed]",
      "text/plain": [
       "<Figure size 1728x576 with 2 Axes>"
      ]
     },
     "metadata": {},
     "output_type": "display_data"
    }
   ],
   "source": [
    "plot_var('sub_grade', 'Subgrade', continuous=False)"
   ]
  },
  {
   "cell_type": "markdown",
   "metadata": {
    "_cell_guid": "e53dbddd-aff4-4d44-bc8e-a7637e953ab0",
    "_uuid": "cf7685607c32b9857f4fc0cce38c6feea215e2fe"
   },
   "source": [
    "There's a clear trend of higher probability of non-repayment as the subgrade worsens."
   ]
  },
  {
   "cell_type": "markdown",
   "metadata": {
    "_cell_guid": "e994c5db-880e-4ec0-8cbd-4aacad373993",
    "_uuid": "332158cff90d2e051f5a80bee5983019ada32a30"
   },
   "source": [
    "<a id=\"section-three-one-six\"></a>\n",
    "### 3.1.6 Homeownership"
   ]
  },
  {
   "cell_type": "markdown",
   "metadata": {
    "_uuid": "267058a2938fbadf9cc48efe9fe6474aa65ab95b"
   },
   "source": [
    "Home ownership: The home ownership status provided by the borrower during registration or obtained from the credit report. Our values are: RENT, OWN, MORTGAGE, OTHER."
   ]
  },
  {
   "cell_type": "code",
   "execution_count": 47,
   "metadata": {
    "_cell_guid": "d574efb7-1a6b-4ec2-a446-827d75d0d9cf",
    "_uuid": "017c6be384f35a700cebfa761dbaee4ec6b73256"
   },
   "outputs": [
    {
     "data": {
      "text/plain": [
       "MORTGAGE    283545\n",
       "RENT        232089\n",
       "OWN          66312\n",
       "ANY             21\n",
       "NONE             2\n",
       "Name: home_ownership, dtype: int64"
      ]
     },
     "execution_count": 47,
     "metadata": {},
     "output_type": "execute_result"
    }
   ],
   "source": [
    "loans['home_ownership'].value_counts(dropna=False)"
   ]
  },
  {
   "cell_type": "markdown",
   "metadata": {
    "_uuid": "026cafca68a89a5e27e0de6dbe0416540e1ebfb5"
   },
   "source": [
    "Replace the values `ANY` and `NONE` with `OTHER`:"
   ]
  },
  {
   "cell_type": "code",
   "execution_count": 48,
   "metadata": {
    "_uuid": "98e072c98be007e9ad879bd642a3f28d17cf0ef5"
   },
   "outputs": [],
   "source": [
    "loans['home_ownership'].replace(['NONE', 'ANY'], 'OTHER', inplace=True)"
   ]
  },
  {
   "cell_type": "code",
   "execution_count": 49,
   "metadata": {
    "_uuid": "5311d93a7dbdf5fd53fa3e0dbaf1619e292755b9"
   },
   "outputs": [
    {
     "data": {
      "text/plain": [
       "MORTGAGE    283545\n",
       "RENT        232089\n",
       "OWN          66312\n",
       "OTHER           23\n",
       "Name: home_ownership, dtype: int64"
      ]
     },
     "execution_count": 49,
     "metadata": {},
     "output_type": "execute_result"
    }
   ],
   "source": [
    "loans['home_ownership'].value_counts(dropna=False)"
   ]
  },
  {
   "cell_type": "code",
   "execution_count": 50,
   "metadata": {
    "_uuid": "fecf1daf53d2fbbfd7626b1dfeda7c8c4d68ce70"
   },
   "outputs": [
    {
     "data": {
      "image/png": "[encoded data removed]",
      "text/plain": [
       "<Figure size 1728x576 with 2 Axes>"
      ]
     },
     "metadata": {},
     "output_type": "display_data"
    }
   ],
   "source": [
    "plot_var('home_ownership', 'Home Ownership', continuous=False)"
   ]
  },
  {
   "cell_type": "markdown",
   "metadata": {
    "_uuid": "b840f99998fc7cbfd7e395f7b06b7b2da46231f5"
   },
   "source": [
    "There appear to be large differences in non-repayment rates by home ownership status. Renters and homeowners have a higher probability of non-repayment. Let's compare the non-repayment rates:"
   ]
  },
  {
   "cell_type": "code",
   "execution_count": 51,
   "metadata": {
    "_uuid": "76bc94460d1679808d930020cd3d8c912853ab02"
   },
   "outputs": [
    {
     "data": {
      "text/plain": [
       "home_ownership  loan_status       \n",
       "MORTGAGE        Fully Paid            0.805929\n",
       "                Charged Off           0.177834\n",
       "                Late (31-120 days)    0.016206\n",
       "                Default               0.000032\n",
       "OTHER           Fully Paid            0.695652\n",
       "                Late (31-120 days)    0.260870\n",
       "                Charged Off           0.043478\n",
       "OWN             Fully Paid            0.768021\n",
       "                Charged Off           0.212284\n",
       "                Late (31-120 days)    0.019619\n",
       "                Default               0.000075\n",
       "RENT            Fully Paid            0.736024\n",
       "                Charged Off           0.244247\n",
       "                Late (31-120 days)    0.019704\n",
       "                Default               0.000026\n",
       "Name: loan_status, dtype: float64"
      ]
     },
     "execution_count": 51,
     "metadata": {},
     "output_type": "execute_result"
    }
   ],
   "source": [
    "loans.groupby('home_ownership')['loan_status'].value_counts(normalize=True).loc[:,[\"Charged Off\", \"Default\", \"Fully Paid\", \"Late (31-120 days)\"]]"
   ]
  },
  {
   "cell_type": "markdown",
   "metadata": {
    "_cell_guid": "119da036-552d-4a95-a61f-7fdd464bcf5b",
    "_uuid": "840799ab7f984830bf29f0b677f4f14b672d4253"
   },
   "source": [
    "<a id=\"section-three-one-seven\"></a>\n",
    "### 3.1.7 Verification Status"
   ]
  },
  {
   "cell_type": "markdown",
   "metadata": {},
   "source": [
    "verification_status: Indicates if income was verified by [Lending Club], not verified, or if the income source was verified."
   ]
  },
  {
   "cell_type": "code",
   "execution_count": 52,
   "metadata": {
    "_uuid": "7943b3cb9228cf5a4b85acbdbae34bf45320a32f"
   },
   "outputs": [
    {
     "data": {
      "image/png": "[encoded data removed]",
      "text/plain": [
       "<Figure size 1728x576 with 2 Axes>"
      ]
     },
     "metadata": {},
     "output_type": "display_data"
    }
   ],
   "source": [
    "plot_var('verification_status', 'Verification Status', continuous=False)"
   ]
  },
  {
   "cell_type": "markdown",
   "metadata": {
    "_cell_guid": "3a91aec4-9bc4-42d6-8c62-e3892a9a2754",
    "_uuid": "87124cd85754a1e6ef201217421ff2f50108cb2a"
   },
   "source": [
    "<a id=\"section-three-one-eight\"></a>\n",
    "### 3.1.8 Loan Purpose"
   ]
  },
  {
   "cell_type": "markdown",
   "metadata": {
    "_uuid": "ee566a2316c9c7221e99520e5c4d65acbfaa2c85"
   },
   "source": [
    "Loan purpose: A category provided by the borrower for the loan request."
   ]
  },
  {
   "cell_type": "code",
   "execution_count": 53,
   "metadata": {
    "_cell_guid": "9de7d1b4-212b-4478-88a2-a3176a03e982",
    "_uuid": "5d4c3c93e59ee2cde87f4fc5487b43c555c33faf"
   },
   "outputs": [
    {
     "data": {
      "text/plain": [
       "debt_consolidation    337874\n",
       "credit_card           129632\n",
       "home_improvement       39571\n",
       "other                  33281\n",
       "major_purchase         12260\n",
       "medical                 6752\n",
       "car                     5694\n",
       "small_business          5345\n",
       "moving                  4184\n",
       "vacation                4166\n",
       "house                   2845\n",
       "renewable_energy         358\n",
       "wedding                    6\n",
       "educational                1\n",
       "Name: purpose, dtype: int64"
      ]
     },
     "execution_count": 53,
     "metadata": {},
     "output_type": "execute_result"
    }
   ],
   "source": [
    "loans['purpose'].value_counts()"
   ]
  },
  {
   "cell_type": "markdown",
   "metadata": {
    "_uuid": "e936d0cb2436cf6420470e108813579756305493"
   },
   "source": [
    "Calculate the charge-off rates by purpose:"
   ]
  },
  {
   "cell_type": "code",
   "execution_count": 54,
   "metadata": {
    "_uuid": "2d994abd68d7c93661ba101c8931137172d8b279"
   },
   "outputs": [
    {
     "data": {
      "text/plain": [
       "purpose             loan_status       \n",
       "credit_card         Default               0.000015\n",
       "other               Default               0.000030\n",
       "debt_consolidation  Default               0.000038\n",
       "home_improvement    Default               0.000051\n",
       "major_purchase      Default               0.000082\n",
       "medical             Default               0.000148\n",
       "credit_card         Late (31-120 days)    0.015081\n",
       "car                 Late (31-120 days)    0.016333\n",
       "vacation            Late (31-120 days)    0.016803\n",
       "home_improvement    Late (31-120 days)    0.017917\n",
       "debt_consolidation  Late (31-120 days)    0.018243\n",
       "moving              Late (31-120 days)    0.020076\n",
       "medical             Late (31-120 days)    0.021327\n",
       "other               Late (31-120 days)    0.021724\n",
       "renewable_energy    Late (31-120 days)    0.022346\n",
       "major_purchase      Late (31-120 days)    0.022757\n",
       "house               Late (31-120 days)    0.029174\n",
       "small_business      Late (31-120 days)    0.030496\n",
       "car                 Charged Off           0.159290\n",
       "wedding             Charged Off           0.166667\n",
       "credit_card         Charged Off           0.176939\n",
       "home_improvement    Charged Off           0.183367\n",
       "vacation            Charged Off           0.189150\n",
       "major_purchase      Charged Off           0.197716\n",
       "other               Charged Off           0.215588\n",
       "debt_consolidation  Charged Off           0.221310\n",
       "medical             Charged Off           0.224674\n",
       "house               Charged Off           0.224956\n",
       "moving              Charged Off           0.245459\n",
       "renewable_energy    Charged Off           0.270950\n",
       "small_business      Charged Off           0.307764\n",
       "                    Fully Paid            0.661740\n",
       "renewable_energy    Fully Paid            0.706704\n",
       "moving              Fully Paid            0.734465\n",
       "house               Fully Paid            0.745870\n",
       "medical             Fully Paid            0.753851\n",
       "debt_consolidation  Fully Paid            0.760408\n",
       "other               Fully Paid            0.762657\n",
       "major_purchase      Fully Paid            0.779445\n",
       "vacation            Fully Paid            0.794047\n",
       "home_improvement    Fully Paid            0.798666\n",
       "credit_card         Fully Paid            0.807964\n",
       "car                 Fully Paid            0.824377\n",
       "wedding             Fully Paid            0.833333\n",
       "educational         Fully Paid            1.000000\n",
       "Name: loan_status, dtype: float64"
      ]
     },
     "execution_count": 54,
     "metadata": {},
     "output_type": "execute_result"
    }
   ],
   "source": [
    "loans.groupby('purpose')['loan_status'].value_counts(normalize=True).loc[:,[\"Charged Off\", \"Default\", \"Fully Paid\", \"Late (31-120 days)\"]].sort_values()"
   ]
  },
  {
   "cell_type": "markdown",
   "metadata": {
    "_cell_guid": "240c20e9-6336-47c6-9d92-69cc73433966",
    "_uuid": "fab8e8d284e011c9da9fedfa1a586a409f77ea0b"
   },
   "source": [
    "Notice that only 16.7% of completed loans for weddings have not repaid, but 31% of completed small business loans have not repaid."
   ]
  },
  {
   "cell_type": "code",
   "execution_count": 55,
   "metadata": {},
   "outputs": [],
   "source": [
    "# Subset data to the 8 features and the target\n",
    "# Modify your set of features here\n",
    "loans = loans[[\"issue_d\",\"non_repayment\",\"int_rate\", \"term\", \"fico_score\", \"loan_amnt\", \"sub_grade\", \"home_ownership\", \"verification_status\", \"purpose\"]]"
   ]
  },
  {
   "cell_type": "markdown",
   "metadata": {},
   "source": [
    "<a id=\"section-three-two\"></a>\n",
    "### 3.2 Create dummy variables"
   ]
  },
  {
   "cell_type": "code",
   "execution_count": 56,
   "metadata": {},
   "outputs": [],
   "source": [
    "loans = pd.get_dummies(loans, columns=['sub_grade', 'home_ownership', 'verification_status', 'purpose'], drop_first=True)"
   ]
  },
  {
   "cell_type": "code",
   "execution_count": 57,
   "metadata": {
    "_uuid": "7f7b283b25cee3c1fae860e415f09108b01990fc"
   },
   "outputs": [
    {
     "data": {
      "text/plain": [
       "(581969, 58)"
      ]
     },
     "execution_count": 57,
     "metadata": {},
     "output_type": "execute_result"
    }
   ],
   "source": [
    "loans.shape"
   ]
  },
  {
   "cell_type": "markdown",
   "metadata": {
    "_uuid": "5aac6b7e148e1e72116ab037216b20ff886d4d20"
   },
   "source": [
    "Check our data with the new dummy variables:"
   ]
  },
  {
   "cell_type": "code",
   "execution_count": 58,
   "metadata": {
    "_uuid": "754d01e2f194c88b1c719c007e53d28d1bc85dab"
   },
   "outputs": [
    {
     "data": {
      "text/html": [
       "<div>\n",
       "<style scoped>\n",
       "    .dataframe tbody tr th:only-of-type {\n",
       "        vertical-align: middle;\n",
       "    }\n",
       "\n",
       "    .dataframe tbody tr th {\n",
       "        vertical-align: top;\n",
       "    }\n",
       "\n",
       "    .dataframe thead th {\n",
       "        text-align: right;\n",
       "    }\n",
       "</style>\n",
       "<table border=\"1\" class=\"dataframe\">\n",
       "  <thead>\n",
       "    <tr style=\"text-align: right;\">\n",
       "      <th></th>\n",
       "      <th>issue_d</th>\n",
       "      <th>non_repayment</th>\n",
       "      <th>int_rate</th>\n",
       "      <th>term</th>\n",
       "      <th>fico_score</th>\n",
       "      <th>loan_amnt</th>\n",
       "      <th>sub_grade_A2</th>\n",
       "      <th>sub_grade_A3</th>\n",
       "      <th>sub_grade_A4</th>\n",
       "      <th>sub_grade_A5</th>\n",
       "      <th>sub_grade_B1</th>\n",
       "      <th>sub_grade_B2</th>\n",
       "      <th>sub_grade_B3</th>\n",
       "      <th>sub_grade_B4</th>\n",
       "      <th>sub_grade_B5</th>\n",
       "      <th>sub_grade_C1</th>\n",
       "      <th>sub_grade_C2</th>\n",
       "      <th>sub_grade_C3</th>\n",
       "      <th>sub_grade_C4</th>\n",
       "      <th>sub_grade_C5</th>\n",
       "      <th>sub_grade_D1</th>\n",
       "      <th>sub_grade_D2</th>\n",
       "      <th>sub_grade_D3</th>\n",
       "      <th>sub_grade_D4</th>\n",
       "      <th>sub_grade_D5</th>\n",
       "      <th>sub_grade_E1</th>\n",
       "      <th>sub_grade_E2</th>\n",
       "      <th>sub_grade_E3</th>\n",
       "      <th>sub_grade_E4</th>\n",
       "      <th>sub_grade_E5</th>\n",
       "      <th>sub_grade_F1</th>\n",
       "      <th>sub_grade_F2</th>\n",
       "      <th>sub_grade_F3</th>\n",
       "      <th>sub_grade_F4</th>\n",
       "      <th>sub_grade_F5</th>\n",
       "      <th>sub_grade_G1</th>\n",
       "      <th>sub_grade_G2</th>\n",
       "      <th>sub_grade_G3</th>\n",
       "      <th>sub_grade_G4</th>\n",
       "      <th>sub_grade_G5</th>\n",
       "      <th>home_ownership_OTHER</th>\n",
       "      <th>home_ownership_OWN</th>\n",
       "      <th>home_ownership_RENT</th>\n",
       "      <th>verification_status_Source Verified</th>\n",
       "      <th>verification_status_Verified</th>\n",
       "      <th>purpose_credit_card</th>\n",
       "      <th>purpose_debt_consolidation</th>\n",
       "      <th>purpose_educational</th>\n",
       "      <th>purpose_home_improvement</th>\n",
       "      <th>purpose_house</th>\n",
       "      <th>purpose_major_purchase</th>\n",
       "      <th>purpose_medical</th>\n",
       "      <th>purpose_moving</th>\n",
       "      <th>purpose_other</th>\n",
       "      <th>purpose_renewable_energy</th>\n",
       "      <th>purpose_small_business</th>\n",
       "      <th>purpose_vacation</th>\n",
       "      <th>purpose_wedding</th>\n",
       "    </tr>\n",
       "  </thead>\n",
       "  <tbody>\n",
       "    <tr>\n",
       "      <th>127335</th>\n",
       "      <td>Oct-2015</td>\n",
       "      <td>0</td>\n",
       "      <td>16.99</td>\n",
       "      <td>36</td>\n",
       "      <td>662.0</td>\n",
       "      <td>4350.0</td>\n",
       "      <td>0</td>\n",
       "      <td>0</td>\n",
       "      <td>0</td>\n",
       "      <td>0</td>\n",
       "      <td>0</td>\n",
       "      <td>0</td>\n",
       "      <td>0</td>\n",
       "      <td>0</td>\n",
       "      <td>0</td>\n",
       "      <td>0</td>\n",
       "      <td>0</td>\n",
       "      <td>0</td>\n",
       "      <td>0</td>\n",
       "      <td>0</td>\n",
       "      <td>0</td>\n",
       "      <td>0</td>\n",
       "      <td>1</td>\n",
       "      <td>0</td>\n",
       "      <td>0</td>\n",
       "      <td>0</td>\n",
       "      <td>0</td>\n",
       "      <td>0</td>\n",
       "      <td>0</td>\n",
       "      <td>0</td>\n",
       "      <td>0</td>\n",
       "      <td>0</td>\n",
       "      <td>0</td>\n",
       "      <td>0</td>\n",
       "      <td>0</td>\n",
       "      <td>0</td>\n",
       "      <td>0</td>\n",
       "      <td>0</td>\n",
       "      <td>0</td>\n",
       "      <td>0</td>\n",
       "      <td>0</td>\n",
       "      <td>0</td>\n",
       "      <td>0</td>\n",
       "      <td>0</td>\n",
       "      <td>0</td>\n",
       "      <td>0</td>\n",
       "      <td>1</td>\n",
       "      <td>0</td>\n",
       "      <td>0</td>\n",
       "      <td>0</td>\n",
       "      <td>0</td>\n",
       "      <td>0</td>\n",
       "      <td>0</td>\n",
       "      <td>0</td>\n",
       "      <td>0</td>\n",
       "      <td>0</td>\n",
       "      <td>0</td>\n",
       "      <td>0</td>\n",
       "    </tr>\n",
       "    <tr>\n",
       "      <th>25438</th>\n",
       "      <td>Dec-2015</td>\n",
       "      <td>0</td>\n",
       "      <td>11.22</td>\n",
       "      <td>36</td>\n",
       "      <td>687.0</td>\n",
       "      <td>10000.0</td>\n",
       "      <td>0</td>\n",
       "      <td>0</td>\n",
       "      <td>0</td>\n",
       "      <td>0</td>\n",
       "      <td>0</td>\n",
       "      <td>0</td>\n",
       "      <td>0</td>\n",
       "      <td>0</td>\n",
       "      <td>1</td>\n",
       "      <td>0</td>\n",
       "      <td>0</td>\n",
       "      <td>0</td>\n",
       "      <td>0</td>\n",
       "      <td>0</td>\n",
       "      <td>0</td>\n",
       "      <td>0</td>\n",
       "      <td>0</td>\n",
       "      <td>0</td>\n",
       "      <td>0</td>\n",
       "      <td>0</td>\n",
       "      <td>0</td>\n",
       "      <td>0</td>\n",
       "      <td>0</td>\n",
       "      <td>0</td>\n",
       "      <td>0</td>\n",
       "      <td>0</td>\n",
       "      <td>0</td>\n",
       "      <td>0</td>\n",
       "      <td>0</td>\n",
       "      <td>0</td>\n",
       "      <td>0</td>\n",
       "      <td>0</td>\n",
       "      <td>0</td>\n",
       "      <td>0</td>\n",
       "      <td>0</td>\n",
       "      <td>0</td>\n",
       "      <td>1</td>\n",
       "      <td>0</td>\n",
       "      <td>1</td>\n",
       "      <td>0</td>\n",
       "      <td>1</td>\n",
       "      <td>0</td>\n",
       "      <td>0</td>\n",
       "      <td>0</td>\n",
       "      <td>0</td>\n",
       "      <td>0</td>\n",
       "      <td>0</td>\n",
       "      <td>0</td>\n",
       "      <td>0</td>\n",
       "      <td>0</td>\n",
       "      <td>0</td>\n",
       "      <td>0</td>\n",
       "    </tr>\n",
       "    <tr>\n",
       "      <th>56549</th>\n",
       "      <td>Nov-2015</td>\n",
       "      <td>0</td>\n",
       "      <td>9.99</td>\n",
       "      <td>36</td>\n",
       "      <td>712.0</td>\n",
       "      <td>5400.0</td>\n",
       "      <td>0</td>\n",
       "      <td>0</td>\n",
       "      <td>0</td>\n",
       "      <td>0</td>\n",
       "      <td>0</td>\n",
       "      <td>0</td>\n",
       "      <td>1</td>\n",
       "      <td>0</td>\n",
       "      <td>0</td>\n",
       "      <td>0</td>\n",
       "      <td>0</td>\n",
       "      <td>0</td>\n",
       "      <td>0</td>\n",
       "      <td>0</td>\n",
       "      <td>0</td>\n",
       "      <td>0</td>\n",
       "      <td>0</td>\n",
       "      <td>0</td>\n",
       "      <td>0</td>\n",
       "      <td>0</td>\n",
       "      <td>0</td>\n",
       "      <td>0</td>\n",
       "      <td>0</td>\n",
       "      <td>0</td>\n",
       "      <td>0</td>\n",
       "      <td>0</td>\n",
       "      <td>0</td>\n",
       "      <td>0</td>\n",
       "      <td>0</td>\n",
       "      <td>0</td>\n",
       "      <td>0</td>\n",
       "      <td>0</td>\n",
       "      <td>0</td>\n",
       "      <td>0</td>\n",
       "      <td>0</td>\n",
       "      <td>0</td>\n",
       "      <td>0</td>\n",
       "      <td>1</td>\n",
       "      <td>0</td>\n",
       "      <td>0</td>\n",
       "      <td>1</td>\n",
       "      <td>0</td>\n",
       "      <td>0</td>\n",
       "      <td>0</td>\n",
       "      <td>0</td>\n",
       "      <td>0</td>\n",
       "      <td>0</td>\n",
       "      <td>0</td>\n",
       "      <td>0</td>\n",
       "      <td>0</td>\n",
       "      <td>0</td>\n",
       "      <td>0</td>\n",
       "    </tr>\n",
       "    <tr>\n",
       "      <th>714630</th>\n",
       "      <td>Apr-2016</td>\n",
       "      <td>0</td>\n",
       "      <td>11.47</td>\n",
       "      <td>36</td>\n",
       "      <td>697.0</td>\n",
       "      <td>30000.0</td>\n",
       "      <td>0</td>\n",
       "      <td>0</td>\n",
       "      <td>0</td>\n",
       "      <td>0</td>\n",
       "      <td>0</td>\n",
       "      <td>0</td>\n",
       "      <td>0</td>\n",
       "      <td>0</td>\n",
       "      <td>1</td>\n",
       "      <td>0</td>\n",
       "      <td>0</td>\n",
       "      <td>0</td>\n",
       "      <td>0</td>\n",
       "      <td>0</td>\n",
       "      <td>0</td>\n",
       "      <td>0</td>\n",
       "      <td>0</td>\n",
       "      <td>0</td>\n",
       "      <td>0</td>\n",
       "      <td>0</td>\n",
       "      <td>0</td>\n",
       "      <td>0</td>\n",
       "      <td>0</td>\n",
       "      <td>0</td>\n",
       "      <td>0</td>\n",
       "      <td>0</td>\n",
       "      <td>0</td>\n",
       "      <td>0</td>\n",
       "      <td>0</td>\n",
       "      <td>0</td>\n",
       "      <td>0</td>\n",
       "      <td>0</td>\n",
       "      <td>0</td>\n",
       "      <td>0</td>\n",
       "      <td>0</td>\n",
       "      <td>0</td>\n",
       "      <td>0</td>\n",
       "      <td>1</td>\n",
       "      <td>0</td>\n",
       "      <td>1</td>\n",
       "      <td>0</td>\n",
       "      <td>0</td>\n",
       "      <td>0</td>\n",
       "      <td>0</td>\n",
       "      <td>0</td>\n",
       "      <td>0</td>\n",
       "      <td>0</td>\n",
       "      <td>0</td>\n",
       "      <td>0</td>\n",
       "      <td>0</td>\n",
       "      <td>0</td>\n",
       "      <td>0</td>\n",
       "    </tr>\n",
       "    <tr>\n",
       "      <th>177525</th>\n",
       "      <td>Aug-2015</td>\n",
       "      <td>1</td>\n",
       "      <td>13.99</td>\n",
       "      <td>36</td>\n",
       "      <td>677.0</td>\n",
       "      <td>20000.0</td>\n",
       "      <td>0</td>\n",
       "      <td>0</td>\n",
       "      <td>0</td>\n",
       "      <td>0</td>\n",
       "      <td>0</td>\n",
       "      <td>0</td>\n",
       "      <td>0</td>\n",
       "      <td>0</td>\n",
       "      <td>0</td>\n",
       "      <td>0</td>\n",
       "      <td>0</td>\n",
       "      <td>0</td>\n",
       "      <td>1</td>\n",
       "      <td>0</td>\n",
       "      <td>0</td>\n",
       "      <td>0</td>\n",
       "      <td>0</td>\n",
       "      <td>0</td>\n",
       "      <td>0</td>\n",
       "      <td>0</td>\n",
       "      <td>0</td>\n",
       "      <td>0</td>\n",
       "      <td>0</td>\n",
       "      <td>0</td>\n",
       "      <td>0</td>\n",
       "      <td>0</td>\n",
       "      <td>0</td>\n",
       "      <td>0</td>\n",
       "      <td>0</td>\n",
       "      <td>0</td>\n",
       "      <td>0</td>\n",
       "      <td>0</td>\n",
       "      <td>0</td>\n",
       "      <td>0</td>\n",
       "      <td>0</td>\n",
       "      <td>0</td>\n",
       "      <td>0</td>\n",
       "      <td>1</td>\n",
       "      <td>0</td>\n",
       "      <td>1</td>\n",
       "      <td>0</td>\n",
       "      <td>0</td>\n",
       "      <td>0</td>\n",
       "      <td>0</td>\n",
       "      <td>0</td>\n",
       "      <td>0</td>\n",
       "      <td>0</td>\n",
       "      <td>0</td>\n",
       "      <td>0</td>\n",
       "      <td>0</td>\n",
       "      <td>0</td>\n",
       "      <td>0</td>\n",
       "    </tr>\n",
       "  </tbody>\n",
       "</table>\n",
       "</div>"
      ],
      "text/plain": [
       "         issue_d  non_repayment  int_rate  term  fico_score  loan_amnt  \\\n",
       "127335  Oct-2015              0     16.99    36       662.0     4350.0   \n",
       "25438   Dec-2015              0     11.22    36       687.0    10000.0   \n",
       "56549   Nov-2015              0      9.99    36       712.0     5400.0   \n",
       "714630  Apr-2016              0     11.47    36       697.0    30000.0   \n",
       "177525  Aug-2015              1     13.99    36       677.0    20000.0   \n",
       "\n",
       "        sub_grade_A2  sub_grade_A3  sub_grade_A4  sub_grade_A5  sub_grade_B1  \\\n",
       "127335             0             0             0             0             0   \n",
       "25438              0             0             0             0             0   \n",
       "56549              0             0             0             0             0   \n",
       "714630             0             0             0             0             0   \n",
       "177525             0             0             0             0             0   \n",
       "\n",
       "        sub_grade_B2  sub_grade_B3  sub_grade_B4  sub_grade_B5  sub_grade_C1  \\\n",
       "127335             0             0             0             0             0   \n",
       "25438              0             0             0             1             0   \n",
       "56549              0             1             0             0             0   \n",
       "714630             0             0             0             1             0   \n",
       "177525             0             0             0             0             0   \n",
       "\n",
       "        sub_grade_C2  sub_grade_C3  sub_grade_C4  sub_grade_C5  sub_grade_D1  \\\n",
       "127335             0             0             0             0             0   \n",
       "25438              0             0             0             0             0   \n",
       "56549              0             0             0             0             0   \n",
       "714630             0             0             0             0             0   \n",
       "177525             0             0             1             0             0   \n",
       "\n",
       "        sub_grade_D2  sub_grade_D3  sub_grade_D4  sub_grade_D5  sub_grade_E1  \\\n",
       "127335             0             1             0             0             0   \n",
       "25438              0             0             0             0             0   \n",
       "56549              0             0             0             0             0   \n",
       "714630             0             0             0             0             0   \n",
       "177525             0             0             0             0             0   \n",
       "\n",
       "        sub_grade_E2  sub_grade_E3  sub_grade_E4  sub_grade_E5  sub_grade_F1  \\\n",
       "127335             0             0             0             0             0   \n",
       "25438              0             0             0             0             0   \n",
       "56549              0             0             0             0             0   \n",
       "714630             0             0             0             0             0   \n",
       "177525             0             0             0             0             0   \n",
       "\n",
       "        sub_grade_F2  sub_grade_F3  sub_grade_F4  sub_grade_F5  sub_grade_G1  \\\n",
       "127335             0             0             0             0             0   \n",
       "25438              0             0             0             0             0   \n",
       "56549              0             0             0             0             0   \n",
       "714630             0             0             0             0             0   \n",
       "177525             0             0             0             0             0   \n",
       "\n",
       "        sub_grade_G2  sub_grade_G3  sub_grade_G4  sub_grade_G5  \\\n",
       "127335             0             0             0             0   \n",
       "25438              0             0             0             0   \n",
       "56549              0             0             0             0   \n",
       "714630             0             0             0             0   \n",
       "177525             0             0             0             0   \n",
       "\n",
       "        home_ownership_OTHER  home_ownership_OWN  home_ownership_RENT  \\\n",
       "127335                     0                   0                    0   \n",
       "25438                      0                   0                    1   \n",
       "56549                      0                   0                    0   \n",
       "714630                     0                   0                    0   \n",
       "177525                     0                   0                    0   \n",
       "\n",
       "        verification_status_Source Verified  verification_status_Verified  \\\n",
       "127335                                    0                             0   \n",
       "25438                                     0                             1   \n",
       "56549                                     1                             0   \n",
       "714630                                    1                             0   \n",
       "177525                                    1                             0   \n",
       "\n",
       "        purpose_credit_card  purpose_debt_consolidation  purpose_educational  \\\n",
       "127335                    0                           1                    0   \n",
       "25438                     0                           1                    0   \n",
       "56549                     0                           1                    0   \n",
       "714630                    1                           0                    0   \n",
       "177525                    1                           0                    0   \n",
       "\n",
       "        purpose_home_improvement  purpose_house  purpose_major_purchase  \\\n",
       "127335                         0              0                       0   \n",
       "25438                          0              0                       0   \n",
       "56549                          0              0                       0   \n",
       "714630                         0              0                       0   \n",
       "177525                         0              0                       0   \n",
       "\n",
       "        purpose_medical  purpose_moving  purpose_other  \\\n",
       "127335                0               0              0   \n",
       "25438                 0               0              0   \n",
       "56549                 0               0              0   \n",
       "714630                0               0              0   \n",
       "177525                0               0              0   \n",
       "\n",
       "        purpose_renewable_energy  purpose_small_business  purpose_vacation  \\\n",
       "127335                         0                       0                 0   \n",
       "25438                          0                       0                 0   \n",
       "56549                          0                       0                 0   \n",
       "714630                         0                       0                 0   \n",
       "177525                         0                       0                 0   \n",
       "\n",
       "        purpose_wedding  \n",
       "127335                0  \n",
       "25438                 0  \n",
       "56549                 0  \n",
       "714630                0  \n",
       "177525                0  "
      ]
     },
     "execution_count": 58,
     "metadata": {},
     "output_type": "execute_result"
    }
   ],
   "source": [
    "loans.sample(5)"
   ]
  },
  {
   "cell_type": "markdown",
   "metadata": {
    "_uuid": "a8775d773bb8dff6b281363f0b0d72bd3d1e80a3"
   },
   "source": [
    "<a id=\"section-three-three\"></a>\n",
    "### 3.3 Train/Test Split"
   ]
  },
  {
   "cell_type": "markdown",
   "metadata": {
    "_uuid": "a670879e59b424e5084f5c8e0abf1fda43bbfee5"
   },
   "source": [
    "We'll make our modeling problem more realistic by performing the train/test split based on the month that the loan was funded. That is, we'll use loans funded on earlier dates to predict whether future loans will charge-off. The variable `issue_d` includes the month and year that the loan was funded."
   ]
  },
  {
   "cell_type": "code",
   "execution_count": 59,
   "metadata": {
    "_uuid": "e5a5a05b996d53af6a022eba3737119ae6170314"
   },
   "outputs": [
    {
     "data": {
      "text/plain": [
       "657573    Jun-2016\n",
       "8819      Dec-2015\n",
       "238901    Jul-2015\n",
       "174665    Aug-2015\n",
       "213916    Jul-2015\n",
       "Name: issue_d, dtype: object"
      ]
     },
     "execution_count": 59,
     "metadata": {},
     "output_type": "execute_result"
    }
   ],
   "source": [
    "loans['issue_d'].sample(5)"
   ]
  },
  {
   "cell_type": "markdown",
   "metadata": {
    "_uuid": "fced747f294c652b0f92a41cc1f86be69a52b7c2"
   },
   "source": [
    "Are there any missing values?"
   ]
  },
  {
   "cell_type": "code",
   "execution_count": 60,
   "metadata": {
    "_uuid": "b8c2e35a082bcdc9953e72716ba03a83b687606e"
   },
   "outputs": [
    {
     "data": {
      "text/plain": [
       "False"
      ]
     },
     "execution_count": 60,
     "metadata": {},
     "output_type": "execute_result"
    }
   ],
   "source": [
    "loans['issue_d'].isnull().any()"
   ]
  },
  {
   "cell_type": "markdown",
   "metadata": {
    "_uuid": "6324de61a85b5548e58d6d4dc1965c697d0e5443"
   },
   "source": [
    "No. Let's convert the issue dates to datetime objects:"
   ]
  },
  {
   "cell_type": "code",
   "execution_count": 61,
   "metadata": {
    "_uuid": "d857b70462ac2c5b479036cb8ddab3355a36f42c"
   },
   "outputs": [],
   "source": [
    "loans['issue_d'] = pd.to_datetime(loans['issue_d'])"
   ]
  },
  {
   "cell_type": "code",
   "execution_count": 62,
   "metadata": {
    "_uuid": "d0208aa8b15c941bc3392cf8fc561f75dadec430"
   },
   "outputs": [
    {
     "data": {
      "text/plain": [
       "119704   2015-10-01\n",
       "203069   2015-07-01\n",
       "509247   2018-01-01\n",
       "714098   2016-04-01\n",
       "951145   2017-05-01\n",
       "Name: issue_d, dtype: datetime64[ns]"
      ]
     },
     "execution_count": 62,
     "metadata": {},
     "output_type": "execute_result"
    }
   ],
   "source": [
    "loans['issue_d'].sample(5)"
   ]
  },
  {
   "cell_type": "markdown",
   "metadata": {
    "_uuid": "730cf056bcff6fc9e04188177c876895afe57f95"
   },
   "source": [
    "The new datetime values are all on the first day of the month. Check the summary statistics of the issue dates:"
   ]
  },
  {
   "cell_type": "code",
   "execution_count": 63,
   "metadata": {
    "_uuid": "b30fee581d32921e02468c825de52207dea31ccf"
   },
   "outputs": [
    {
     "name": "stderr",
     "output_type": "stream",
     "text": [
      "/opt/conda/lib/python3.7/site-packages/ipykernel_launcher.py:1: FutureWarning: Treating datetime data as categorical rather than numeric in `.describe` is deprecated and will be removed in a future version of pandas. Specify `datetime_is_numeric=True` to silence this warning and adopt the future behavior now.\n",
      "  \"\"\"Entry point for launching an IPython kernel.\n"
     ]
    },
    {
     "data": {
      "text/plain": [
       "count                  581969\n",
       "unique                     28\n",
       "top       2015-10-01 00:00:00\n",
       "freq                    43158\n",
       "first     2015-01-01 00:00:00\n",
       "last      2018-09-01 00:00:00\n",
       "Name: issue_d, dtype: object"
      ]
     },
     "execution_count": 63,
     "metadata": {},
     "output_type": "execute_result"
    }
   ],
   "source": [
    "loans['issue_d'].describe()"
   ]
  },
  {
   "cell_type": "markdown",
   "metadata": {
    "_uuid": "fa14dfa809d80d3285853b323abd5cc8d99378c1"
   },
   "source": [
    "There are only 28 unique issue dates for the first 1 million loans. Note that we only have month/year information. In this subset, the first loans were issued in January 2015, and the most recent loans were issued in September 2018. The busiest month was October 2015. What is the distribution of loans funded in each year?"
   ]
  },
  {
   "cell_type": "code",
   "execution_count": 64,
   "metadata": {
    "_uuid": "8b7de46263cc73e90ca50ffac8925d736583d552"
   },
   "outputs": [
    {
     "data": {
      "text/plain": [
       "Text(0.5, 1.0, 'Loans Funded per Year')"
      ]
     },
     "execution_count": 64,
     "metadata": {},
     "output_type": "execute_result"
    },
    {
     "data": {
      "image/png": "[encoded data removed]",
      "text/plain": [
       "<Figure size 540x270 with 1 Axes>"
      ]
     },
     "metadata": {},
     "output_type": "display_data"
    }
   ],
   "source": [
    "plt.figure(figsize=(6,3), dpi=90)\n",
    "loans['issue_d'].dt.year.value_counts().sort_index().plot.bar(color='darkblue')\n",
    "plt.xlabel('Year')\n",
    "plt.ylabel('Number of Loans Funded')\n",
    "plt.title('Loans Funded per Year')"
   ]
  },
  {
   "cell_type": "markdown",
   "metadata": {
    "_uuid": "798681ddba7953dab54a96c8f2b49f0aa53d51d6"
   },
   "source": [
    "We'll form the test set from the most recent 10% of the loans."
   ]
  },
  {
   "cell_type": "code",
   "execution_count": 65,
   "metadata": {
    "_uuid": "b99bcf4eaac34aecd49afba8cafe594b3c66ca81"
   },
   "outputs": [],
   "source": [
    "loans_train = loans.loc[loans['issue_d'] <  loans['issue_d'].quantile(0.9)]\n",
    "loans_test =  loans.loc[loans['issue_d'] >= loans['issue_d'].quantile(0.9)]"
   ]
  },
  {
   "cell_type": "markdown",
   "metadata": {
    "_uuid": "edbc412455923ae842634b243d3af3c650aa208f"
   },
   "source": [
    "Check that we properly partitioned the loans:"
   ]
  },
  {
   "cell_type": "code",
   "execution_count": 66,
   "metadata": {
    "_uuid": "f0f010bc09b71f4ffbc264b4e01f2942f83ae455"
   },
   "outputs": [
    {
     "name": "stdout",
     "output_type": "stream",
     "text": [
      "Number of loans in the partition:    581969\n",
      "Number of loans in the full dataset: 581969\n"
     ]
    }
   ],
   "source": [
    "print('Number of loans in the partition:   ', loans_train.shape[0] + loans_test.shape[0])\n",
    "print('Number of loans in the full dataset:', loans.shape[0])"
   ]
  },
  {
   "cell_type": "markdown",
   "metadata": {
    "_uuid": "69f2f0ad9630ee006fcb32c59e181da1a2797b91"
   },
   "source": [
    "What is the test size?"
   ]
  },
  {
   "cell_type": "code",
   "execution_count": 67,
   "metadata": {
    "_uuid": "fba24aa8cad4aa550b20d58560374c82a86d1e02"
   },
   "outputs": [
    {
     "data": {
      "text/plain": [
       "0.11561784218747047"
      ]
     },
     "execution_count": 67,
     "metadata": {},
     "output_type": "execute_result"
    }
   ],
   "source": [
    "loans_test.shape[0] / loans.shape[0]"
   ]
  },
  {
   "cell_type": "markdown",
   "metadata": {
    "_uuid": "b07a31625dcee71d0d5d81b6ede12683bba593e0"
   },
   "source": [
    "About 11.6%. The partition looks good, so we can delete the original `loans` dataframe:"
   ]
  },
  {
   "cell_type": "markdown",
   "metadata": {
    "_uuid": "9d7019ce998b3c8d777ee1145b08e656acf27264"
   },
   "source": [
    "Let's look at the summary statistics of the issue dates in the train and test sets:"
   ]
  },
  {
   "cell_type": "code",
   "execution_count": 68,
   "metadata": {
    "_uuid": "9bfaa543a84cf32947d826c3130ff16b8da5f002"
   },
   "outputs": [
    {
     "name": "stderr",
     "output_type": "stream",
     "text": [
      "/opt/conda/lib/python3.7/site-packages/ipykernel_launcher.py:1: FutureWarning: Treating datetime data as categorical rather than numeric in `.describe` is deprecated and will be removed in a future version of pandas. Specify `datetime_is_numeric=True` to silence this warning and adopt the future behavior now.\n",
      "  \"\"\"Entry point for launching an IPython kernel.\n"
     ]
    },
    {
     "data": {
      "text/plain": [
       "count                  514683\n",
       "unique                     20\n",
       "top       2015-10-01 00:00:00\n",
       "freq                    43158\n",
       "first     2015-01-01 00:00:00\n",
       "last      2017-07-01 00:00:00\n",
       "Name: issue_d, dtype: object"
      ]
     },
     "execution_count": 68,
     "metadata": {},
     "output_type": "execute_result"
    }
   ],
   "source": [
    "loans_train['issue_d'].describe()"
   ]
  },
  {
   "cell_type": "code",
   "execution_count": 69,
   "metadata": {
    "_uuid": "978e5f89544d0d01ce33ff7397da6b2953008506"
   },
   "outputs": [
    {
     "name": "stderr",
     "output_type": "stream",
     "text": [
      "/opt/conda/lib/python3.7/site-packages/ipykernel_launcher.py:1: FutureWarning: Treating datetime data as categorical rather than numeric in `.describe` is deprecated and will be removed in a future version of pandas. Specify `datetime_is_numeric=True` to silence this warning and adopt the future behavior now.\n",
      "  \"\"\"Entry point for launching an IPython kernel.\n"
     ]
    },
    {
     "data": {
      "text/plain": [
       "count                   67286\n",
       "unique                      8\n",
       "top       2017-08-01 00:00:00\n",
       "freq                    16307\n",
       "first     2017-08-01 00:00:00\n",
       "last      2018-09-01 00:00:00\n",
       "Name: issue_d, dtype: object"
      ]
     },
     "execution_count": 69,
     "metadata": {},
     "output_type": "execute_result"
    }
   ],
   "source": [
    "loans_test['issue_d'].describe()"
   ]
  },
  {
   "cell_type": "markdown",
   "metadata": {
    "_uuid": "cbf9b4e884c2d41db83db56584041a56b5256a15"
   },
   "source": [
    "The training set includes loans from January 2015 to July 2017. The test set includes loans from August 2017 to September 2018.\n",
    "\n",
    "Now we need to delete the `issue_d` variable, because it was not available before the loan was funded."
   ]
  },
  {
   "cell_type": "code",
   "execution_count": 70,
   "metadata": {
    "_uuid": "56fda0540fd768bd4e7765cdbe1cd1fca7e98037"
   },
   "outputs": [
    {
     "name": "stderr",
     "output_type": "stream",
     "text": [
      "/opt/conda/lib/python3.7/site-packages/pandas/core/frame.py:4167: SettingWithCopyWarning: \n",
      "A value is trying to be set on a copy of a slice from a DataFrame\n",
      "\n",
      "See the caveats in the documentation: https://pandas.pydata.org/pandas-docs/stable/user_guide/indexing.html#returning-a-view-versus-a-copy\n",
      "  errors=errors,\n"
     ]
    }
   ],
   "source": [
    "loans_train.drop('issue_d', axis=1, inplace=True)\n",
    "loans_test.drop('issue_d', axis=1, inplace=True)"
   ]
  },
  {
   "cell_type": "markdown",
   "metadata": {},
   "source": [
    "<a id=\"section-four\"></a>\n",
    "# 4. QUESTIONS"
   ]
  },
  {
   "cell_type": "markdown",
   "metadata": {},
   "source": [
    "Separate training and testing dataset"
   ]
  },
  {
   "cell_type": "code",
   "execution_count": 71,
   "metadata": {
    "_uuid": "b1d19f613709760a02ee35923eb055f1c29e99fc"
   },
   "outputs": [],
   "source": [
    "y_train = loans_train['non_repayment']\n",
    "y_test = loans_test['non_repayment']"
   ]
  },
  {
   "cell_type": "code",
   "execution_count": 72,
   "metadata": {
    "_uuid": "01c8b63ffe8e66be1ebeb52c3f81d62454e735cc"
   },
   "outputs": [],
   "source": [
    "X_train = loans_train.drop('non_repayment', axis=1)\n",
    "X_test = loans_test.drop('non_repayment', axis=1)"
   ]
  },
  {
   "cell_type": "code",
   "execution_count": 73,
   "metadata": {
    "_uuid": "e930781ec1e52861556c86545b020f76f0b2da73"
   },
   "outputs": [],
   "source": [
    "del loans_train, loans_test"
   ]
  },
  {
   "cell_type": "markdown",
   "metadata": {
    "_cell_guid": "52309b77-d97d-412a-b20f-da81f44a486f",
    "_uuid": "bbabe5a3810756b27f10e862f3d7ea34a21a20f8"
   },
   "source": [
    "### Model Training and Testing"
   ]
  },
  {
   "cell_type": "markdown",
   "metadata": {
    "_uuid": "19f4b16ed13d2187aebc5a76e34eb6cf2c7cfaed"
   },
   "source": [
    "We implement machine learning pipelines consisting of one or more of the following steps, depending on the particular model:\n",
    "1. Mean imputation of missing values\n",
    "2. Dimension reduction using linear discriminant analysis (LDA)\n",
    "3. Data standardization: rescaling to zero mean and unit variance\n",
    "4. The chosen model\n",
    "\n",
    "We will evaluate and compare the following models using a cross-validated AUROC score on the training set:\n",
    "1. Logistic regression with SGD training\n",
    "2. Random forest\n",
    "3. k-nearest neighbors"
   ]
  },
  {
   "cell_type": "code",
   "execution_count": 74,
   "metadata": {
    "_uuid": "de6dc56fd1630e41765845812635a38ec1aa9aee"
   },
   "outputs": [],
   "source": [
    "from sklearn.pipeline import Pipeline\n",
    "from sklearn.preprocessing import StandardScaler\n",
    "from sklearn.impute import SimpleImputer\n",
    "from sklearn.discriminant_analysis import LinearDiscriminantAnalysis\n",
    "from sklearn.model_selection import GridSearchCV\n",
    "from sklearn.metrics import confusion_matrix"
   ]
  },
  {
   "cell_type": "markdown",
   "metadata": {
    "_uuid": "2e951c2ffc831a7abe5035c95d3011a10cf6c55f"
   },
   "source": [
    "<a id=\"section-three\"></a>\n",
    "## 4.1 Logistic regression with SGD training"
   ]
  },
  {
   "cell_type": "markdown",
   "metadata": {
    "_cell_guid": "fc774c42-47e6-427a-ac9c-a4bdbf7b5837",
    "_uuid": "39ac0b9f118cbb5b11d6749f2ec3f8aa3f97ac6d"
   },
   "source": [
    "The `SGDClassifier` estimator in scikit-learn implements linear classifiers (SVM, logistic regression, and others) with stochastic gradient descent (SGD) training. A particular linear classifier is chosen through the `loss` hyperparameter. Because we want to predict the probability of charge-off, we choose logistic regression (a probabilistic classifier) by setting `loss = 'log'`."
   ]
  },
  {
   "cell_type": "code",
   "execution_count": 75,
   "metadata": {
    "_uuid": "732a8160690b85edf5c05fcc1877e943388320d2"
   },
   "outputs": [],
   "source": [
    "from sklearn.linear_model import SGDClassifier"
   ]
  },
  {
   "cell_type": "markdown",
   "metadata": {},
   "source": [
    "More on Stochastic Gradient Descent (SGD) [HERE](https://campus.datacamp.com/courses/linear-classifiers-in-python/support-vector-machines?ex=10)."
   ]
  },
  {
   "cell_type": "markdown",
   "metadata": {
    "_uuid": "3bda07c1025d052dc57e47e3b8c60c2bfa1d9e83"
   },
   "source": [
    "The machine learning pipeline [More HERE](https://medium.com/vickdata/a-simple-guide-to-scikit-learn-pipelines-4ac0d974bdcf):"
   ]
  },
  {
   "cell_type": "code",
   "execution_count": 76,
   "metadata": {
    "_uuid": "67db7c7b385300c52c55e48863a743432a54cc69"
   },
   "outputs": [],
   "source": [
    "pipeline_sgdlogreg = Pipeline([\n",
    "    \n",
    "    # Imputation in-place\n",
    "    # Mean imputation by default\n",
    "    ('imputer', SimpleImputer(copy=False)), \n",
    "    \n",
    "    # Standardize features by removing the mean and scaling to unit variance\n",
    "    # The standard score of a sample x is calculated as:\n",
    "    # z = (x - u) / s\n",
    "    ('scaler', StandardScaler(copy=False)),  \n",
    "    \n",
    "    ('model', SGDClassifier(loss='log', max_iter=1000, tol=1e-3, random_state=1, warm_start=True))\n",
    "])"
   ]
  },
  {
   "cell_type": "markdown",
   "metadata": {
    "_uuid": "3934bf0ae9ea5808ecf12254484b83c6bbe4db30"
   },
   "source": [
    "\"Standardization of a dataset is a common requirement for many machine learning estimators: they might behave badly if the individual features do not more or less look like standard normally distributed data (e.g. Gaussian with 0 mean and unit variance). For instance many elements used in the objective function of a learning algorithm (such as the RBF kernel of Support Vector Machines or the L1 and L2 regularizers of linear models) assume that all features are centered around 0 and have variance in the same order. If a feature has a variance that is orders of magnitude larger that others, it might dominate the objective function and make the estimator unable to learn from other features correctly as expected.\" [Scikit Learn documentation](https://scikit-learn.org/stable/modules/generated/sklearn.preprocessing.StandardScaler.html). "
   ]
  },
  {
   "cell_type": "markdown",
   "metadata": {},
   "source": [
    "“Regularization is any modification we make to a learning algorithm that is intended to reduce its generalization error but not its training error.” ~ Ian Goodfellow"
   ]
  },
  {
   "cell_type": "markdown",
   "metadata": {},
   "source": [
    "A small grid of hyperparameters to search over:"
   ]
  },
  {
   "cell_type": "code",
   "execution_count": 77,
   "metadata": {
    "_uuid": "7459d6cdd73f68f18975be07e9e8ba38353d514a"
   },
   "outputs": [],
   "source": [
    "param_grid_sgdlogreg = {\n",
    "    # Regularization parameter: Higher regularization value -> smoother classifier -> less risk of overfitting but lower accuracy on training data\n",
    "    'model__alpha': [10**-5, 10**-2, 10**1],\n",
    "    # Regularization method\n",
    "    'model__penalty': ['l1', 'l2']\n",
    "}"
   ]
  },
  {
   "cell_type": "markdown",
   "metadata": {
    "_uuid": "f7f8e7ec0d9f40aabbac611e192db879f8c22d97"
   },
   "source": [
    "Create the search grid object:"
   ]
  },
  {
   "cell_type": "code",
   "execution_count": 78,
   "metadata": {
    "_cell_guid": "c016e122-86dd-4c96-88c2-a901fe48cf70",
    "_uuid": "8144ec0a936a93a1fbf5e2dd00cd0082dbc40782"
   },
   "outputs": [],
   "source": [
    "\n",
    "grid_sgdlogreg = GridSearchCV(estimator=pipeline_sgdlogreg, param_grid=param_grid_sgdlogreg, scoring='roc_auc', n_jobs=1, pre_dispatch=1, cv=5, verbose=1, return_train_score=False)"
   ]
  },
  {
   "cell_type": "markdown",
   "metadata": {
    "_uuid": "38ac4e8e24104c06d2abc4d52b46f606f254a15a"
   },
   "source": [
    "Conduct the grid search and train the final model on the whole dataset:"
   ]
  },
  {
   "cell_type": "code",
   "execution_count": 79,
   "metadata": {
    "_cell_guid": "b907b40c-402d-4d4a-a919-e4b63e0a832d",
    "_uuid": "76e6c2e828e670a1494d4d4fbec01f232f067512"
   },
   "outputs": [
    {
     "name": "stdout",
     "output_type": "stream",
     "text": [
      "Fitting 5 folds for each of 6 candidates, totalling 30 fits\n"
     ]
    },
    {
     "name": "stderr",
     "output_type": "stream",
     "text": [
      "[Parallel(n_jobs=1)]: Using backend SequentialBackend with 1 concurrent workers.\n",
      "[Parallel(n_jobs=1)]: Done  30 out of  30 | elapsed:  3.5min finished\n"
     ]
    },
    {
     "data": {
      "text/plain": [
       "GridSearchCV(cv=5,\n",
       "             estimator=Pipeline(steps=[('imputer', SimpleImputer(copy=False)),\n",
       "                                       ('scaler', StandardScaler(copy=False)),\n",
       "                                       ('model',\n",
       "                                        SGDClassifier(loss='log',\n",
       "                                                      random_state=1,\n",
       "                                                      warm_start=True))]),\n",
       "             n_jobs=1,\n",
       "             param_grid={'model__alpha': [1e-05, 0.01, 10],\n",
       "                         'model__penalty': ['l1', 'l2']},\n",
       "             pre_dispatch=1, scoring='roc_auc', verbose=1)"
      ]
     },
     "execution_count": 79,
     "metadata": {},
     "output_type": "execute_result"
    }
   ],
   "source": [
    "grid_sgdlogreg.fit(X_train, y_train)"
   ]
  },
  {
   "cell_type": "markdown",
   "metadata": {
    "_uuid": "c877b3a2823c5b3a73c4f55e64a92328a1a9cb19"
   },
   "source": [
    "Mean cross-validated AUROC score of the best model:"
   ]
  },
  {
   "cell_type": "code",
   "execution_count": 80,
   "metadata": {
    "_uuid": "08435a05c474849b5e3a9faf574166383fcf3e1f"
   },
   "outputs": [
    {
     "data": {
      "text/plain": [
       "0.7165869749481637"
      ]
     },
     "execution_count": 80,
     "metadata": {},
     "output_type": "execute_result"
    }
   ],
   "source": [
    "grid_sgdlogreg.best_score_"
   ]
  },
  {
   "cell_type": "markdown",
   "metadata": {
    "_cell_guid": "67901f97-33dc-4ff0-8968-127eda9da452",
    "_uuid": "a6829cf727f13a804180637da8cfc8477754b8c6"
   },
   "source": [
    "Best hyperparameters:"
   ]
  },
  {
   "cell_type": "code",
   "execution_count": 81,
   "metadata": {
    "_cell_guid": "14983fb4-d45a-431d-9c03-20d737862cc7",
    "_uuid": "fffc4de31000514e733ccd7c8f0aac9306226644"
   },
   "outputs": [
    {
     "data": {
      "text/plain": [
       "{'model__alpha': 0.01, 'model__penalty': 'l2'}"
      ]
     },
     "execution_count": 81,
     "metadata": {},
     "output_type": "execute_result"
    }
   ],
   "source": [
    "grid_sgdlogreg.best_params_"
   ]
  },
  {
   "cell_type": "code",
   "execution_count": 82,
   "metadata": {},
   "outputs": [
    {
     "name": "stdout",
     "output_type": "stream",
     "text": [
      "[[391808   9045]\n",
      " [102656  11174]]\n"
     ]
    },
    {
     "data": {
      "text/plain": [
       "<matplotlib.axes._subplots.AxesSubplot at 0x7f98fbb95cd0>"
      ]
     },
     "execution_count": 82,
     "metadata": {},
     "output_type": "execute_result"
    },
    {
     "data": {
      "image/png": "[encoded data removed]",
      "text/plain": [
       "<Figure size 432x288 with 2 Axes>"
      ]
     },
     "metadata": {},
     "output_type": "display_data"
    }
   ],
   "source": [
    "# Generate predictions with the model using our X values\n",
    "y_pred = grid_sgdlogreg.predict(X_train)\n",
    "\n",
    "# Get the confusion matrix\n",
    "cf_matrix = confusion_matrix(y_train, y_pred)\n",
    "print(cf_matrix)\n",
    "\n",
    "labels = [\"True Neg\",\"False Pos\",\"False Neg\",\"True Pos\"]\n",
    "labels = np.asarray(labels).reshape(2,2)\n",
    "sns.heatmap(cf_matrix/np.sum(cf_matrix), annot=labels, fmt=\"\", cmap=\"Blues\")"
   ]
  },
  {
   "cell_type": "markdown",
   "metadata": {
    "_uuid": "cc88ccfb97a0f7678a5e629ccb7ad3cdf59c2ca2"
   },
   "source": [
    "<a id=\"section-four-two\"></a>\n",
    "## 4.2 Random forest classifier"
   ]
  },
  {
   "cell_type": "markdown",
   "metadata": {
    "_cell_guid": "fc774c42-47e6-427a-ac9c-a4bdbf7b5837",
    "_uuid": "39ac0b9f118cbb5b11d6749f2ec3f8aa3f97ac6d"
   },
   "source": [
    "Next we train a random forest model. Note that data standardization is not necessary for a random forest."
   ]
  },
  {
   "cell_type": "code",
   "execution_count": 83,
   "metadata": {
    "_uuid": "e3ac2ed291bcd75f60f5f42172b0cc2af7283d5c"
   },
   "outputs": [],
   "source": [
    "from sklearn.ensemble import RandomForestClassifier"
   ]
  },
  {
   "cell_type": "markdown",
   "metadata": {},
   "source": [
    "More on Random Forest [HERE](https://www.datacamp.com/community/tutorials/random-forests-classifier-python)."
   ]
  },
  {
   "cell_type": "code",
   "execution_count": 84,
   "metadata": {
    "_uuid": "44cef4bc961a193829febfc689817575eb023691"
   },
   "outputs": [],
   "source": [
    "pipeline_rfc = Pipeline([\n",
    "    ('imputer', SimpleImputer(copy=False)), # Mean imputation by default\n",
    "    ('model', RandomForestClassifier(n_jobs=-1, random_state=1))\n",
    "])"
   ]
  },
  {
   "cell_type": "markdown",
   "metadata": {
    "_uuid": "5a421f2838ac69f19d963768245c172b6a856a69"
   },
   "source": [
    "The random forest takes very long to train, so we don't test different hyperparameter choices. We'll still use `GridSearchCV` for the sake of consistency."
   ]
  },
  {
   "cell_type": "code",
   "execution_count": 85,
   "metadata": {
    "_uuid": "40e26dde7b06814585e336cc93636279b7b063e8"
   },
   "outputs": [],
   "source": [
    "param_grid_rfc = {\n",
    "    'model__n_estimators': [50] # The number of randomized trees to build\n",
    "}"
   ]
  },
  {
   "cell_type": "markdown",
   "metadata": {
    "_uuid": "b3ddc28e898d8e4127cc8ac532bfdc5efdd564b5"
   },
   "source": [
    "The AUROC improves as the number of estimators increases but with decreasing gain. The cost is the extra training time and model complexity."
   ]
  },
  {
   "cell_type": "code",
   "execution_count": 86,
   "metadata": {
    "_cell_guid": "c016e122-86dd-4c96-88c2-a901fe48cf70",
    "_uuid": "8144ec0a936a93a1fbf5e2dd00cd0082dbc40782"
   },
   "outputs": [],
   "source": [
    "grid_rfc = GridSearchCV(estimator=pipeline_rfc, param_grid=param_grid_rfc, scoring='roc_auc', n_jobs=1, pre_dispatch=1, cv=5, verbose=1, return_train_score=False)"
   ]
  },
  {
   "cell_type": "markdown",
   "metadata": {},
   "source": [
    "More on GridSearchCV [HERE](https://towardsdatascience.com/grid-search-for-hyperparameter-tuning-9f63945e8fec)."
   ]
  },
  {
   "cell_type": "code",
   "execution_count": 87,
   "metadata": {
    "_cell_guid": "b907b40c-402d-4d4a-a919-e4b63e0a832d",
    "_uuid": "76e6c2e828e670a1494d4d4fbec01f232f067512"
   },
   "outputs": [
    {
     "name": "stdout",
     "output_type": "stream",
     "text": [
      "Fitting 5 folds for each of 1 candidates, totalling 5 fits\n"
     ]
    },
    {
     "name": "stderr",
     "output_type": "stream",
     "text": [
      "[Parallel(n_jobs=1)]: Using backend SequentialBackend with 1 concurrent workers.\n",
      "[Parallel(n_jobs=1)]: Done   5 out of   5 | elapsed:  2.2min finished\n"
     ]
    },
    {
     "data": {
      "text/plain": [
       "GridSearchCV(cv=5,\n",
       "             estimator=Pipeline(steps=[('imputer', SimpleImputer(copy=False)),\n",
       "                                       ('model',\n",
       "                                        RandomForestClassifier(n_jobs=-1,\n",
       "                                                               random_state=1))]),\n",
       "             n_jobs=1, param_grid={'model__n_estimators': [50]}, pre_dispatch=1,\n",
       "             scoring='roc_auc', verbose=1)"
      ]
     },
     "execution_count": 87,
     "metadata": {},
     "output_type": "execute_result"
    }
   ],
   "source": [
    "grid_rfc.fit(X_train, y_train)"
   ]
  },
  {
   "cell_type": "markdown",
   "metadata": {
    "_uuid": "85e7efcd2cec88501d0e47e12a6a5982ecaaf405"
   },
   "source": [
    "Mean cross-validated AUROC score of the random forest:"
   ]
  },
  {
   "cell_type": "code",
   "execution_count": 88,
   "metadata": {
    "_uuid": "54a61497986d5cafaad3a1d93933f49ec0fa328e"
   },
   "outputs": [
    {
     "data": {
      "text/plain": [
       "0.6266395776864393"
      ]
     },
     "execution_count": 88,
     "metadata": {},
     "output_type": "execute_result"
    }
   ],
   "source": [
    "grid_rfc.best_score_"
   ]
  },
  {
   "cell_type": "markdown",
   "metadata": {
    "_uuid": "acc3197dc05fa0bd5164850aa86fdd783f53088a"
   },
   "source": [
    "Not quite as good as logistic regression, at least according to this metric."
   ]
  },
  {
   "cell_type": "code",
   "execution_count": 89,
   "metadata": {},
   "outputs": [
    {
     "name": "stdout",
     "output_type": "stream",
     "text": [
      "[[395226   5627]\n",
      " [ 20236  93594]]\n"
     ]
    },
    {
     "data": {
      "text/plain": [
       "<matplotlib.axes._subplots.AxesSubplot at 0x7f98fa1256d0>"
      ]
     },
     "execution_count": 89,
     "metadata": {},
     "output_type": "execute_result"
    },
    {
     "data": {
      "image/png": "[encoded data removed]",
      "text/plain": [
       "<Figure size 432x288 with 2 Axes>"
      ]
     },
     "metadata": {},
     "output_type": "display_data"
    }
   ],
   "source": [
    "# Generate predictions with the model using our X values\n",
    "y_pred = grid_rfc.predict(X_train)\n",
    "\n",
    "# Get the confusion matrix\n",
    "cf_matrix = confusion_matrix(y_train, y_pred)\n",
    "print(cf_matrix)\n",
    "\n",
    "labels = [\"True Neg\",\"False Pos\",\"False Neg\",\"True Pos\"]\n",
    "labels = np.asarray(labels).reshape(2,2)\n",
    "sns.heatmap(cf_matrix/np.sum(cf_matrix), annot=labels, fmt=\"\", cmap=\"Blues\")"
   ]
  },
  {
   "cell_type": "markdown",
   "metadata": {
    "_uuid": "fd08230abd9280d520181a667054428a6bce6b56"
   },
   "source": [
    "<a id=\"section-four-three\"></a>\n",
    "## 4.3 k-nearest neighbors"
   ]
  },
  {
   "cell_type": "markdown",
   "metadata": {
    "_cell_guid": "fc774c42-47e6-427a-ac9c-a4bdbf7b5837",
    "_uuid": "39ac0b9f118cbb5b11d6749f2ec3f8aa3f97ac6d"
   },
   "source": [
    "Next we try k-nearest neighbors. We need to reduce the number of variables to 10 or fewer ([reference](https://en.wikipedia.org/wiki/K-nearest_neighbors_algorithm#Dimension_reduction)) for kNN to perform well. We'll use LDA for dimension reduction. The number of component variables to keep is a hyperparameter."
   ]
  },
  {
   "cell_type": "code",
   "execution_count": 90,
   "metadata": {
    "_uuid": "04a2c7dee800b909c4dca3330604f3d7fe8fc415"
   },
   "outputs": [],
   "source": [
    "from sklearn.neighbors import KNeighborsClassifier"
   ]
  },
  {
   "cell_type": "code",
   "execution_count": 91,
   "metadata": {
    "_uuid": "420c474a1001c4e89953dc88427f15c045ed0a51"
   },
   "outputs": [],
   "source": [
    "pipeline_knn = Pipeline([\n",
    "    ('imputer', SimpleImputer(copy=False)),\n",
    "    ('scaler', StandardScaler(copy=False)),\n",
    "    ('lda', LinearDiscriminantAnalysis()),\n",
    "    ('model', KNeighborsClassifier(n_jobs=-1))\n",
    "])"
   ]
  },
  {
   "cell_type": "markdown",
   "metadata": {},
   "source": [
    "More on KNN [HERE](https://www.datacamp.com/community/tutorials/k-nearest-neighbor-classification-scikit-learn)."
   ]
  },
  {
   "cell_type": "code",
   "execution_count": 92,
   "metadata": {
    "_uuid": "a6bf52de06a0bb4abf2faa282ed8d37ce9b6a698"
   },
   "outputs": [],
   "source": [
    "param_grid_knn = {\n",
    "    'lda__n_components': [1], # Number of LDA components to keep\n",
    "    'model__n_neighbors': [5, 25, 125] # The 'k' in k-nearest neighbors\n",
    "}"
   ]
  },
  {
   "cell_type": "code",
   "execution_count": 93,
   "metadata": {
    "_cell_guid": "c016e122-86dd-4c96-88c2-a901fe48cf70",
    "_uuid": "8144ec0a936a93a1fbf5e2dd00cd0082dbc40782"
   },
   "outputs": [],
   "source": [
    "grid_knn = GridSearchCV(estimator=pipeline_knn, param_grid=param_grid_knn, scoring='roc_auc', n_jobs=1, pre_dispatch=1, cv=5, verbose=1, return_train_score=False)"
   ]
  },
  {
   "cell_type": "markdown",
   "metadata": {},
   "source": [
    "More on GridSearchCV [HERE](https://towardsdatascience.com/grid-search-for-hyperparameter-tuning-9f63945e8fec)."
   ]
  },
  {
   "cell_type": "code",
   "execution_count": 94,
   "metadata": {
    "_cell_guid": "b907b40c-402d-4d4a-a919-e4b63e0a832d",
    "_uuid": "76e6c2e828e670a1494d4d4fbec01f232f067512"
   },
   "outputs": [
    {
     "name": "stdout",
     "output_type": "stream",
     "text": [
      "Fitting 5 folds for each of 3 candidates, totalling 15 fits\n"
     ]
    },
    {
     "name": "stderr",
     "output_type": "stream",
     "text": [
      "[Parallel(n_jobs=1)]: Using backend SequentialBackend with 1 concurrent workers.\n",
      "[Parallel(n_jobs=1)]: Done  15 out of  15 | elapsed:  1.8min finished\n"
     ]
    },
    {
     "data": {
      "text/plain": [
       "GridSearchCV(cv=5,\n",
       "             estimator=Pipeline(steps=[('imputer', SimpleImputer(copy=False)),\n",
       "                                       ('scaler', StandardScaler(copy=False)),\n",
       "                                       ('lda', LinearDiscriminantAnalysis()),\n",
       "                                       ('model',\n",
       "                                        KNeighborsClassifier(n_jobs=-1))]),\n",
       "             n_jobs=1,\n",
       "             param_grid={'lda__n_components': [1],\n",
       "                         'model__n_neighbors': [5, 25, 125]},\n",
       "             pre_dispatch=1, scoring='roc_auc', verbose=1)"
      ]
     },
     "execution_count": 94,
     "metadata": {},
     "output_type": "execute_result"
    }
   ],
   "source": [
    "grid_knn.fit(X_train, y_train)"
   ]
  },
  {
   "cell_type": "markdown",
   "metadata": {
    "_uuid": "4b600aa605a1df0aa9aed7813a0a58ebfc0c1acd"
   },
   "source": [
    "Mean cross-validated AUROC score of the best model:"
   ]
  },
  {
   "cell_type": "code",
   "execution_count": 95,
   "metadata": {
    "_uuid": "fb69ab73a93c093a87d2f320e7fc658925effda9"
   },
   "outputs": [
    {
     "data": {
      "text/plain": [
       "0.7078990471876713"
      ]
     },
     "execution_count": 95,
     "metadata": {},
     "output_type": "execute_result"
    }
   ],
   "source": [
    "grid_knn.best_score_"
   ]
  },
  {
   "cell_type": "markdown",
   "metadata": {
    "_cell_guid": "67901f97-33dc-4ff0-8968-127eda9da452",
    "_uuid": "a6829cf727f13a804180637da8cfc8477754b8c6"
   },
   "source": [
    "Best hyperparameters:"
   ]
  },
  {
   "cell_type": "code",
   "execution_count": 96,
   "metadata": {
    "_cell_guid": "14983fb4-d45a-431d-9c03-20d737862cc7",
    "_uuid": "fffc4de31000514e733ccd7c8f0aac9306226644"
   },
   "outputs": [
    {
     "data": {
      "text/plain": [
       "{'lda__n_components': 1, 'model__n_neighbors': 125}"
      ]
     },
     "execution_count": 96,
     "metadata": {},
     "output_type": "execute_result"
    }
   ],
   "source": [
    "grid_knn.best_params_"
   ]
  },
  {
   "cell_type": "markdown",
   "metadata": {
    "_uuid": "6f03f5ac3f24ca51d9b38fe9d5cdcaaf6f4283d4"
   },
   "source": [
    "Only 1 LDA components is necessary for kNN to perform almost as well as logistic regression!"
   ]
  },
  {
   "cell_type": "code",
   "execution_count": 97,
   "metadata": {},
   "outputs": [
    {
     "name": "stdout",
     "output_type": "stream",
     "text": [
      "[[389776  11077]\n",
      " [100030  13800]]\n"
     ]
    },
    {
     "data": {
      "text/plain": [
       "<matplotlib.axes._subplots.AxesSubplot at 0x7f98fe9c1310>"
      ]
     },
     "execution_count": 97,
     "metadata": {},
     "output_type": "execute_result"
    },
    {
     "data": {
      "image/png": "[encoded data removed]",
      "text/plain": [
       "<Figure size 432x288 with 2 Axes>"
      ]
     },
     "metadata": {},
     "output_type": "display_data"
    }
   ],
   "source": [
    "# Generate predictions with the model using our X values\n",
    "y_pred = grid_knn.predict(X_train)\n",
    "\n",
    "# Get the confusion matrix\n",
    "cf_matrix = confusion_matrix(y_train, y_pred)\n",
    "print(cf_matrix)\n",
    "\n",
    "labels = [\"True Neg\",\"False Pos\",\"False Neg\",\"True Pos\"]\n",
    "labels = np.asarray(labels).reshape(2,2)\n",
    "sns.heatmap(cf_matrix/np.sum(cf_matrix), annot=labels, fmt=\"\", cmap=\"Blues\")"
   ]
  },
  {
   "cell_type": "markdown",
   "metadata": {
    "_cell_guid": "61ffd538-9579-4638-8156-bcb3f29b39ab",
    "_uuid": "f3b87036a9ae078b8a9cc36ce5b47f734059358c"
   },
   "source": [
    "<a id=\"section-four-two\"></a>\n",
    "## 4.2 Test set evaluation"
   ]
  },
  {
   "cell_type": "markdown",
   "metadata": {
    "_uuid": "392c3c4194201722d6139f71c030be32411858f4"
   },
   "source": [
    "Now we can finally see how our chosen model performs on the test data (the most recent 10% of the chosen subset of loans on LendingClub)."
   ]
  },
  {
   "cell_type": "code",
   "execution_count": 98,
   "metadata": {
    "_uuid": "5e30cfcec41346c823cfd51b574de4628a091cb1"
   },
   "outputs": [],
   "source": [
    "from sklearn.metrics import roc_auc_score"
   ]
  },
  {
   "cell_type": "code",
   "execution_count": 99,
   "metadata": {
    "_uuid": "9422581825e175f37148cfae47016c7a81bbe29a"
   },
   "outputs": [
    {
     "data": {
      "text/plain": [
       "0.6870608582184101"
      ]
     },
     "execution_count": 99,
     "metadata": {},
     "output_type": "execute_result"
    }
   ],
   "source": [
    "y_score = grid_sgdlogreg.predict_proba(X_test)[:,1]\n",
    "roc_auc_score(y_test, y_score)"
   ]
  },
  {
   "cell_type": "markdown",
   "metadata": {
    "_uuid": "75ec79860214bfcc917bf58cc1f945b58ed5e8a6"
   },
   "source": [
    "The test set AUROC score is somewhat lower than the cross-validated score (0.687)."
   ]
  },
  {
   "cell_type": "code",
   "execution_count": 100,
   "metadata": {},
   "outputs": [
    {
     "name": "stdout",
     "output_type": "stream",
     "text": [
      "[[47043  2389]\n",
      " [15404  2450]]\n"
     ]
    },
    {
     "data": {
      "text/plain": [
       "<matplotlib.axes._subplots.AxesSubplot at 0x7f98fe33f710>"
      ]
     },
     "execution_count": 100,
     "metadata": {},
     "output_type": "execute_result"
    },
    {
     "data": {
      "image/png": "[encoded data removed]",
      "text/plain": [
       "<Figure size 432x288 with 2 Axes>"
      ]
     },
     "metadata": {},
     "output_type": "display_data"
    }
   ],
   "source": [
    "# Generate predictions with the model using our X values\n",
    "y_pred = grid_sgdlogreg.predict(X_test)\n",
    "\n",
    "# Get the confusion matrix\n",
    "cf_matrix = confusion_matrix(y_test, y_pred)\n",
    "print(cf_matrix)\n",
    "\n",
    "labels = [\"True Neg\",\"False Pos\",\"False Neg\",\"True Pos\"]\n",
    "labels = np.asarray(labels).reshape(2,2)\n",
    "sns.heatmap(cf_matrix/np.sum(cf_matrix), annot=labels, fmt=\"\", cmap=\"Blues\")"
   ]
  },
  {
   "cell_type": "markdown",
   "metadata": {
    "_uuid": "4d779c09e670092936e083526dffbdd12e02e1c6"
   },
   "source": [
    "<a id=\"section-five\"></a>\n",
    "# 5. CONCLUSION"
   ]
  },
  {
   "cell_type": "markdown",
   "metadata": {
    "_uuid": "d93f5d6f4cc477e453a27475cd8647f97b642dc2"
   },
   "source": [
    "We explore three machine learning methods to estimate the probability of non-payment of a requested loan on LendingClub: logistic regression, random forest, and k-nearest neighbors. We train, evaluate, and find that the performance for all the models - they are somewhat similar using a cross-validated AUROC score on the training data. Eventually, we choose logistic regression (with ridge penalty) because of its execution speed is the fastest and its AUROC score the highest. This model has an AUROC score of 0.687 on a test dataset with the most recent 10% loans/notes.\n",
    "\n",
    "This model offers insight into how likely a loan will not be repaid. The model builds upon features assessible by prospective investors (before the loan is fully funded)."
   ]
  },
  {
   "cell_type": "markdown",
   "metadata": {},
   "source": [
    "<a id=\"section-six\"></a>\n",
    "# 6. REFERENCE"
   ]
  },
  {
   "cell_type": "markdown",
   "metadata": {},
   "source": [
    "This notebook is adapted from a version coded by [Joe Corliss](https://www.kaggle.com/pileatedperch). The original dataset, which is aggregated on Kaggle, is available [HERE](https://www.lendingclub.com/info/download-data.action). The dataset, which is hosted on Kaggle, for this notebook is available [HERE](https://www.kaggle.com/wordsforthewise/lending-club)."
   ]
  }
 ],
 "metadata": {
  "kernelspec": {
   "display_name": "Python 3",
   "language": "python",
   "name": "python3"
  },
  "language_info": {
   "codemirror_mode": {
    "name": "ipython",
    "version": 3
   },
   "file_extension": ".py",
   "mimetype": "text/x-python",
   "name": "python",
   "nbconvert_exporter": "python",
   "pygments_lexer": "ipython3",
   "version": "3.8.5"
  }
 },
 "nbformat": 4,
 "nbformat_minor": 4
}
